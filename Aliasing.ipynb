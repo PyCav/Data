{
 "cells": [
  {
   "cell_type": "markdown",
   "metadata": {},
   "source": [
    "### Aliasing\n",
    "**Learning objectives: using fast fourier transforms, aliasing.**\n",
    "\n",
    "A noiseless analogue signal can be recovered perfectly from discretely sampled data, provided the sampling rate is greater than double the highest frequency component. This is Nyquist's theorem. If a signal is sampled below this rate, aliasing occurs."
   ]
  },
  {
   "cell_type": "code",
   "execution_count": 81,
   "metadata": {
    "collapsed": false
   },
   "outputs": [
    {
     "data": {
      "text/html": [
       "\n",
       "    <div class=\"bk-root\">\n",
       "        <a href=\"http://bokeh.pydata.org\" target=\"_blank\" class=\"bk-logo bk-logo-small bk-logo-notebook\"></a>\n",
       "        <span id=\"3c6c1e4d-2904-4c01-99d4-ea31c1444060\">Loading BokehJS ...</span>\n",
       "    </div>"
      ]
     },
     "metadata": {},
     "output_type": "display_data"
    },
    {
     "data": {
      "application/javascript": [
       "\n",
       "(function(global) {\n",
       "  function now() {\n",
       "    return new Date();\n",
       "  }\n",
       "\n",
       "  if (typeof (window._bokeh_onload_callbacks) === \"undefined\") {\n",
       "    window._bokeh_onload_callbacks = [];\n",
       "  }\n",
       "\n",
       "  function run_callbacks() {\n",
       "    window._bokeh_onload_callbacks.forEach(function(callback) { callback() });\n",
       "    delete window._bokeh_onload_callbacks\n",
       "    console.info(\"Bokeh: all callbacks have finished\");\n",
       "  }\n",
       "\n",
       "  function load_libs(js_urls, callback) {\n",
       "    window._bokeh_onload_callbacks.push(callback);\n",
       "    if (window._bokeh_is_loading > 0) {\n",
       "      console.log(\"Bokeh: BokehJS is being loaded, scheduling callback at\", now());\n",
       "      return null;\n",
       "    }\n",
       "    if (js_urls == null || js_urls.length === 0) {\n",
       "      run_callbacks();\n",
       "      return null;\n",
       "    }\n",
       "    console.log(\"Bokeh: BokehJS not loaded, scheduling load and callback at\", now());\n",
       "    window._bokeh_is_loading = js_urls.length;\n",
       "    for (var i = 0; i < js_urls.length; i++) {\n",
       "      var url = js_urls[i];\n",
       "      var s = document.createElement('script');\n",
       "      s.src = url;\n",
       "      s.async = false;\n",
       "      s.onreadystatechange = s.onload = function() {\n",
       "        window._bokeh_is_loading--;\n",
       "        if (window._bokeh_is_loading === 0) {\n",
       "          console.log(\"Bokeh: all BokehJS libraries loaded\");\n",
       "          run_callbacks()\n",
       "        }\n",
       "      };\n",
       "      s.onerror = function() {\n",
       "        console.warn(\"failed to load library \" + url);\n",
       "      };\n",
       "      console.log(\"Bokeh: injecting script tag for BokehJS library: \", url);\n",
       "      document.getElementsByTagName(\"head\")[0].appendChild(s);\n",
       "    }\n",
       "  };\n",
       "\n",
       "  var js_urls = ['https://cdn.pydata.org/bokeh/release/bokeh-0.12.0.min.js', 'https://cdn.pydata.org/bokeh/release/bokeh-widgets-0.12.0.min.js', 'https://cdn.pydata.org/bokeh/release/bokeh-compiler-0.12.0.min.js'];\n",
       "\n",
       "  var inline_js = [\n",
       "    function(Bokeh) {\n",
       "      Bokeh.set_log_level(\"info\");\n",
       "    },\n",
       "    \n",
       "    function(Bokeh) {\n",
       "      Bokeh.$(\"#3c6c1e4d-2904-4c01-99d4-ea31c1444060\").text(\"BokehJS successfully loaded\");\n",
       "    },\n",
       "    function(Bokeh) {\n",
       "      console.log(\"Bokeh: injecting CSS: https://cdn.pydata.org/bokeh/release/bokeh-0.12.0.min.css\");\n",
       "      Bokeh.embed.inject_css(\"https://cdn.pydata.org/bokeh/release/bokeh-0.12.0.min.css\");\n",
       "      console.log(\"Bokeh: injecting CSS: https://cdn.pydata.org/bokeh/release/bokeh-widgets-0.12.0.min.css\");\n",
       "      Bokeh.embed.inject_css(\"https://cdn.pydata.org/bokeh/release/bokeh-widgets-0.12.0.min.css\");\n",
       "    }\n",
       "  ];\n",
       "\n",
       "  function run_inline_js() {\n",
       "    for (var i = 0; i < inline_js.length; i++) {\n",
       "      inline_js[i](window.Bokeh);\n",
       "    }\n",
       "  }\n",
       "\n",
       "  if (window._bokeh_is_loading === 0) {\n",
       "    console.log(\"Bokeh: BokehJS loaded, going straight to plotting\");\n",
       "    run_inline_js();\n",
       "  } else {\n",
       "    load_libs(js_urls, function() {\n",
       "      console.log(\"Bokeh: BokehJS plotting callback run at\", now());\n",
       "      run_inline_js();\n",
       "    });\n",
       "  }\n",
       "}(this));"
      ]
     },
     "metadata": {},
     "output_type": "display_data"
    }
   ],
   "source": [
    "#NAME: Aliasing\n",
    "#DESCRIPTION: Demonstrates aliasing and the use of fast Fourier transforms.\n",
    "\n",
    "import numpy as np\n",
    "from numpy import pi\n",
    "from numpy.fft import fft, ifft, fftshift\n",
    "\n",
    "from bokeh.plotting import figure, show, output_notebook\n",
    "from bokeh.io import push_notebook, gridplot\n",
    "from ipywidgets import widgets, interact\n",
    "from IPython.display import display\n",
    "\n",
    "output_notebook()\n",
    "\n",
    "sample_no = 256\n",
    "signal_frequency = 100.0\n",
    "\n",
    "#time domain function f(t)\n",
    "t = np.linspace(0.0, 1.0,sample_no)\n",
    "f = np.cos(2*signal_frequency*pi*t)"
   ]
  },
  {
   "cell_type": "markdown",
   "metadata": {},
   "source": [
    "Time is plotted from 0s to 1s and there are 256 samples. The sampling frequency is therefore 256 Hz, giving a Nyqyuist limit of 128 Hz. Any signal of frequency greater than 128 Hz will be aliased to a frequency below this."
   ]
  },
  {
   "cell_type": "code",
   "execution_count": 82,
   "metadata": {
    "collapsed": false
   },
   "outputs": [
    {
     "data": {
      "text/html": [
       "\n",
       "\n",
       "    <div class=\"bk-root\">\n",
       "        <div class=\"plotdiv\" id=\"48ad0d1b-630d-49f2-b722-b50067ba85aa\"></div>\n",
       "    </div>\n",
       "<script type=\"text/javascript\">\n",
       "  \n",
       "  (function(global) {\n",
       "    function now() {\n",
       "      return new Date();\n",
       "    }\n",
       "  \n",
       "    if (typeof (window._bokeh_onload_callbacks) === \"undefined\") {\n",
       "      window._bokeh_onload_callbacks = [];\n",
       "    }\n",
       "  \n",
       "    function run_callbacks() {\n",
       "      window._bokeh_onload_callbacks.forEach(function(callback) { callback() });\n",
       "      delete window._bokeh_onload_callbacks\n",
       "      console.info(\"Bokeh: all callbacks have finished\");\n",
       "    }\n",
       "  \n",
       "    function load_libs(js_urls, callback) {\n",
       "      window._bokeh_onload_callbacks.push(callback);\n",
       "      if (window._bokeh_is_loading > 0) {\n",
       "        console.log(\"Bokeh: BokehJS is being loaded, scheduling callback at\", now());\n",
       "        return null;\n",
       "      }\n",
       "      if (js_urls == null || js_urls.length === 0) {\n",
       "        run_callbacks();\n",
       "        return null;\n",
       "      }\n",
       "      console.log(\"Bokeh: BokehJS not loaded, scheduling load and callback at\", now());\n",
       "      window._bokeh_is_loading = js_urls.length;\n",
       "      for (var i = 0; i < js_urls.length; i++) {\n",
       "        var url = js_urls[i];\n",
       "        var s = document.createElement('script');\n",
       "        s.src = url;\n",
       "        s.async = false;\n",
       "        s.onreadystatechange = s.onload = function() {\n",
       "          window._bokeh_is_loading--;\n",
       "          if (window._bokeh_is_loading === 0) {\n",
       "            console.log(\"Bokeh: all BokehJS libraries loaded\");\n",
       "            run_callbacks()\n",
       "          }\n",
       "        };\n",
       "        s.onerror = function() {\n",
       "          console.warn(\"failed to load library \" + url);\n",
       "        };\n",
       "        console.log(\"Bokeh: injecting script tag for BokehJS library: \", url);\n",
       "        document.getElementsByTagName(\"head\")[0].appendChild(s);\n",
       "      }\n",
       "    };var element = document.getElementById(\"48ad0d1b-630d-49f2-b722-b50067ba85aa\");\n",
       "    if (element == null) {\n",
       "      console.log(\"Bokeh: ERROR: autoload.js configured with elementid '48ad0d1b-630d-49f2-b722-b50067ba85aa' but no matching script tag was found. \")\n",
       "      return false;\n",
       "    }\n",
       "  \n",
       "    var js_urls = [];\n",
       "  \n",
       "    var inline_js = [\n",
       "      function(Bokeh) {\n",
       "        Bokeh.$(function() {\n",
       "            var docs_json = {\"0f62f2b9-770e-46c0-b23c-b9d18d106d87\":{\"roots\":{\"references\":[{\"attributes\":{\"plot\":{\"id\":\"6017e8ec-dccb-4c83-b185-14d6a3a75860\",\"subtype\":\"Figure\",\"type\":\"Plot\"}},\"id\":\"0999da49-5acc-4881-8cd4-07b5306bd614\",\"type\":\"ResetTool\"},{\"attributes\":{\"plot\":{\"id\":\"6017e8ec-dccb-4c83-b185-14d6a3a75860\",\"subtype\":\"Figure\",\"type\":\"Plot\"}},\"id\":\"bad4b290-fd27-41cd-8f83-9dce42c9c9b6\",\"type\":\"PanTool\"},{\"attributes\":{\"overlay\":{\"id\":\"ac84f084-46ee-49ab-9b80-05d78232ff63\",\"type\":\"BoxAnnotation\"},\"plot\":{\"id\":\"6017e8ec-dccb-4c83-b185-14d6a3a75860\",\"subtype\":\"Figure\",\"type\":\"Plot\"}},\"id\":\"bcb1d563-a9ec-4100-adbc-f358619e77d3\",\"type\":\"BoxZoomTool\"},{\"attributes\":{},\"id\":\"db669860-47ba-4de3-b6a5-f13994e9e376\",\"type\":\"BasicTicker\"},{\"attributes\":{},\"id\":\"7a89be9e-0a71-4df9-bb66-e50fb925ea09\",\"type\":\"BasicTicker\"},{\"attributes\":{\"axis_label\":\"FT(cosine)\",\"formatter\":{\"id\":\"cabcc5b6-f464-4f51-b2a0-ec7689c2d6a7\",\"type\":\"BasicTickFormatter\"},\"plot\":{\"id\":\"6017e8ec-dccb-4c83-b185-14d6a3a75860\",\"subtype\":\"Figure\",\"type\":\"Plot\"},\"ticker\":{\"id\":\"db669860-47ba-4de3-b6a5-f13994e9e376\",\"type\":\"BasicTicker\"}},\"id\":\"0f399e83-6c81-421d-921f-8152da961ff7\",\"type\":\"LinearAxis\"},{\"attributes\":{\"callback\":null},\"id\":\"2d779c30-3849-44c8-a450-e9aa2a93cc14\",\"type\":\"DataRange1d\"},{\"attributes\":{\"plot\":null,\"text\":null},\"id\":\"ba218d88-305c-4f97-b40e-fb5e28810051\",\"type\":\"Title\"},{\"attributes\":{\"callback\":null,\"column_names\":[\"x\",\"y\"],\"data\":{\"x\":[-128.0,-126.99607843137255,-125.9921568627451,-124.98823529411764,-123.9843137254902,-122.98039215686275,-121.97647058823529,-120.97254901960784,-119.96862745098039,-118.96470588235294,-117.9607843137255,-116.95686274509804,-115.95294117647059,-114.94901960784314,-113.94509803921568,-112.94117647058823,-111.93725490196078,-110.93333333333334,-109.92941176470589,-108.92549019607843,-107.92156862745098,-106.91764705882353,-105.91372549019607,-104.90980392156862,-103.90588235294118,-102.90196078431373,-101.89803921568628,-100.89411764705882,-99.89019607843137,-98.88627450980393,-97.88235294117646,-96.87843137254902,-95.87450980392157,-94.87058823529412,-93.86666666666667,-92.86274509803921,-91.85882352941177,-90.85490196078432,-89.85098039215686,-88.84705882352941,-87.84313725490196,-86.83921568627451,-85.83529411764707,-84.8313725490196,-83.82745098039216,-82.82352941176471,-81.81960784313725,-80.8156862745098,-79.81176470588235,-78.8078431372549,-77.80392156862746,-76.8,-75.79607843137255,-74.7921568627451,-73.78823529411764,-72.7843137254902,-71.78039215686275,-70.7764705882353,-69.77254901960785,-68.76862745098039,-67.76470588235294,-66.7607843137255,-65.75686274509803,-64.75294117647059,-63.74901960784314,-62.74509803921569,-61.74117647058824,-60.73725490196078,-59.733333333333334,-58.72941176470589,-57.725490196078425,-56.72156862745098,-55.71764705882353,-54.71372549019608,-53.709803921568636,-52.705882352941174,-51.70196078431373,-50.69803921568628,-49.69411764705882,-48.69019607843137,-47.68627450980392,-46.682352941176475,-45.67843137254903,-44.674509803921566,-43.67058823529412,-42.66666666666667,-41.66274509803921,-40.65882352941176,-39.654901960784315,-38.65098039215687,-37.64705882352942,-36.64313725490196,-35.63921568627451,-34.635294117647064,-33.6313725490196,-32.627450980392155,-31.623529411764707,-30.61960784313726,-29.615686274509812,-28.61176470588235,-27.607843137254903,-26.603921568627456,-25.599999999999994,-24.596078431372547,-23.5921568627451,-22.588235294117652,-21.584313725490205,-20.580392156862743,-19.576470588235296,-18.572549019607848,-17.568627450980387,-16.56470588235294,-15.560784313725492,-14.556862745098044,-13.552941176470597,-12.549019607843135,-11.545098039215688,-10.54117647058824,-9.537254901960779,-8.533333333333331,-7.529411764705884,-6.525490196078437,-5.521568627450989,-4.517647058823528,-3.51372549019608,-2.5098039215686327,-1.5058823529411711,-0.5019607843137237,0.5019607843137237,1.5058823529411711,2.5098039215686185,3.513725490196066,4.517647058823513,5.521568627450989,6.525490196078437,7.529411764705884,8.533333333333331,9.537254901960779,10.541176470588226,11.545098039215674,12.54901960784315,13.552941176470597,14.556862745098044,15.560784313725492,16.56470588235294,17.568627450980387,18.572549019607834,19.57647058823528,20.58039215686273,21.584313725490205,22.588235294117652,23.5921568627451,24.596078431372547,25.599999999999994,26.60392156862744,27.60784313725489,28.611764705882365,29.615686274509812,30.61960784313726,31.623529411764707,32.627450980392155,33.6313725490196,34.63529411764705,35.6392156862745,36.643137254901944,37.64705882352942,38.65098039215687,39.654901960784315,40.65882352941176,41.66274509803921,42.66666666666666,43.670588235294105,44.67450980392158,45.67843137254903,46.682352941176475,47.68627450980392,48.69019607843137,49.69411764705882,50.698039215686265,51.70196078431371,52.70588235294116,53.709803921568636,54.71372549019608,55.71764705882353,56.72156862745098,57.725490196078425,58.72941176470587,59.73333333333332,60.737254901960796,61.74117647058824,62.74509803921569,63.74901960784314,64.75294117647059,65.75686274509803,66.76078431372548,67.76470588235293,68.76862745098038,69.77254901960785,70.7764705882353,71.78039215686275,72.7843137254902,73.78823529411764,74.79215686274509,75.79607843137254,76.80000000000001,77.80392156862746,78.8078431372549,79.81176470588235,80.8156862745098,81.81960784313725,82.8235294117647,83.82745098039214,84.83137254901959,85.83529411764707,86.83921568627451,87.84313725490196,88.84705882352941,89.85098039215686,90.8549019607843,91.85882352941175,92.86274509803923,93.86666666666667,94.87058823529412,95.87450980392157,96.87843137254902,97.88235294117646,98.88627450980391,99.89019607843136,100.8941176470588,101.89803921568628,102.90196078431373,103.90588235294118,104.90980392156862,105.91372549019607,106.91764705882352,107.92156862745097,108.92549019607844,109.92941176470589,110.93333333333334,111.93725490196078,112.94117647058823,113.94509803921568,114.94901960784313,115.95294117647057,116.95686274509802,117.9607843137255,118.96470588235294,119.96862745098039,120.97254901960784,121.97647058823529,122.98039215686273,123.98431372549018,124.98823529411766,125.9921568627451,126.99607843137255,128.0],\"y\":[7.482903185973555e-14,0.09895852206490292,0.19871582027754375,0.30009188718249796,0.40395034230404164,0.5112233477309447,0.6229405904501527,0.7402643176270539,0.8645330785528264,0.997317854425667,1.1404958383999557,1.296349589071432,1.4677031781874597,1.6581132667758538,1.8721435446635646,2.115768974726919,2.3969882587921236,2.7267820535512777,3.1206689540449672,3.601345461742515,4.2034074139916,4.982357960466577,6.0332528706960105,7.533623810522212,9.857784229314927,13.954123935421014,23.130355476180554,62.46086735615294,98.7384234741131,28.34092053860135,16.792329348923012,12.047440127957639,9.459341089688689,7.8282706253866925,6.705227766250866,5.88416399675171,5.257234131332275,4.76251735510996,4.361921926542322,4.0307269583603595,3.752187803619665,3.5145583333655757,3.309354589833697,3.130295267750646,2.9726299968907837,2.83269934471439,2.7076383481295827,2.595171765410164,2.4934695642923703,2.4010429362158328,2.3166681683832047,2.239330037761887,2.1681791250653144,2.1024992116482895,2.041682085325415,1.9852078620279876,1.932629463616922,1.8835602622216403,1.8376641619529668,1.7946475746464734,1.7542528804639212,1.7162530621969687,1.6804472745023094,1.646657163229239,1.6147237906558494,1.584505053274002,1.555873502383637,1.5287144959761196,1.502924624549648,1.478410364575316,1.455086922068202,1.432877235638079,1.4117111138968625,1.3915244865522622,1.3722587520455094,1.3538602075153905,1.3362795491912753,1.319471433268399,1.3033940888726498,1.2880089760484765,1.2732804827675281,1.259175655860114,1.2456639615173801,1.2327170716449547,1.2203086728671526,1.2084142954399573,1.1970111596883404,1.1860780379226554,1.1755951300466851,1.1655439513059445,1.1559072308260012,1.1466688197599648,1.1378136080043224,1.1293274485905973,1.1211970889263836,1.1134101082109666,1.1059548603850664,1.0988204220700242,1.0919965450128049,1.0854736125945486,1.0792426000338637,1.0732950379208572,1.067622978802314,1.0622189665168624,1.0570760080654371,1.0521875477721137,1.0475474435622878,1.043149945164769,1.0389896740940157,1.0350616052605828,1.0313610500908454,1.0278836410367316,1.0246253173729056,1.0215823121911098,1.0187511405075396,1.0161285884065194,1.0137117031579506,1.0114977842418031,1.0094843752330114,1.0076692564942242,1.0060504386334717,1.0046261566933374,1.0033948650334352,1.002355232880198,1.001506140518677,1.0008466761051527,1.0003761330802612,1.0000940081774834,0.9999999999999198,1.0000940081774865,1.000376133080259,1.0008466761051473,1.0015061405186663,1.0023552328802108,1.003394865033436,1.0046261566933377,1.006050438633471,1.0076692564942262,1.0094843752330083,1.0114977842417936,1.0137117031579634,1.0161285884065225,1.0187511405075385,1.0215823121911067,1.0246253173729034,1.0278836410367345,1.0313610500908434,1.0350616052605772,1.0389896740939994,1.0431499451647746,1.0475474435622871,1.0521875477721088,1.0570760080654338,1.062218966516861,1.0676229788023037,1.0732950379208295,1.079242600033902,1.0854736125945597,1.0919965450128086,1.0988204220700226,1.1059548603850653,1.1134101082109678,1.1211970889263776,1.1293274485905829,1.137813608004263,1.1466688197599995,1.1559072308260137,1.1655439513059505,1.175595130046691,1.186078037922662,1.1970111596883435,1.2084142954399564,1.2203086728671673,1.2327170716449642,1.2456639615173868,1.259175655860116,1.2732804827675313,1.28800897604848,1.3033940888726518,1.3194714332683926,1.3362795491912598,1.3538602075154078,1.3722587520455145,1.391524486552263,1.4117111138968652,1.4328772356380843,1.4550869220682037,1.4784103645753088,1.5029246245496655,1.5287144959761287,1.5558735023836388,1.5845050532740017,1.6147237906558494,1.6466571632292442,1.68044727450231,1.7162530621969636,1.7542528804638984,1.794647574646487,1.8376641619529714,1.8835602622216392,1.932629463616924,1.9852078620279954,2.0416820853254167,2.1024992116482877,2.1681791250653304,2.2393300377618988,2.316668168383208,2.401042936215829,2.4934695642923703,2.59517176541017,2.7076383481295805,2.83269934471438,2.9726299968907335,3.130295267750681,3.309354589833707,3.5145583333655797,3.752187803619669,4.030726958360372,4.361921926542319,4.762517355109934,5.257234131332331,5.88416399675175,6.705227766250885,7.828270625386698,9.459341089688694,12.04744012795769,16.792329348923037,28.34092053860137,98.7384234741131,62.460867356152924,23.130355476180533,13.954123935420988,9.857784229314921,7.533623810522231,6.03325287069601,4.982357960466576,4.203407413991576,3.601345461742516,3.1206689540449606,2.726782053551267,2.3969882587921214,2.115768974726918,1.8721435446635544,1.6581132667758403,1.4677031781874033,1.2963495890714565,1.1404958383999633,0.9973178544256699,0.8645330785528288,0.7402643176270619,0.6229405904501578,0.5112233477309592,0.40395034230401783,0.30009188718249097,0.1987158202775389,0.09895852206490154]}},\"id\":\"149f824f-0511-4523-b14d-f154fedc6db5\",\"type\":\"ColumnDataSource\"},{\"attributes\":{},\"id\":\"986d5cfd-341a-4312-b039-f363ee1fb815\",\"type\":\"ToolEvents\"},{\"attributes\":{\"below\":[{\"id\":\"acfa9a2b-b7ea-4560-a05d-07f7f60b5967\",\"type\":\"LinearAxis\"}],\"left\":[{\"id\":\"0f399e83-6c81-421d-921f-8152da961ff7\",\"type\":\"LinearAxis\"}],\"renderers\":[{\"id\":\"acfa9a2b-b7ea-4560-a05d-07f7f60b5967\",\"type\":\"LinearAxis\"},{\"id\":\"921f202d-1086-45ba-8698-12d24c10172f\",\"type\":\"Grid\"},{\"id\":\"0f399e83-6c81-421d-921f-8152da961ff7\",\"type\":\"LinearAxis\"},{\"id\":\"d58ea4dd-6644-4ace-8ce1-68487c235656\",\"type\":\"Grid\"},{\"id\":\"ac84f084-46ee-49ab-9b80-05d78232ff63\",\"type\":\"BoxAnnotation\"},{\"id\":\"0aebe969-97da-4626-b171-98814cf1fb66\",\"type\":\"GlyphRenderer\"}],\"title\":{\"id\":\"ba218d88-305c-4f97-b40e-fb5e28810051\",\"type\":\"Title\"},\"tool_events\":{\"id\":\"986d5cfd-341a-4312-b039-f363ee1fb815\",\"type\":\"ToolEvents\"},\"toolbar\":{\"id\":\"29b922fc-5546-484a-8bdc-676a9e47bf96\",\"type\":\"Toolbar\"},\"x_range\":{\"id\":\"2d779c30-3849-44c8-a450-e9aa2a93cc14\",\"type\":\"DataRange1d\"},\"y_range\":{\"id\":\"62af627a-0531-4ac7-afe2-a9ca774d9136\",\"type\":\"DataRange1d\"}},\"id\":\"6017e8ec-dccb-4c83-b185-14d6a3a75860\",\"subtype\":\"Figure\",\"type\":\"Plot\"},{\"attributes\":{\"plot\":{\"id\":\"6017e8ec-dccb-4c83-b185-14d6a3a75860\",\"subtype\":\"Figure\",\"type\":\"Plot\"},\"ticker\":{\"id\":\"7a89be9e-0a71-4df9-bb66-e50fb925ea09\",\"type\":\"BasicTicker\"}},\"id\":\"921f202d-1086-45ba-8698-12d24c10172f\",\"type\":\"Grid\"},{\"attributes\":{\"line_alpha\":{\"value\":0.1},\"line_color\":{\"value\":\"#1f77b4\"},\"x\":{\"field\":\"x\"},\"y\":{\"field\":\"y\"}},\"id\":\"08547348-6453-449c-af67-9e36ec728877\",\"type\":\"Line\"},{\"attributes\":{\"callback\":null},\"id\":\"62af627a-0531-4ac7-afe2-a9ca774d9136\",\"type\":\"DataRange1d\"},{\"attributes\":{\"plot\":{\"id\":\"6017e8ec-dccb-4c83-b185-14d6a3a75860\",\"subtype\":\"Figure\",\"type\":\"Plot\"}},\"id\":\"63a27195-eaa2-42d5-9b0e-b4cf4c4caf5c\",\"type\":\"HelpTool\"},{\"attributes\":{\"plot\":{\"id\":\"6017e8ec-dccb-4c83-b185-14d6a3a75860\",\"subtype\":\"Figure\",\"type\":\"Plot\"}},\"id\":\"a3cce28b-8e97-4184-83b6-0ae3ec1fcc6a\",\"type\":\"WheelZoomTool\"},{\"attributes\":{\"line_color\":{\"value\":\"#1f77b4\"},\"x\":{\"field\":\"x\"},\"y\":{\"field\":\"y\"}},\"id\":\"9189c52f-de53-44b2-9c14-3e9f5a975262\",\"type\":\"Line\"},{\"attributes\":{\"data_source\":{\"id\":\"149f824f-0511-4523-b14d-f154fedc6db5\",\"type\":\"ColumnDataSource\"},\"glyph\":{\"id\":\"9189c52f-de53-44b2-9c14-3e9f5a975262\",\"type\":\"Line\"},\"hover_glyph\":null,\"nonselection_glyph\":{\"id\":\"08547348-6453-449c-af67-9e36ec728877\",\"type\":\"Line\"},\"selection_glyph\":null},\"id\":\"0aebe969-97da-4626-b171-98814cf1fb66\",\"type\":\"GlyphRenderer\"},{\"attributes\":{\"active_drag\":\"auto\",\"active_scroll\":\"auto\",\"active_tap\":\"auto\",\"tools\":[{\"id\":\"bad4b290-fd27-41cd-8f83-9dce42c9c9b6\",\"type\":\"PanTool\"},{\"id\":\"a3cce28b-8e97-4184-83b6-0ae3ec1fcc6a\",\"type\":\"WheelZoomTool\"},{\"id\":\"bcb1d563-a9ec-4100-adbc-f358619e77d3\",\"type\":\"BoxZoomTool\"},{\"id\":\"717aa8eb-bad4-4863-a2a0-c8065a474510\",\"type\":\"SaveTool\"},{\"id\":\"0999da49-5acc-4881-8cd4-07b5306bd614\",\"type\":\"ResetTool\"},{\"id\":\"63a27195-eaa2-42d5-9b0e-b4cf4c4caf5c\",\"type\":\"HelpTool\"}]},\"id\":\"29b922fc-5546-484a-8bdc-676a9e47bf96\",\"type\":\"Toolbar\"},{\"attributes\":{},\"id\":\"cabcc5b6-f464-4f51-b2a0-ec7689c2d6a7\",\"type\":\"BasicTickFormatter\"},{\"attributes\":{},\"id\":\"6dc4db3e-ce20-400d-b141-9618c75fd64c\",\"type\":\"BasicTickFormatter\"},{\"attributes\":{\"plot\":{\"id\":\"6017e8ec-dccb-4c83-b185-14d6a3a75860\",\"subtype\":\"Figure\",\"type\":\"Plot\"}},\"id\":\"717aa8eb-bad4-4863-a2a0-c8065a474510\",\"type\":\"SaveTool\"},{\"attributes\":{\"bottom_units\":\"screen\",\"fill_alpha\":{\"value\":0.5},\"fill_color\":{\"value\":\"lightgrey\"},\"left_units\":\"screen\",\"level\":\"overlay\",\"line_alpha\":{\"value\":1.0},\"line_color\":{\"value\":\"black\"},\"line_dash\":[4,4],\"line_width\":{\"value\":2},\"plot\":null,\"render_mode\":\"css\",\"right_units\":\"screen\",\"top_units\":\"screen\"},\"id\":\"ac84f084-46ee-49ab-9b80-05d78232ff63\",\"type\":\"BoxAnnotation\"},{\"attributes\":{\"axis_label\":\"Frequency/Hz\",\"formatter\":{\"id\":\"6dc4db3e-ce20-400d-b141-9618c75fd64c\",\"type\":\"BasicTickFormatter\"},\"plot\":{\"id\":\"6017e8ec-dccb-4c83-b185-14d6a3a75860\",\"subtype\":\"Figure\",\"type\":\"Plot\"},\"ticker\":{\"id\":\"7a89be9e-0a71-4df9-bb66-e50fb925ea09\",\"type\":\"BasicTicker\"}},\"id\":\"acfa9a2b-b7ea-4560-a05d-07f7f60b5967\",\"type\":\"LinearAxis\"},{\"attributes\":{\"dimension\":1,\"plot\":{\"id\":\"6017e8ec-dccb-4c83-b185-14d6a3a75860\",\"subtype\":\"Figure\",\"type\":\"Plot\"},\"ticker\":{\"id\":\"db669860-47ba-4de3-b6a5-f13994e9e376\",\"type\":\"BasicTicker\"}},\"id\":\"d58ea4dd-6644-4ace-8ce1-68487c235656\",\"type\":\"Grid\"}],\"root_ids\":[\"6017e8ec-dccb-4c83-b185-14d6a3a75860\"]},\"title\":\"Bokeh Application\",\"version\":\"0.12.0\"}};\n",
       "            var render_items = [{\"docid\":\"0f62f2b9-770e-46c0-b23c-b9d18d106d87\",\"elementid\":\"48ad0d1b-630d-49f2-b722-b50067ba85aa\",\"modelid\":\"6017e8ec-dccb-4c83-b185-14d6a3a75860\",\"notebook_comms_target\":\"f683f871-d539-49aa-8b37-6823382e137f\"}];\n",
       "            \n",
       "            Bokeh.embed.embed_items(docs_json, render_items);\n",
       "        });\n",
       "      },\n",
       "      function(Bokeh) {\n",
       "      }\n",
       "    ];\n",
       "  \n",
       "    function run_inline_js() {\n",
       "      for (var i = 0; i < inline_js.length; i++) {\n",
       "        inline_js[i](window.Bokeh);\n",
       "      }\n",
       "    }\n",
       "  \n",
       "    if (window._bokeh_is_loading === 0) {\n",
       "      console.log(\"Bokeh: BokehJS loaded, going straight to plotting\");\n",
       "      run_inline_js();\n",
       "    } else {\n",
       "      load_libs(js_urls, function() {\n",
       "        console.log(\"Bokeh: BokehJS plotting callback run at\", now());\n",
       "        run_inline_js();\n",
       "      });\n",
       "    }\n",
       "  }(this));\n",
       "</script>"
      ]
     },
     "metadata": {},
     "output_type": "display_data"
    },
    {
     "data": {
      "text/html": [
       "<p><code>&lt;Bokeh Notebook handle for <strong>In[82]</strong>&gt;</code></p>"
      ],
      "text/plain": [
       "<bokeh.io._CommsHandle at 0x21050e575c0>"
      ]
     },
     "execution_count": 82,
     "metadata": {},
     "output_type": "execute_result"
    }
   ],
   "source": [
    "#frequency space domain function F(v) = FT(f(t))\n",
    "v = np.linspace(-0.5*sample_no, 0.5*sample_no, sample_no)\n",
    "F = fftshift(abs(fft(f)))\n",
    "\n",
    "#plot the function F(v)\n",
    "p1 = figure(x_axis_label = 'Frequency/Hz', y_axis_label = 'FT(cosine)')\n",
    "q1 = p1.line(v, F)\n",
    "\n",
    "show(p1)"
   ]
  },
  {
   "cell_type": "code",
   "execution_count": 83,
   "metadata": {
    "collapsed": false
   },
   "outputs": [],
   "source": [
    "def change_frequency(signal_frequency):\n",
    "    f = np.cos(2*signal_frequency*pi*t)\n",
    "    F = fftshift(abs(fft(f)))\n",
    "    q1.data_source.data['y'] = F\n",
    "    push_notebook()\n",
    "\n",
    "interact(change_frequency, signal_frequency=widgets.IntSlider(min=0,max=256,step=1,value=8));"
   ]
  },
  {
   "cell_type": "markdown",
   "metadata": {
    "collapsed": true
   },
   "source": [
    "When the signal frequency exceeds the Nyquist limit it is aliased back to a lower frequency. This can lead to severe distortion of sampled signals. A frequency $f$ in the signal with $f_{sampling} < 2f < 2f_{sampling}$ will 'bounce back' and appear at $2f_{sampling} - f$. \n",
    "\n",
    "Consider aliasing of a pair of sinc functions:"
   ]
  },
  {
   "cell_type": "code",
   "execution_count": 84,
   "metadata": {
    "collapsed": false
   },
   "outputs": [],
   "source": [
    "hat_width = 100\n",
    "\n",
    "#time domain signal\n",
    "top_hat = np.zeros(sample_no)\n",
    "for i in range(sample_no):\n",
    "    if abs(i-int(sample_no/2)) < int(0.5*hat_width):\n",
    "        top_hat[i] = 1.0\n",
    "    \n",
    "p2 = figure(height = 300, width = 300, title = 'Top Hat', x_axis_label = 'time/s')\n",
    "q2 = p2.line(t, top_hat)"
   ]
  },
  {
   "cell_type": "code",
   "execution_count": 85,
   "metadata": {
    "collapsed": false
   },
   "outputs": [],
   "source": [
    "#frequency space signal\n",
    "FT_top_hat = fftshift(fft(top_hat))\n",
    "\n",
    "p3 = figure(height = 300, width = 300, title = 'Real Part of of FT{top_hat}', x_axis_label = 'frequency/Hz')\n",
    "q3 = p3.line(v, np.real(FT_top_hat))"
   ]
  },
  {
   "cell_type": "code",
   "execution_count": 86,
   "metadata": {
    "collapsed": false
   },
   "outputs": [
    {
     "data": {
      "text/html": [
       "\n",
       "\n",
       "    <div class=\"bk-root\">\n",
       "        <div class=\"plotdiv\" id=\"a2f603e0-d290-4fc6-ba03-001bff054ebd\"></div>\n",
       "    </div>\n",
       "<script type=\"text/javascript\">\n",
       "  \n",
       "  (function(global) {\n",
       "    function now() {\n",
       "      return new Date();\n",
       "    }\n",
       "  \n",
       "    if (typeof (window._bokeh_onload_callbacks) === \"undefined\") {\n",
       "      window._bokeh_onload_callbacks = [];\n",
       "    }\n",
       "  \n",
       "    function run_callbacks() {\n",
       "      window._bokeh_onload_callbacks.forEach(function(callback) { callback() });\n",
       "      delete window._bokeh_onload_callbacks\n",
       "      console.info(\"Bokeh: all callbacks have finished\");\n",
       "    }\n",
       "  \n",
       "    function load_libs(js_urls, callback) {\n",
       "      window._bokeh_onload_callbacks.push(callback);\n",
       "      if (window._bokeh_is_loading > 0) {\n",
       "        console.log(\"Bokeh: BokehJS is being loaded, scheduling callback at\", now());\n",
       "        return null;\n",
       "      }\n",
       "      if (js_urls == null || js_urls.length === 0) {\n",
       "        run_callbacks();\n",
       "        return null;\n",
       "      }\n",
       "      console.log(\"Bokeh: BokehJS not loaded, scheduling load and callback at\", now());\n",
       "      window._bokeh_is_loading = js_urls.length;\n",
       "      for (var i = 0; i < js_urls.length; i++) {\n",
       "        var url = js_urls[i];\n",
       "        var s = document.createElement('script');\n",
       "        s.src = url;\n",
       "        s.async = false;\n",
       "        s.onreadystatechange = s.onload = function() {\n",
       "          window._bokeh_is_loading--;\n",
       "          if (window._bokeh_is_loading === 0) {\n",
       "            console.log(\"Bokeh: all BokehJS libraries loaded\");\n",
       "            run_callbacks()\n",
       "          }\n",
       "        };\n",
       "        s.onerror = function() {\n",
       "          console.warn(\"failed to load library \" + url);\n",
       "        };\n",
       "        console.log(\"Bokeh: injecting script tag for BokehJS library: \", url);\n",
       "        document.getElementsByTagName(\"head\")[0].appendChild(s);\n",
       "      }\n",
       "    };var element = document.getElementById(\"a2f603e0-d290-4fc6-ba03-001bff054ebd\");\n",
       "    if (element == null) {\n",
       "      console.log(\"Bokeh: ERROR: autoload.js configured with elementid 'a2f603e0-d290-4fc6-ba03-001bff054ebd' but no matching script tag was found. \")\n",
       "      return false;\n",
       "    }\n",
       "  \n",
       "    var js_urls = [];\n",
       "  \n",
       "    var inline_js = [\n",
       "      function(Bokeh) {\n",
       "        Bokeh.$(function() {\n",
       "            var docs_json = {\"c140ad4e-4ed0-41cd-8618-014d8f30e23b\":{\"roots\":{\"references\":[{\"attributes\":{\"plot\":{\"id\":\"f5eea5c5-6ff8-41b5-bced-0be5b94ed4eb\",\"subtype\":\"Figure\",\"type\":\"Plot\"}},\"id\":\"c69008b6-d223-4321-b846-9cb811811f13\",\"type\":\"SaveTool\"},{\"attributes\":{\"plot\":{\"id\":\"2f985e17-ae3d-4073-9066-d974677fc623\",\"subtype\":\"Figure\",\"type\":\"Plot\"}},\"id\":\"f3b392eb-e7b1-4b69-890f-71ac56e25231\",\"type\":\"SaveTool\"},{\"attributes\":{\"plot\":null,\"text\":\"Real Part of IFT{FT{top_hat}}\"},\"id\":\"99514419-8a75-42ab-bda1-3a3d872bd496\",\"type\":\"Title\"},{\"attributes\":{\"active_drag\":\"auto\",\"active_scroll\":\"auto\",\"active_tap\":\"auto\",\"tools\":[{\"id\":\"358735ca-0781-4f69-a06a-1183d7830a21\",\"type\":\"PanTool\"},{\"id\":\"42a5ff50-ff33-461e-8a90-2fec1820a0a3\",\"type\":\"WheelZoomTool\"},{\"id\":\"eeec5f52-ff34-4705-94d1-ed2bef24deed\",\"type\":\"BoxZoomTool\"},{\"id\":\"1a766ed6-d8a8-4f0d-918b-74e3cbed2fe2\",\"type\":\"SaveTool\"},{\"id\":\"6f67290d-d49b-45d0-89b8-291d9f42b314\",\"type\":\"ResetTool\"},{\"id\":\"e6cd1412-8eb5-41d8-9837-6b64625d56d4\",\"type\":\"HelpTool\"}]},\"id\":\"85d21797-df80-417d-b776-d47962c6ebfd\",\"type\":\"Toolbar\"},{\"attributes\":{},\"id\":\"cad12564-4f94-4b08-a200-07bd0e9386de\",\"type\":\"BasicTickFormatter\"},{\"attributes\":{\"plot\":null,\"text\":\"Real Part of of FT{top_hat}\"},\"id\":\"e5015318-172c-48b1-9375-f7cd3a9f128e\",\"type\":\"Title\"},{\"attributes\":{\"callback\":null},\"id\":\"40b46676-9a05-4010-9763-51fc75cb3026\",\"type\":\"DataRange1d\"},{\"attributes\":{\"plot\":{\"id\":\"c4eb7700-55f4-4ba4-a71b-fd8a47e190f9\",\"subtype\":\"Figure\",\"type\":\"Plot\"}},\"id\":\"1a766ed6-d8a8-4f0d-918b-74e3cbed2fe2\",\"type\":\"SaveTool\"},{\"attributes\":{\"plot\":{\"id\":\"2f985e17-ae3d-4073-9066-d974677fc623\",\"subtype\":\"Figure\",\"type\":\"Plot\"}},\"id\":\"5bd80f6e-92fb-4bde-8e4a-0ba43e619da3\",\"type\":\"HelpTool\"},{\"attributes\":{\"plot\":{\"id\":\"2f985e17-ae3d-4073-9066-d974677fc623\",\"subtype\":\"Figure\",\"type\":\"Plot\"},\"ticker\":{\"id\":\"d22bdde3-6561-47f5-9ad5-c9bc05bb02fc\",\"type\":\"BasicTicker\"}},\"id\":\"bfdfb11c-1ae6-4116-ad7f-01c7cc9ef248\",\"type\":\"Grid\"},{\"attributes\":{\"callback\":null},\"id\":\"7692b21b-b30e-442a-83bd-a67963d2b8bb\",\"type\":\"DataRange1d\"},{\"attributes\":{\"axis_label\":\"time/s\",\"formatter\":{\"id\":\"9fe811ea-cdc0-4507-a599-827a498cc111\",\"type\":\"BasicTickFormatter\"},\"plot\":{\"id\":\"f5eea5c5-6ff8-41b5-bced-0be5b94ed4eb\",\"subtype\":\"Figure\",\"type\":\"Plot\"},\"ticker\":{\"id\":\"bb99c8d3-c7b4-42a9-9637-d8b15a02d942\",\"type\":\"BasicTicker\"}},\"id\":\"6250ab05-49cd-4976-bd69-6d67ebbb08cf\",\"type\":\"LinearAxis\"},{\"attributes\":{\"dimension\":1,\"plot\":{\"id\":\"f5eea5c5-6ff8-41b5-bced-0be5b94ed4eb\",\"subtype\":\"Figure\",\"type\":\"Plot\"},\"ticker\":{\"id\":\"41eb32eb-4db3-4200-96bd-e8a8ba728bc1\",\"type\":\"BasicTicker\"}},\"id\":\"fc8deb7a-d025-438d-8f71-019b68b784f6\",\"type\":\"Grid\"},{\"attributes\":{\"plot\":{\"id\":\"f5eea5c5-6ff8-41b5-bced-0be5b94ed4eb\",\"subtype\":\"Figure\",\"type\":\"Plot\"}},\"id\":\"6546ac50-eeab-4c55-a271-65e19feb8cc2\",\"type\":\"HelpTool\"},{\"attributes\":{\"plot\":{\"id\":\"c4eb7700-55f4-4ba4-a71b-fd8a47e190f9\",\"subtype\":\"Figure\",\"type\":\"Plot\"}},\"id\":\"358735ca-0781-4f69-a06a-1183d7830a21\",\"type\":\"PanTool\"},{\"attributes\":{},\"id\":\"41eb32eb-4db3-4200-96bd-e8a8ba728bc1\",\"type\":\"BasicTicker\"},{\"attributes\":{},\"id\":\"cc707b49-d41f-402b-ae3e-f439f1fb57dd\",\"type\":\"BasicTicker\"},{\"attributes\":{\"dimension\":1,\"plot\":{\"id\":\"c4eb7700-55f4-4ba4-a71b-fd8a47e190f9\",\"subtype\":\"Figure\",\"type\":\"Plot\"},\"ticker\":{\"id\":\"cc707b49-d41f-402b-ae3e-f439f1fb57dd\",\"type\":\"BasicTicker\"}},\"id\":\"c7442ad0-f9e9-44dd-b47c-9e3f7db42e37\",\"type\":\"Grid\"},{\"attributes\":{\"formatter\":{\"id\":\"b3ea4417-9cbe-4eac-812c-100869aad65e\",\"type\":\"BasicTickFormatter\"},\"plot\":{\"id\":\"f5eea5c5-6ff8-41b5-bced-0be5b94ed4eb\",\"subtype\":\"Figure\",\"type\":\"Plot\"},\"ticker\":{\"id\":\"41eb32eb-4db3-4200-96bd-e8a8ba728bc1\",\"type\":\"BasicTicker\"}},\"id\":\"c15458e6-f7f4-481b-a57c-04929cfdb810\",\"type\":\"LinearAxis\"},{\"attributes\":{\"callback\":null},\"id\":\"6ae8dd8d-1d31-409f-89f1-59213aa443ee\",\"type\":\"DataRange1d\"},{\"attributes\":{\"children\":[{\"id\":\"1e27b864-9979-4bd5-b0db-8cf7ca11eca0\",\"type\":\"ToolbarBox\"},{\"id\":\"6fd1c925-2a65-4105-8a48-95740cdd6176\",\"type\":\"Column\"}]},\"id\":\"76e0bcba-a361-4b29-878e-cc2613699f86\",\"type\":\"Column\"},{\"attributes\":{},\"id\":\"bb99c8d3-c7b4-42a9-9637-d8b15a02d942\",\"type\":\"BasicTicker\"},{\"attributes\":{\"axis_label\":\"frequency/Hz\",\"formatter\":{\"id\":\"857c89da-dac6-43a5-9fcb-60cb9b9ca10d\",\"type\":\"BasicTickFormatter\"},\"plot\":{\"id\":\"2f985e17-ae3d-4073-9066-d974677fc623\",\"subtype\":\"Figure\",\"type\":\"Plot\"},\"ticker\":{\"id\":\"d22bdde3-6561-47f5-9ad5-c9bc05bb02fc\",\"type\":\"BasicTicker\"}},\"id\":\"32330bc0-bec9-4d87-8ad0-4fa52caaf9ef\",\"type\":\"LinearAxis\"},{\"attributes\":{\"sizing_mode\":\"scale_width\",\"toolbar_location\":\"above\",\"tools\":[{\"id\":\"358735ca-0781-4f69-a06a-1183d7830a21\",\"type\":\"PanTool\"},{\"id\":\"42a5ff50-ff33-461e-8a90-2fec1820a0a3\",\"type\":\"WheelZoomTool\"},{\"id\":\"eeec5f52-ff34-4705-94d1-ed2bef24deed\",\"type\":\"BoxZoomTool\"},{\"id\":\"1a766ed6-d8a8-4f0d-918b-74e3cbed2fe2\",\"type\":\"SaveTool\"},{\"id\":\"6f67290d-d49b-45d0-89b8-291d9f42b314\",\"type\":\"ResetTool\"},{\"id\":\"e6cd1412-8eb5-41d8-9837-6b64625d56d4\",\"type\":\"HelpTool\"},{\"id\":\"7498a31a-9ac4-405f-841c-0116f59b3e9e\",\"type\":\"PanTool\"},{\"id\":\"7d8f6369-a52d-4e3a-9ab3-73f20a8e7704\",\"type\":\"WheelZoomTool\"},{\"id\":\"828453f4-9137-4bac-a6c0-7e0f0fd1a1e6\",\"type\":\"BoxZoomTool\"},{\"id\":\"f3b392eb-e7b1-4b69-890f-71ac56e25231\",\"type\":\"SaveTool\"},{\"id\":\"ef5d7bff-0511-444a-b1b5-f4f83fa04879\",\"type\":\"ResetTool\"},{\"id\":\"5bd80f6e-92fb-4bde-8e4a-0ba43e619da3\",\"type\":\"HelpTool\"},{\"id\":\"9b27b2c6-4d9e-43c9-87b6-99db314b56be\",\"type\":\"PanTool\"},{\"id\":\"8a7a2983-482e-4f60-9a6a-f0971ae0babe\",\"type\":\"WheelZoomTool\"},{\"id\":\"4f12c74d-2c52-4995-ac96-dc3110542bb2\",\"type\":\"BoxZoomTool\"},{\"id\":\"c69008b6-d223-4321-b846-9cb811811f13\",\"type\":\"SaveTool\"},{\"id\":\"a795beec-7f73-448e-9733-6b285763ffb3\",\"type\":\"ResetTool\"},{\"id\":\"6546ac50-eeab-4c55-a271-65e19feb8cc2\",\"type\":\"HelpTool\"}]},\"id\":\"1e27b864-9979-4bd5-b0db-8cf7ca11eca0\",\"type\":\"ToolbarBox\"},{\"attributes\":{\"line_color\":{\"value\":\"#1f77b4\"},\"x\":{\"field\":\"x\"},\"y\":{\"field\":\"y\"}},\"id\":\"1543b986-c12e-4f8a-8c50-94110682e220\",\"type\":\"Line\"},{\"attributes\":{},\"id\":\"92757b85-9595-4beb-9ac9-2690f56e9f2d\",\"type\":\"BasicTickFormatter\"},{\"attributes\":{\"children\":[{\"id\":\"c4eb7700-55f4-4ba4-a71b-fd8a47e190f9\",\"subtype\":\"Figure\",\"type\":\"Plot\"},{\"id\":\"2f985e17-ae3d-4073-9066-d974677fc623\",\"subtype\":\"Figure\",\"type\":\"Plot\"},{\"id\":\"f5eea5c5-6ff8-41b5-bced-0be5b94ed4eb\",\"subtype\":\"Figure\",\"type\":\"Plot\"}]},\"id\":\"7f599c3e-4ff7-44d6-99c4-6ab128e9b0c4\",\"type\":\"Row\"},{\"attributes\":{\"plot\":{\"id\":\"f5eea5c5-6ff8-41b5-bced-0be5b94ed4eb\",\"subtype\":\"Figure\",\"type\":\"Plot\"}},\"id\":\"8a7a2983-482e-4f60-9a6a-f0971ae0babe\",\"type\":\"WheelZoomTool\"},{\"attributes\":{\"bottom_units\":\"screen\",\"fill_alpha\":{\"value\":0.5},\"fill_color\":{\"value\":\"lightgrey\"},\"left_units\":\"screen\",\"level\":\"overlay\",\"line_alpha\":{\"value\":1.0},\"line_color\":{\"value\":\"black\"},\"line_dash\":[4,4],\"line_width\":{\"value\":2},\"plot\":null,\"render_mode\":\"css\",\"right_units\":\"screen\",\"top_units\":\"screen\"},\"id\":\"7460d35a-2502-4831-b76e-ccc36e13505d\",\"type\":\"BoxAnnotation\"},{\"attributes\":{\"overlay\":{\"id\":\"7460d35a-2502-4831-b76e-ccc36e13505d\",\"type\":\"BoxAnnotation\"},\"plot\":{\"id\":\"2f985e17-ae3d-4073-9066-d974677fc623\",\"subtype\":\"Figure\",\"type\":\"Plot\"}},\"id\":\"828453f4-9137-4bac-a6c0-7e0f0fd1a1e6\",\"type\":\"BoxZoomTool\"},{\"attributes\":{\"callback\":null},\"id\":\"159dcc6e-9fa3-4b8d-be0b-1ebfe34b2c5c\",\"type\":\"DataRange1d\"},{\"attributes\":{\"data_source\":{\"id\":\"7a5cd288-0fe8-4bb6-a2f4-39c948cb2d9a\",\"type\":\"ColumnDataSource\"},\"glyph\":{\"id\":\"2a3e6be0-024b-451b-a4d4-407a4e40b0d5\",\"type\":\"Line\"},\"hover_glyph\":null,\"nonselection_glyph\":{\"id\":\"156514ad-a9a9-4d0c-bb77-9800911b4d03\",\"type\":\"Line\"},\"selection_glyph\":null},\"id\":\"e71efbe1-83d7-42ca-8e48-d0d151e5ad06\",\"type\":\"GlyphRenderer\"},{\"attributes\":{\"line_alpha\":{\"value\":0.1},\"line_color\":{\"value\":\"#1f77b4\"},\"x\":{\"field\":\"x\"},\"y\":{\"field\":\"y\"}},\"id\":\"7fc60e9f-98c2-487f-91c4-7adc61311187\",\"type\":\"Line\"},{\"attributes\":{\"callback\":null,\"column_names\":[\"x\",\"y\"],\"data\":{\"x\":[0.0,0.00392156862745098,0.00784313725490196,0.011764705882352941,0.01568627450980392,0.0196078431372549,0.023529411764705882,0.027450980392156862,0.03137254901960784,0.03529411764705882,0.0392156862745098,0.043137254901960784,0.047058823529411764,0.050980392156862744,0.054901960784313725,0.058823529411764705,0.06274509803921569,0.06666666666666667,0.07058823529411765,0.07450980392156863,0.0784313725490196,0.08235294117647059,0.08627450980392157,0.09019607843137255,0.09411764705882353,0.09803921568627451,0.10196078431372549,0.10588235294117647,0.10980392156862745,0.11372549019607843,0.11764705882352941,0.12156862745098039,0.12549019607843137,0.12941176470588234,0.13333333333333333,0.13725490196078433,0.1411764705882353,0.14509803921568626,0.14901960784313725,0.15294117647058825,0.1568627450980392,0.16078431372549018,0.16470588235294117,0.16862745098039217,0.17254901960784313,0.1764705882352941,0.1803921568627451,0.1843137254901961,0.18823529411764706,0.19215686274509802,0.19607843137254902,0.2,0.20392156862745098,0.20784313725490194,0.21176470588235294,0.21568627450980393,0.2196078431372549,0.22352941176470587,0.22745098039215686,0.23137254901960785,0.23529411764705882,0.2392156862745098,0.24313725490196078,0.24705882352941178,0.25098039215686274,0.2549019607843137,0.2588235294117647,0.2627450980392157,0.26666666666666666,0.27058823529411763,0.27450980392156865,0.2784313725490196,0.2823529411764706,0.28627450980392155,0.2901960784313725,0.29411764705882354,0.2980392156862745,0.30196078431372547,0.3058823529411765,0.30980392156862746,0.3137254901960784,0.3176470588235294,0.32156862745098036,0.3254901960784314,0.32941176470588235,0.3333333333333333,0.33725490196078434,0.3411764705882353,0.34509803921568627,0.34901960784313724,0.3529411764705882,0.3568627450980392,0.3607843137254902,0.36470588235294116,0.3686274509803922,0.37254901960784315,0.3764705882352941,0.3803921568627451,0.38431372549019605,0.38823529411764707,0.39215686274509803,0.396078431372549,0.4,0.403921568627451,0.40784313725490196,0.4117647058823529,0.4156862745098039,0.4196078431372549,0.4235294117647059,0.42745098039215684,0.43137254901960786,0.43529411764705883,0.4392156862745098,0.44313725490196076,0.44705882352941173,0.45098039215686275,0.4549019607843137,0.4588235294117647,0.4627450980392157,0.4666666666666667,0.47058823529411764,0.4745098039215686,0.4784313725490196,0.4823529411764706,0.48627450980392156,0.49019607843137253,0.49411764705882355,0.4980392156862745,0.5019607843137255,0.5058823529411764,0.5098039215686274,0.5137254901960784,0.5176470588235293,0.5215686274509804,0.5254901960784314,0.5294117647058824,0.5333333333333333,0.5372549019607843,0.5411764705882353,0.5450980392156862,0.5490196078431373,0.5529411764705883,0.5568627450980392,0.5607843137254902,0.5647058823529412,0.5686274509803921,0.5725490196078431,0.5764705882352941,0.580392156862745,0.5843137254901961,0.5882352941176471,0.592156862745098,0.596078431372549,0.6,0.6039215686274509,0.6078431372549019,0.611764705882353,0.615686274509804,0.6196078431372549,0.6235294117647059,0.6274509803921569,0.6313725490196078,0.6352941176470588,0.6392156862745098,0.6431372549019607,0.6470588235294118,0.6509803921568628,0.6549019607843137,0.6588235294117647,0.6627450980392157,0.6666666666666666,0.6705882352941176,0.6745098039215687,0.6784313725490196,0.6823529411764706,0.6862745098039216,0.6901960784313725,0.6941176470588235,0.6980392156862745,0.7019607843137254,0.7058823529411764,0.7098039215686275,0.7137254901960784,0.7176470588235294,0.7215686274509804,0.7254901960784313,0.7294117647058823,0.7333333333333333,0.7372549019607844,0.7411764705882353,0.7450980392156863,0.7490196078431373,0.7529411764705882,0.7568627450980392,0.7607843137254902,0.7647058823529411,0.7686274509803921,0.7725490196078432,0.7764705882352941,0.7803921568627451,0.7843137254901961,0.788235294117647,0.792156862745098,0.796078431372549,0.8,0.803921568627451,0.807843137254902,0.8117647058823529,0.8156862745098039,0.8196078431372549,0.8235294117647058,0.8274509803921568,0.8313725490196078,0.8352941176470589,0.8392156862745098,0.8431372549019608,0.8470588235294118,0.8509803921568627,0.8549019607843137,0.8588235294117647,0.8627450980392157,0.8666666666666667,0.8705882352941177,0.8745098039215686,0.8784313725490196,0.8823529411764706,0.8862745098039215,0.8901960784313725,0.8941176470588235,0.8980392156862745,0.9019607843137255,0.9058823529411765,0.9098039215686274,0.9137254901960784,0.9176470588235294,0.9215686274509803,0.9254901960784314,0.9294117647058824,0.9333333333333333,0.9372549019607843,0.9411764705882353,0.9450980392156862,0.9490196078431372,0.9529411764705882,0.9568627450980391,0.9607843137254902,0.9647058823529412,0.9686274509803922,0.9725490196078431,0.9764705882352941,0.9803921568627451,0.984313725490196,0.9882352941176471,0.9921568627450981,0.996078431372549,1.0],\"y\":[0.0,0.0,0.0,0.0,0.0,0.0,0.0,0.0,0.0,0.0,0.0,0.0,0.0,0.0,0.0,0.0,0.0,0.0,0.0,0.0,0.0,0.0,0.0,0.0,0.0,0.0,0.0,0.0,0.0,0.0,0.0,0.0,0.0,0.0,0.0,0.0,0.0,0.0,0.0,0.0,0.0,0.0,0.0,0.0,0.0,0.0,0.0,0.0,0.0,0.0,0.0,0.0,0.0,0.0,0.0,0.0,0.0,0.0,0.0,0.0,0.0,0.0,0.0,0.0,0.0,0.0,0.0,0.0,0.0,0.0,0.0,0.0,0.0,0.0,0.0,0.0,0.0,0.0,0.0,1.0,1.0,1.0,1.0,1.0,1.0,1.0,1.0,1.0,1.0,1.0,1.0,1.0,1.0,1.0,1.0,1.0,1.0,1.0,1.0,1.0,1.0,1.0,1.0,1.0,1.0,1.0,1.0,1.0,1.0,1.0,1.0,1.0,1.0,1.0,1.0,1.0,1.0,1.0,1.0,1.0,1.0,1.0,1.0,1.0,1.0,1.0,1.0,1.0,1.0,1.0,1.0,1.0,1.0,1.0,1.0,1.0,1.0,1.0,1.0,1.0,1.0,1.0,1.0,1.0,1.0,1.0,1.0,1.0,1.0,1.0,1.0,1.0,1.0,1.0,1.0,1.0,1.0,1.0,1.0,1.0,1.0,1.0,1.0,1.0,1.0,1.0,1.0,1.0,1.0,1.0,1.0,1.0,1.0,1.0,1.0,1.0,1.0,1.0,0.0,0.0,0.0,0.0,0.0,0.0,0.0,0.0,0.0,0.0,0.0,0.0,0.0,0.0,0.0,0.0,0.0,0.0,0.0,0.0,0.0,0.0,0.0,0.0,0.0,0.0,0.0,0.0,0.0,0.0,0.0,0.0,0.0,0.0,0.0,0.0,0.0,0.0,0.0,0.0,0.0,0.0,0.0,0.0,0.0,0.0,0.0,0.0,0.0,0.0,0.0,0.0,0.0,0.0,0.0,0.0,0.0,0.0,0.0,0.0,0.0,0.0,0.0,0.0,0.0,0.0,0.0,0.0,0.0,0.0,0.0,0.0,0.0,0.0,0.0,0.0,0.0,0.0]}},\"id\":\"7b39eac6-f60e-41e6-85e1-be3198c648e5\",\"type\":\"ColumnDataSource\"},{\"attributes\":{\"data_source\":{\"id\":\"88a2d7e3-d131-4a9f-a6bf-8bdebfcde881\",\"type\":\"ColumnDataSource\"},\"glyph\":{\"id\":\"12618585-27b8-4bf2-b6dc-b6152b94eede\",\"type\":\"Line\"},\"hover_glyph\":null,\"nonselection_glyph\":{\"id\":\"7fc60e9f-98c2-487f-91c4-7adc61311187\",\"type\":\"Line\"},\"selection_glyph\":null},\"id\":\"0a11a2b6-d019-4039-bd3d-8d339ff7ab02\",\"type\":\"GlyphRenderer\"},{\"attributes\":{\"line_color\":{\"value\":\"#1f77b4\"},\"x\":{\"field\":\"x\"},\"y\":{\"field\":\"y\"}},\"id\":\"12618585-27b8-4bf2-b6dc-b6152b94eede\",\"type\":\"Line\"},{\"attributes\":{\"below\":[{\"id\":\"40f33aa8-1157-44ad-a726-5a28bfe956ef\",\"type\":\"LinearAxis\"}],\"left\":[{\"id\":\"3f3e36ba-bdae-4dde-9421-54847f43f651\",\"type\":\"LinearAxis\"}],\"plot_height\":300,\"plot_width\":300,\"renderers\":[{\"id\":\"40f33aa8-1157-44ad-a726-5a28bfe956ef\",\"type\":\"LinearAxis\"},{\"id\":\"5312602f-dd65-466c-985d-75ee32dc9c3d\",\"type\":\"Grid\"},{\"id\":\"3f3e36ba-bdae-4dde-9421-54847f43f651\",\"type\":\"LinearAxis\"},{\"id\":\"c7442ad0-f9e9-44dd-b47c-9e3f7db42e37\",\"type\":\"Grid\"},{\"id\":\"f1739076-5a1a-415c-a7d7-ceca40a7597b\",\"type\":\"BoxAnnotation\"},{\"id\":\"28d179a0-3e69-4671-89c3-7aaec4883749\",\"type\":\"GlyphRenderer\"}],\"title\":{\"id\":\"714bc05d-0dbc-4ecf-9b45-43908365cf45\",\"type\":\"Title\"},\"tool_events\":{\"id\":\"b455468f-4255-4b4d-ab06-2e53a1b5ef08\",\"type\":\"ToolEvents\"},\"toolbar\":{\"id\":\"85d21797-df80-417d-b776-d47962c6ebfd\",\"type\":\"Toolbar\"},\"toolbar_location\":null,\"x_range\":{\"id\":\"159dcc6e-9fa3-4b8d-be0b-1ebfe34b2c5c\",\"type\":\"DataRange1d\"},\"y_range\":{\"id\":\"6ae8dd8d-1d31-409f-89f1-59213aa443ee\",\"type\":\"DataRange1d\"}},\"id\":\"c4eb7700-55f4-4ba4-a71b-fd8a47e190f9\",\"subtype\":\"Figure\",\"type\":\"Plot\"},{\"attributes\":{\"plot\":{\"id\":\"2f985e17-ae3d-4073-9066-d974677fc623\",\"subtype\":\"Figure\",\"type\":\"Plot\"}},\"id\":\"7d8f6369-a52d-4e3a-9ab3-73f20a8e7704\",\"type\":\"WheelZoomTool\"},{\"attributes\":{\"callback\":null,\"column_names\":[\"x\",\"y\"],\"data\":{\"x\":[-128.0,-126.99607843137255,-125.9921568627451,-124.98823529411764,-123.9843137254902,-122.98039215686275,-121.97647058823529,-120.97254901960784,-119.96862745098039,-118.96470588235294,-117.9607843137255,-116.95686274509804,-115.95294117647059,-114.94901960784314,-113.94509803921568,-112.94117647058823,-111.93725490196078,-110.93333333333334,-109.92941176470589,-108.92549019607843,-107.92156862745098,-106.91764705882353,-105.91372549019607,-104.90980392156862,-103.90588235294118,-102.90196078431373,-101.89803921568628,-100.89411764705882,-99.89019607843137,-98.88627450980393,-97.88235294117646,-96.87843137254902,-95.87450980392157,-94.87058823529412,-93.86666666666667,-92.86274509803921,-91.85882352941177,-90.85490196078432,-89.85098039215686,-88.84705882352941,-87.84313725490196,-86.83921568627451,-85.83529411764707,-84.8313725490196,-83.82745098039216,-82.82352941176471,-81.81960784313725,-80.8156862745098,-79.81176470588235,-78.8078431372549,-77.80392156862746,-76.8,-75.79607843137255,-74.7921568627451,-73.78823529411764,-72.7843137254902,-71.78039215686275,-70.7764705882353,-69.77254901960785,-68.76862745098039,-67.76470588235294,-66.7607843137255,-65.75686274509803,-64.75294117647059,-63.74901960784314,-62.74509803921569,-61.74117647058824,-60.73725490196078,-59.733333333333334,-58.72941176470589,-57.725490196078425,-56.72156862745098,-55.71764705882353,-54.71372549019608,-53.709803921568636,-52.705882352941174,-51.70196078431373,-50.69803921568628,-49.69411764705882,-48.69019607843137,-47.68627450980392,-46.682352941176475,-45.67843137254903,-44.674509803921566,-43.67058823529412,-42.66666666666667,-41.66274509803921,-40.65882352941176,-39.654901960784315,-38.65098039215687,-37.64705882352942,-36.64313725490196,-35.63921568627451,-34.635294117647064,-33.6313725490196,-32.627450980392155,-31.623529411764707,-30.61960784313726,-29.615686274509812,-28.61176470588235,-27.607843137254903,-26.603921568627456,-25.599999999999994,-24.596078431372547,-23.5921568627451,-22.588235294117652,-21.584313725490205,-20.580392156862743,-19.576470588235296,-18.572549019607848,-17.568627450980387,-16.56470588235294,-15.560784313725492,-14.556862745098044,-13.552941176470597,-12.549019607843135,-11.545098039215688,-10.54117647058824,-9.537254901960779,-8.533333333333331,-7.529411764705884,-6.525490196078437,-5.521568627450989,-4.517647058823528,-3.51372549019608,-2.5098039215686327,-1.5058823529411711,-0.5019607843137237,0.5019607843137237,1.5058823529411711,2.5098039215686185,3.513725490196066,4.517647058823513,5.521568627450989,6.525490196078437,7.529411764705884,8.533333333333331,9.537254901960779,10.541176470588226,11.545098039215674,12.54901960784315,13.552941176470597,14.556862745098044,15.560784313725492,16.56470588235294,17.568627450980387,18.572549019607834,19.57647058823528,20.58039215686273,21.584313725490205,22.588235294117652,23.5921568627451,24.596078431372547,25.599999999999994,26.60392156862744,27.60784313725489,28.611764705882365,29.615686274509812,30.61960784313726,31.623529411764707,32.627450980392155,33.6313725490196,34.63529411764705,35.6392156862745,36.643137254901944,37.64705882352942,38.65098039215687,39.654901960784315,40.65882352941176,41.66274509803921,42.66666666666666,43.670588235294105,44.67450980392158,45.67843137254903,46.682352941176475,47.68627450980392,48.69019607843137,49.69411764705882,50.698039215686265,51.70196078431371,52.70588235294116,53.709803921568636,54.71372549019608,55.71764705882353,56.72156862745098,57.725490196078425,58.72941176470587,59.73333333333332,60.737254901960796,61.74117647058824,62.74509803921569,63.74901960784314,64.75294117647059,65.75686274509803,66.76078431372548,67.76470588235293,68.76862745098038,69.77254901960785,70.7764705882353,71.78039215686275,72.7843137254902,73.78823529411764,74.79215686274509,75.79607843137254,76.80000000000001,77.80392156862746,78.8078431372549,79.81176470588235,80.8156862745098,81.81960784313725,82.8235294117647,83.82745098039214,84.83137254901959,85.83529411764707,86.83921568627451,87.84313725490196,88.84705882352941,89.85098039215686,90.8549019607843,91.85882352941175,92.86274509803923,93.86666666666667,94.87058823529412,95.87450980392157,96.87843137254902,97.88235294117646,98.88627450980391,99.89019607843136,100.8941176470588,101.89803921568628,102.90196078431373,103.90588235294118,104.90980392156862,105.91372549019607,106.91764705882352,107.92156862745097,108.92549019607844,109.92941176470589,110.93333333333334,111.93725490196078,112.94117647058823,113.94509803921568,114.94901960784313,115.95294117647057,116.95686274509802,117.9607843137255,118.96470588235294,119.96862745098039,120.97254901960784,121.97647058823529,122.98039215686273,123.98431372549018,124.98823529411766,125.9921568627451,126.99607843137255,128.0],\"y\":[-1.0,0.34844491751088214,0.7574369723613632,-0.8766641353243427,-0.1469074308896552,0.9801619248016773,-0.536451157538214,-0.6077520589423608,0.9615705608064613,-0.06169665587722406,-0.9211371356621214,0.7047879624494886,0.4322333669705771,-1.0091270951901736,0.2706980712849778,0.8243847772330759,-0.8477590650225735,-0.23617909197575537,1.0171952115749898,-0.47334751740253234,-0.6923065134606894,0.9602157945683335,0.02546362105667832,-0.9845660943343788,0.6629392246050914,0.5282022376975937,-1.0376497112213956,0.1935686019368399,0.9109808470127666,-0.8329294083034655,-0.33621024812910005,1.0762690795509338,-0.4142135623730956,-0.7971311392219951,0.9770452520583024,0.12123414962239165,-1.0730561308341533,0.6295180650835088,0.6446400872067266,-1.0893795734421952,0.11114046603920613,1.0258020124740206,-0.8323846814771872,-0.45602363230448184,1.1644655950147889,-0.35473554606237,-0.9331160570928091,1.0156646391634876,0.23463313526981922,-1.197325037837963,0.6028710224322611,0.7944053606753577,-1.172230125192384,0.015419664776356479,1.183480721341764,-0.8484490726818261,-0.6098193559677407,1.2950144105049886,-0.28935377758426306,-1.118921349546832,1.0840222843252554,0.3801515942154774,-1.3770030700220697,0.5818242632382509,1.0,-1.3018311889328091,-0.1066863495716841,1.4111506191241479,-0.8870394776109178,-0.8232367145690662,1.4937885745926132,-0.2090309336244518,-1.3901806440322553,1.1988877639523898,0.584974897331482,-1.6513731929975668,0.5655367579777004,1.3061967637520016,-1.5110708810276705,-0.2808011504847441,1.7653668647301792,-0.9619762413536586,-1.1499707058705466,1.81724130655176,-0.0954433231132027,-1.825310406109394,1.3989512552637016,0.9096453757605013,-2.111140466039203,0.5534076800497786,1.818425736245691,-1.8799789664253224,-0.5683014508231617,2.3867349132691746,-1.1094903557860647,-1.727448599443759,2.4142135623730945,0.09912609364955693,-2.6383475296990566,1.7934155760392843,1.5260262041631854,-3.022054669394991,0.5450170243983514,2.8607809153068913,-2.6629392246050894,-1.1679974686188936,3.7482227253051033,-1.4569133971521457,-3.049430310118082,3.8416293936095887,0.5586945793258469,-4.697665430519734,2.847759065022573,3.200383610374617,-5.637373760807662,0.5400875935212588,6.160883050906066,-5.318227502464957,-3.3105063210008825,9.05550829914783,-2.9615705608064604,-9.275778959298108,11.484518141741898,3.3775096106398355,-20.15943334432807,13.100248634550262,26.61532784896887,-76.38317137496382,99.0,-76.38317137496384,26.61532784896888,13.100248634550226,-20.159433344328065,3.3775096106397924,11.484518141741923,-9.275778959298115,-2.9615705608064613,9.05550829914781,-3.310506321000858,-5.318227502464971,6.160883050906055,0.540087593521259,-5.637373760807643,3.200383610374573,2.8477590650225735,-4.69766543051977,0.55869457932586,3.8416293936095864,-3.0494303101180917,-1.4569133971521557,3.748222725305113,-1.1679974686188956,-2.6629392246050916,2.860780915306888,0.5450170243983598,-3.022054669394998,1.5260262041631858,1.7934155760392827,-2.6383475296990486,0.09912609364953562,2.414213562373096,-1.7274485994437718,-1.1094903557860596,2.386734913269175,-0.5683014508231683,-1.8799789664253281,1.8184257362456973,0.5534076800497767,-2.111140466039206,0.9096453757604978,1.3989512552637073,-1.8253104061093977,-0.09544332311320358,1.8172413065517612,-1.1499707058705426,-0.9619762413536748,1.7653668647301808,-0.280801150484753,-1.511070881027669,1.3061967637520033,0.5655367579776982,-1.6513731929975728,0.5849748973314857,1.19888776395239,-1.3901806440322593,-0.20903093362445735,1.4937885745926218,-0.8232367145690681,-0.887039477610926,1.4111506191241538,-0.10668634957167145,-1.3018311889328489,1.0,0.5818242632382182,-1.377003070022057,0.3801515942154825,1.0840222843252472,-1.118921349546834,-0.28935377758425784,1.2950144105049866,-0.6098193559677447,-0.8484490726818241,1.1834807213417657,0.015419664776351927,-1.1722301251923848,0.794405360675359,0.6028710224322635,-1.197325037837973,0.23463313526982088,1.015664639163474,-0.9331160570928051,-0.3547355460623711,1.1644655950147857,-0.45602363230448795,-0.8323846814771837,1.025802012474022,0.11114046603920302,-1.0893795734421952,0.6446400872067293,0.629518065083504,-1.073056130834154,0.12123414962239187,0.9770452520583031,-0.7971311392220035,-0.4142135623730945,1.0762690795509307,-0.33621024812910005,-0.8329294083034648,0.9109808470127674,0.19356860193683811,-1.0376497112213947,0.528202237697593,0.6629392246050894,-0.9845660943343769,0.02546362105668032,0.9602157945683338,-0.6923065134606916,-0.47334751740253034,1.0171952115749925,-0.2361790919757616,-0.847759065022573,0.8243847772330719,0.2706980712849809,-1.0091270951901736,0.43223336697057757,0.7047879624494873,-0.9211371356621201,-0.061696655877222284,0.9615705608064604,-0.6077520589423626,-0.5364511575382123,0.9801619248016769,-0.14690743088965696,-0.8766641353243427,0.757436972361365,0.34844491751088924]}},\"id\":\"88a2d7e3-d131-4a9f-a6bf-8bdebfcde881\",\"type\":\"ColumnDataSource\"},{\"attributes\":{\"dimension\":1,\"plot\":{\"id\":\"2f985e17-ae3d-4073-9066-d974677fc623\",\"subtype\":\"Figure\",\"type\":\"Plot\"},\"ticker\":{\"id\":\"d34db1dc-a8e1-4acd-b542-81866f618c87\",\"type\":\"BasicTicker\"}},\"id\":\"bb76807f-14c2-466b-a591-d6dd540e76b1\",\"type\":\"Grid\"},{\"attributes\":{\"overlay\":{\"id\":\"410483a6-935a-4467-83f2-6e433ebcfdb4\",\"type\":\"BoxAnnotation\"},\"plot\":{\"id\":\"f5eea5c5-6ff8-41b5-bced-0be5b94ed4eb\",\"subtype\":\"Figure\",\"type\":\"Plot\"}},\"id\":\"4f12c74d-2c52-4995-ac96-dc3110542bb2\",\"type\":\"BoxZoomTool\"},{\"attributes\":{\"active_drag\":\"auto\",\"active_scroll\":\"auto\",\"active_tap\":\"auto\",\"tools\":[{\"id\":\"7498a31a-9ac4-405f-841c-0116f59b3e9e\",\"type\":\"PanTool\"},{\"id\":\"7d8f6369-a52d-4e3a-9ab3-73f20a8e7704\",\"type\":\"WheelZoomTool\"},{\"id\":\"828453f4-9137-4bac-a6c0-7e0f0fd1a1e6\",\"type\":\"BoxZoomTool\"},{\"id\":\"f3b392eb-e7b1-4b69-890f-71ac56e25231\",\"type\":\"SaveTool\"},{\"id\":\"ef5d7bff-0511-444a-b1b5-f4f83fa04879\",\"type\":\"ResetTool\"},{\"id\":\"5bd80f6e-92fb-4bde-8e4a-0ba43e619da3\",\"type\":\"HelpTool\"}]},\"id\":\"926d8702-8b77-4de5-9391-175b156b3098\",\"type\":\"Toolbar\"},{\"attributes\":{},\"id\":\"b455468f-4255-4b4d-ab06-2e53a1b5ef08\",\"type\":\"ToolEvents\"},{\"attributes\":{},\"id\":\"b3ea4417-9cbe-4eac-812c-100869aad65e\",\"type\":\"BasicTickFormatter\"},{\"attributes\":{\"children\":[{\"id\":\"7f599c3e-4ff7-44d6-99c4-6ab128e9b0c4\",\"type\":\"Row\"}]},\"id\":\"6fd1c925-2a65-4105-8a48-95740cdd6176\",\"type\":\"Column\"},{\"attributes\":{},\"id\":\"857c89da-dac6-43a5-9fcb-60cb9b9ca10d\",\"type\":\"BasicTickFormatter\"},{\"attributes\":{},\"id\":\"2b18fbab-ae8a-4c95-89e8-a3fec2ebe28f\",\"type\":\"BasicTicker\"},{\"attributes\":{\"data_source\":{\"id\":\"7b39eac6-f60e-41e6-85e1-be3198c648e5\",\"type\":\"ColumnDataSource\"},\"glyph\":{\"id\":\"1543b986-c12e-4f8a-8c50-94110682e220\",\"type\":\"Line\"},\"hover_glyph\":null,\"nonselection_glyph\":{\"id\":\"a52bec32-43cd-4c77-8f3a-5c1d4bcf80c1\",\"type\":\"Line\"},\"selection_glyph\":null},\"id\":\"28d179a0-3e69-4671-89c3-7aaec4883749\",\"type\":\"GlyphRenderer\"},{\"attributes\":{\"plot\":{\"id\":\"c4eb7700-55f4-4ba4-a71b-fd8a47e190f9\",\"subtype\":\"Figure\",\"type\":\"Plot\"}},\"id\":\"e6cd1412-8eb5-41d8-9837-6b64625d56d4\",\"type\":\"HelpTool\"},{\"attributes\":{},\"id\":\"e4b042a0-a89f-4308-acb9-bfa64d330727\",\"type\":\"ToolEvents\"},{\"attributes\":{\"plot\":{\"id\":\"c4eb7700-55f4-4ba4-a71b-fd8a47e190f9\",\"subtype\":\"Figure\",\"type\":\"Plot\"}},\"id\":\"42a5ff50-ff33-461e-8a90-2fec1820a0a3\",\"type\":\"WheelZoomTool\"},{\"attributes\":{},\"id\":\"d22bdde3-6561-47f5-9ad5-c9bc05bb02fc\",\"type\":\"BasicTicker\"},{\"attributes\":{\"line_color\":{\"value\":\"#1f77b4\"},\"x\":{\"field\":\"x\"},\"y\":{\"field\":\"y\"}},\"id\":\"2a3e6be0-024b-451b-a4d4-407a4e40b0d5\",\"type\":\"Line\"},{\"attributes\":{\"line_alpha\":{\"value\":0.1},\"line_color\":{\"value\":\"#1f77b4\"},\"x\":{\"field\":\"x\"},\"y\":{\"field\":\"y\"}},\"id\":\"a52bec32-43cd-4c77-8f3a-5c1d4bcf80c1\",\"type\":\"Line\"},{\"attributes\":{\"axis_label\":\"time/s\",\"formatter\":{\"id\":\"cad12564-4f94-4b08-a200-07bd0e9386de\",\"type\":\"BasicTickFormatter\"},\"plot\":{\"id\":\"c4eb7700-55f4-4ba4-a71b-fd8a47e190f9\",\"subtype\":\"Figure\",\"type\":\"Plot\"},\"ticker\":{\"id\":\"2b18fbab-ae8a-4c95-89e8-a3fec2ebe28f\",\"type\":\"BasicTicker\"}},\"id\":\"40f33aa8-1157-44ad-a726-5a28bfe956ef\",\"type\":\"LinearAxis\"},{\"attributes\":{\"plot\":{\"id\":\"f5eea5c5-6ff8-41b5-bced-0be5b94ed4eb\",\"subtype\":\"Figure\",\"type\":\"Plot\"}},\"id\":\"a795beec-7f73-448e-9733-6b285763ffb3\",\"type\":\"ResetTool\"},{\"attributes\":{\"below\":[{\"id\":\"32330bc0-bec9-4d87-8ad0-4fa52caaf9ef\",\"type\":\"LinearAxis\"}],\"left\":[{\"id\":\"f4a8def4-af78-41aa-9432-525d2b863432\",\"type\":\"LinearAxis\"}],\"plot_height\":300,\"plot_width\":300,\"renderers\":[{\"id\":\"32330bc0-bec9-4d87-8ad0-4fa52caaf9ef\",\"type\":\"LinearAxis\"},{\"id\":\"bfdfb11c-1ae6-4116-ad7f-01c7cc9ef248\",\"type\":\"Grid\"},{\"id\":\"f4a8def4-af78-41aa-9432-525d2b863432\",\"type\":\"LinearAxis\"},{\"id\":\"bb76807f-14c2-466b-a591-d6dd540e76b1\",\"type\":\"Grid\"},{\"id\":\"7460d35a-2502-4831-b76e-ccc36e13505d\",\"type\":\"BoxAnnotation\"},{\"id\":\"0a11a2b6-d019-4039-bd3d-8d339ff7ab02\",\"type\":\"GlyphRenderer\"}],\"title\":{\"id\":\"e5015318-172c-48b1-9375-f7cd3a9f128e\",\"type\":\"Title\"},\"tool_events\":{\"id\":\"e4b042a0-a89f-4308-acb9-bfa64d330727\",\"type\":\"ToolEvents\"},\"toolbar\":{\"id\":\"926d8702-8b77-4de5-9391-175b156b3098\",\"type\":\"Toolbar\"},\"toolbar_location\":null,\"x_range\":{\"id\":\"40b46676-9a05-4010-9763-51fc75cb3026\",\"type\":\"DataRange1d\"},\"y_range\":{\"id\":\"bc25eb8b-39cc-4f94-9a69-23a5dae82087\",\"type\":\"DataRange1d\"}},\"id\":\"2f985e17-ae3d-4073-9066-d974677fc623\",\"subtype\":\"Figure\",\"type\":\"Plot\"},{\"attributes\":{\"overlay\":{\"id\":\"f1739076-5a1a-415c-a7d7-ceca40a7597b\",\"type\":\"BoxAnnotation\"},\"plot\":{\"id\":\"c4eb7700-55f4-4ba4-a71b-fd8a47e190f9\",\"subtype\":\"Figure\",\"type\":\"Plot\"}},\"id\":\"eeec5f52-ff34-4705-94d1-ed2bef24deed\",\"type\":\"BoxZoomTool\"},{\"attributes\":{\"bottom_units\":\"screen\",\"fill_alpha\":{\"value\":0.5},\"fill_color\":{\"value\":\"lightgrey\"},\"left_units\":\"screen\",\"level\":\"overlay\",\"line_alpha\":{\"value\":1.0},\"line_color\":{\"value\":\"black\"},\"line_dash\":[4,4],\"line_width\":{\"value\":2},\"plot\":null,\"render_mode\":\"css\",\"right_units\":\"screen\",\"top_units\":\"screen\"},\"id\":\"f1739076-5a1a-415c-a7d7-ceca40a7597b\",\"type\":\"BoxAnnotation\"},{\"attributes\":{\"plot\":{\"id\":\"2f985e17-ae3d-4073-9066-d974677fc623\",\"subtype\":\"Figure\",\"type\":\"Plot\"}},\"id\":\"7498a31a-9ac4-405f-841c-0116f59b3e9e\",\"type\":\"PanTool\"},{\"attributes\":{},\"id\":\"d34db1dc-a8e1-4acd-b542-81866f618c87\",\"type\":\"BasicTicker\"},{\"attributes\":{\"bottom_units\":\"screen\",\"fill_alpha\":{\"value\":0.5},\"fill_color\":{\"value\":\"lightgrey\"},\"left_units\":\"screen\",\"level\":\"overlay\",\"line_alpha\":{\"value\":1.0},\"line_color\":{\"value\":\"black\"},\"line_dash\":[4,4],\"line_width\":{\"value\":2},\"plot\":null,\"render_mode\":\"css\",\"right_units\":\"screen\",\"top_units\":\"screen\"},\"id\":\"410483a6-935a-4467-83f2-6e433ebcfdb4\",\"type\":\"BoxAnnotation\"},{\"attributes\":{\"plot\":null,\"text\":\"Top Hat\"},\"id\":\"714bc05d-0dbc-4ecf-9b45-43908365cf45\",\"type\":\"Title\"},{\"attributes\":{\"callback\":null},\"id\":\"6db080c0-27ec-4eb2-bd8f-8d60ff547ff9\",\"type\":\"DataRange1d\"},{\"attributes\":{\"formatter\":{\"id\":\"92757b85-9595-4beb-9ac9-2690f56e9f2d\",\"type\":\"BasicTickFormatter\"},\"plot\":{\"id\":\"2f985e17-ae3d-4073-9066-d974677fc623\",\"subtype\":\"Figure\",\"type\":\"Plot\"},\"ticker\":{\"id\":\"d34db1dc-a8e1-4acd-b542-81866f618c87\",\"type\":\"BasicTicker\"}},\"id\":\"f4a8def4-af78-41aa-9432-525d2b863432\",\"type\":\"LinearAxis\"},{\"attributes\":{\"plot\":{\"id\":\"2f985e17-ae3d-4073-9066-d974677fc623\",\"subtype\":\"Figure\",\"type\":\"Plot\"}},\"id\":\"ef5d7bff-0511-444a-b1b5-f4f83fa04879\",\"type\":\"ResetTool\"},{\"attributes\":{\"callback\":null},\"id\":\"bc25eb8b-39cc-4f94-9a69-23a5dae82087\",\"type\":\"DataRange1d\"},{\"attributes\":{\"below\":[{\"id\":\"6250ab05-49cd-4976-bd69-6d67ebbb08cf\",\"type\":\"LinearAxis\"}],\"left\":[{\"id\":\"c15458e6-f7f4-481b-a57c-04929cfdb810\",\"type\":\"LinearAxis\"}],\"plot_height\":300,\"plot_width\":300,\"renderers\":[{\"id\":\"6250ab05-49cd-4976-bd69-6d67ebbb08cf\",\"type\":\"LinearAxis\"},{\"id\":\"da321b83-68dc-4d20-b2fd-58f30b312265\",\"type\":\"Grid\"},{\"id\":\"c15458e6-f7f4-481b-a57c-04929cfdb810\",\"type\":\"LinearAxis\"},{\"id\":\"fc8deb7a-d025-438d-8f71-019b68b784f6\",\"type\":\"Grid\"},{\"id\":\"410483a6-935a-4467-83f2-6e433ebcfdb4\",\"type\":\"BoxAnnotation\"},{\"id\":\"e71efbe1-83d7-42ca-8e48-d0d151e5ad06\",\"type\":\"GlyphRenderer\"}],\"title\":{\"id\":\"99514419-8a75-42ab-bda1-3a3d872bd496\",\"type\":\"Title\"},\"tool_events\":{\"id\":\"8ace66b1-9118-41d2-80ee-a533eec0a15d\",\"type\":\"ToolEvents\"},\"toolbar\":{\"id\":\"f9728058-b9ad-43ef-ab8a-320676bc5fda\",\"type\":\"Toolbar\"},\"toolbar_location\":null,\"x_range\":{\"id\":\"7692b21b-b30e-442a-83bd-a67963d2b8bb\",\"type\":\"DataRange1d\"},\"y_range\":{\"id\":\"6db080c0-27ec-4eb2-bd8f-8d60ff547ff9\",\"type\":\"DataRange1d\"}},\"id\":\"f5eea5c5-6ff8-41b5-bced-0be5b94ed4eb\",\"subtype\":\"Figure\",\"type\":\"Plot\"},{\"attributes\":{\"plot\":{\"id\":\"f5eea5c5-6ff8-41b5-bced-0be5b94ed4eb\",\"subtype\":\"Figure\",\"type\":\"Plot\"},\"ticker\":{\"id\":\"bb99c8d3-c7b4-42a9-9637-d8b15a02d942\",\"type\":\"BasicTicker\"}},\"id\":\"da321b83-68dc-4d20-b2fd-58f30b312265\",\"type\":\"Grid\"},{\"attributes\":{},\"id\":\"9fe811ea-cdc0-4507-a599-827a498cc111\",\"type\":\"BasicTickFormatter\"},{\"attributes\":{\"callback\":null,\"column_names\":[\"x\",\"y\"],\"data\":{\"x\":[0.0,0.00392156862745098,0.00784313725490196,0.011764705882352941,0.01568627450980392,0.0196078431372549,0.023529411764705882,0.027450980392156862,0.03137254901960784,0.03529411764705882,0.0392156862745098,0.043137254901960784,0.047058823529411764,0.050980392156862744,0.054901960784313725,0.058823529411764705,0.06274509803921569,0.06666666666666667,0.07058823529411765,0.07450980392156863,0.0784313725490196,0.08235294117647059,0.08627450980392157,0.09019607843137255,0.09411764705882353,0.09803921568627451,0.10196078431372549,0.10588235294117647,0.10980392156862745,0.11372549019607843,0.11764705882352941,0.12156862745098039,0.12549019607843137,0.12941176470588234,0.13333333333333333,0.13725490196078433,0.1411764705882353,0.14509803921568626,0.14901960784313725,0.15294117647058825,0.1568627450980392,0.16078431372549018,0.16470588235294117,0.16862745098039217,0.17254901960784313,0.1764705882352941,0.1803921568627451,0.1843137254901961,0.18823529411764706,0.19215686274509802,0.19607843137254902,0.2,0.20392156862745098,0.20784313725490194,0.21176470588235294,0.21568627450980393,0.2196078431372549,0.22352941176470587,0.22745098039215686,0.23137254901960785,0.23529411764705882,0.2392156862745098,0.24313725490196078,0.24705882352941178,0.25098039215686274,0.2549019607843137,0.2588235294117647,0.2627450980392157,0.26666666666666666,0.27058823529411763,0.27450980392156865,0.2784313725490196,0.2823529411764706,0.28627450980392155,0.2901960784313725,0.29411764705882354,0.2980392156862745,0.30196078431372547,0.3058823529411765,0.30980392156862746,0.3137254901960784,0.3176470588235294,0.32156862745098036,0.3254901960784314,0.32941176470588235,0.3333333333333333,0.33725490196078434,0.3411764705882353,0.34509803921568627,0.34901960784313724,0.3529411764705882,0.3568627450980392,0.3607843137254902,0.36470588235294116,0.3686274509803922,0.37254901960784315,0.3764705882352941,0.3803921568627451,0.38431372549019605,0.38823529411764707,0.39215686274509803,0.396078431372549,0.4,0.403921568627451,0.40784313725490196,0.4117647058823529,0.4156862745098039,0.4196078431372549,0.4235294117647059,0.42745098039215684,0.43137254901960786,0.43529411764705883,0.4392156862745098,0.44313725490196076,0.44705882352941173,0.45098039215686275,0.4549019607843137,0.4588235294117647,0.4627450980392157,0.4666666666666667,0.47058823529411764,0.4745098039215686,0.4784313725490196,0.4823529411764706,0.48627450980392156,0.49019607843137253,0.49411764705882355,0.4980392156862745,0.5019607843137255,0.5058823529411764,0.5098039215686274,0.5137254901960784,0.5176470588235293,0.5215686274509804,0.5254901960784314,0.5294117647058824,0.5333333333333333,0.5372549019607843,0.5411764705882353,0.5450980392156862,0.5490196078431373,0.5529411764705883,0.5568627450980392,0.5607843137254902,0.5647058823529412,0.5686274509803921,0.5725490196078431,0.5764705882352941,0.580392156862745,0.5843137254901961,0.5882352941176471,0.592156862745098,0.596078431372549,0.6,0.6039215686274509,0.6078431372549019,0.611764705882353,0.615686274509804,0.6196078431372549,0.6235294117647059,0.6274509803921569,0.6313725490196078,0.6352941176470588,0.6392156862745098,0.6431372549019607,0.6470588235294118,0.6509803921568628,0.6549019607843137,0.6588235294117647,0.6627450980392157,0.6666666666666666,0.6705882352941176,0.6745098039215687,0.6784313725490196,0.6823529411764706,0.6862745098039216,0.6901960784313725,0.6941176470588235,0.6980392156862745,0.7019607843137254,0.7058823529411764,0.7098039215686275,0.7137254901960784,0.7176470588235294,0.7215686274509804,0.7254901960784313,0.7294117647058823,0.7333333333333333,0.7372549019607844,0.7411764705882353,0.7450980392156863,0.7490196078431373,0.7529411764705882,0.7568627450980392,0.7607843137254902,0.7647058823529411,0.7686274509803921,0.7725490196078432,0.7764705882352941,0.7803921568627451,0.7843137254901961,0.788235294117647,0.792156862745098,0.796078431372549,0.8,0.803921568627451,0.807843137254902,0.8117647058823529,0.8156862745098039,0.8196078431372549,0.8235294117647058,0.8274509803921568,0.8313725490196078,0.8352941176470589,0.8392156862745098,0.8431372549019608,0.8470588235294118,0.8509803921568627,0.8549019607843137,0.8588235294117647,0.8627450980392157,0.8666666666666667,0.8705882352941177,0.8745098039215686,0.8784313725490196,0.8823529411764706,0.8862745098039215,0.8901960784313725,0.8941176470588235,0.8980392156862745,0.9019607843137255,0.9058823529411765,0.9098039215686274,0.9137254901960784,0.9176470588235294,0.9215686274509803,0.9254901960784314,0.9294117647058824,0.9333333333333333,0.9372549019607843,0.9411764705882353,0.9450980392156862,0.9490196078431372,0.9529411764705882,0.9568627450980391,0.9607843137254902,0.9647058823529412,0.9686274509803922,0.9725490196078431,0.9764705882352941,0.9803921568627451,0.984313725490196,0.9882352941176471,0.9921568627450981,0.996078431372549,1.0],\"y\":[0.0,0.0,0.0,0.0,5.551115123125783e-17,0.0,-5.551115123125783e-17,1.1102230246251565e-16,0.0,5.551115123125783e-17,-2.220446049250313e-16,2.7755575615628914e-16,-1.6653345369377348e-16,1.1102230246251565e-16,0.0,1.1102230246251565e-16,0.0,1.1102230246251565e-16,0.0,5.551115123125783e-17,0.0,-5.551115123125783e-17,0.0,1.6653345369377348e-16,-5.551115123125783e-17,-5.551115123125783e-17,-1.1102230246251565e-16,1.1102230246251565e-16,-1.6653345369377348e-16,3.3306690738754696e-16,-1.1102230246251565e-16,5.551115123125783e-17,0.0,-5.551115123125783e-17,-2.220446049250313e-16,1.6653345369377348e-16,1.6653345369377348e-16,0.0,5.551115123125783e-17,0.0,1.1102230246251565e-16,-5.551115123125783e-17,-2.220446049250313e-16,5.551115123125783e-17,-5.551115123125783e-17,1.6653345369377348e-16,-2.220446049250313e-16,1.1102230246251565e-16,0.0,0.0,-1.249000902703301e-16,8.326672684688674e-17,0.0,4.163336342344337e-17,-1.249000902703301e-16,9.71445146547012e-17,-6.938893903907228e-17,-8.326672684688674e-17,-1.5265566588595902e-16,1.1102230246251565e-16,-1.3877787807814457e-17,1.6653345369377348e-16,-4.718447854656915e-16,5.551115123125783e-17,0.0,3.707971429900425e-17,-6.938893903907228e-17,-1.0408340855860843e-17,9.71445146547012e-17,-4.5102810375396984e-17,2.7755575615628914e-17,-6.938893903907228e-18,7.979727989493313e-17,-1.0061396160665481e-16,-8.673617379884035e-17,-1.491862189340054e-16,1.4224732503009818e-16,3.469446951953614e-17,-2.8796409701215e-16,-1.0000000000000002,1.0,-1.0,1.0,-1.0,1.0,-1.0,0.9999999999999999,-1.0,1.0,-1.0,1.0,-1.0,1.0,-1.0,0.9999999999999998,-1.0,1.0,-1.0,1.0,-1.0,1.0,-1.0,1.0,-1.0,0.9999999999999999,-1.0,1.0000000000000002,-1.0000000000000002,1.0000000000000004,-1.0,0.9999999999999999,-1.0,1.0,-1.0,1.0,-1.0,1.0,-1.0,0.9999999999999999,-1.0,1.0,-1.0,1.0,-1.0,1.0,-1.0,0.9999999999999999,-1.0,1.0,-1.0,1.0,-1.0,0.9999999999999998,-0.9999999999999999,1.0,-0.9999999999999999,0.9999999999999999,-1.0,1.0000000000000002,-1.0000000000000002,1.0,-0.9999999999999999,1.0,-0.9999999999999999,1.0,-1.0,1.0,-1.0,0.9999999999999999,-0.9999999999999998,0.9999999999999999,-1.0,1.0,-0.9999999999999998,1.0,-0.9999999999999999,1.0,-1.0,1.0,-1.0,1.0,-1.0,1.0000000000000002,-1.0,0.9999999999999998,-1.0,1.0,-0.9999999999999999,0.9999999999999999,-0.9999999999999998,1.0000000000000002,-1.0,1.0,-1.0,1.0000000000000002,-0.9999999999999999,1.0,-1.0,1.249000902703301e-16,-8.326672684688674e-17,5.551115123125783e-17,-4.163336342344337e-17,1.8041124150158794e-16,-9.71445146547012e-17,6.938893903907228e-17,8.326672684688674e-17,1.5265566588595902e-16,-1.1102230246251565e-16,-9.71445146547012e-17,-2.7755575615628914e-16,3.608224830031759e-16,1.1102230246251565e-16,0.0,-3.707971429900425e-17,6.938893903907228e-17,1.0408340855860843e-17,1.3877787807814457e-17,-6.591949208711867e-17,8.326672684688674e-17,6.938893903907228e-18,3.122502256758253e-17,-1.0408340855860843e-17,8.673617379884035e-17,3.8163916471489756e-17,-3.122502256758253e-17,-9.020562075079397e-17,2.8796409701215e-16,0.0,0.0,-5.551115123125783e-17,0.0,-1.1102230246251565e-16,5.551115123125783e-17,0.0,1.1102230246251565e-16,-5.551115123125783e-17,0.0,-5.551115123125783e-17,5.551115123125783e-17,-1.1102230246251565e-16,1.1102230246251565e-16,-5.551115123125783e-17,1.6653345369377348e-16,-2.220446049250313e-16,5.551115123125783e-17,-5.551115123125783e-17,0.0,0.0,5.551115123125783e-17,0.0,5.551115123125783e-17,-1.1102230246251565e-16,1.1102230246251565e-16,0.0,-2.220446049250313e-16,0.0,-1.1102230246251565e-16,0.0,1.1102230246251565e-16,-1.1102230246251565e-16,-1.1102230246251565e-16,0.0,0.0,0.0,5.551115123125783e-17,-5.551115123125783e-17,1.1102230246251565e-16,-5.551115123125783e-17,0.0,0.0,-1.1102230246251565e-16,1.1102230246251565e-16,0.0,0.0,1.1102230246251565e-16,0.0]}},\"id\":\"7a5cd288-0fe8-4bb6-a2f4-39c948cb2d9a\",\"type\":\"ColumnDataSource\"},{\"attributes\":{\"plot\":{\"id\":\"f5eea5c5-6ff8-41b5-bced-0be5b94ed4eb\",\"subtype\":\"Figure\",\"type\":\"Plot\"}},\"id\":\"9b27b2c6-4d9e-43c9-87b6-99db314b56be\",\"type\":\"PanTool\"},{\"attributes\":{\"active_drag\":\"auto\",\"active_scroll\":\"auto\",\"active_tap\":\"auto\",\"tools\":[{\"id\":\"9b27b2c6-4d9e-43c9-87b6-99db314b56be\",\"type\":\"PanTool\"},{\"id\":\"8a7a2983-482e-4f60-9a6a-f0971ae0babe\",\"type\":\"WheelZoomTool\"},{\"id\":\"4f12c74d-2c52-4995-ac96-dc3110542bb2\",\"type\":\"BoxZoomTool\"},{\"id\":\"c69008b6-d223-4321-b846-9cb811811f13\",\"type\":\"SaveTool\"},{\"id\":\"a795beec-7f73-448e-9733-6b285763ffb3\",\"type\":\"ResetTool\"},{\"id\":\"6546ac50-eeab-4c55-a271-65e19feb8cc2\",\"type\":\"HelpTool\"}]},\"id\":\"f9728058-b9ad-43ef-ab8a-320676bc5fda\",\"type\":\"Toolbar\"},{\"attributes\":{},\"id\":\"8ace66b1-9118-41d2-80ee-a533eec0a15d\",\"type\":\"ToolEvents\"},{\"attributes\":{\"formatter\":{\"id\":\"affd5c55-92d8-4d41-a724-e81c317797a4\",\"type\":\"BasicTickFormatter\"},\"plot\":{\"id\":\"c4eb7700-55f4-4ba4-a71b-fd8a47e190f9\",\"subtype\":\"Figure\",\"type\":\"Plot\"},\"ticker\":{\"id\":\"cc707b49-d41f-402b-ae3e-f439f1fb57dd\",\"type\":\"BasicTicker\"}},\"id\":\"3f3e36ba-bdae-4dde-9421-54847f43f651\",\"type\":\"LinearAxis\"},{\"attributes\":{\"plot\":{\"id\":\"c4eb7700-55f4-4ba4-a71b-fd8a47e190f9\",\"subtype\":\"Figure\",\"type\":\"Plot\"},\"ticker\":{\"id\":\"2b18fbab-ae8a-4c95-89e8-a3fec2ebe28f\",\"type\":\"BasicTicker\"}},\"id\":\"5312602f-dd65-466c-985d-75ee32dc9c3d\",\"type\":\"Grid\"},{\"attributes\":{\"line_alpha\":{\"value\":0.1},\"line_color\":{\"value\":\"#1f77b4\"},\"x\":{\"field\":\"x\"},\"y\":{\"field\":\"y\"}},\"id\":\"156514ad-a9a9-4d0c-bb77-9800911b4d03\",\"type\":\"Line\"},{\"attributes\":{\"plot\":{\"id\":\"c4eb7700-55f4-4ba4-a71b-fd8a47e190f9\",\"subtype\":\"Figure\",\"type\":\"Plot\"}},\"id\":\"6f67290d-d49b-45d0-89b8-291d9f42b314\",\"type\":\"ResetTool\"},{\"attributes\":{},\"id\":\"affd5c55-92d8-4d41-a724-e81c317797a4\",\"type\":\"BasicTickFormatter\"}],\"root_ids\":[\"76e0bcba-a361-4b29-878e-cc2613699f86\"]},\"title\":\"Bokeh Application\",\"version\":\"0.12.0\"}};\n",
       "            var render_items = [{\"docid\":\"c140ad4e-4ed0-41cd-8618-014d8f30e23b\",\"elementid\":\"a2f603e0-d290-4fc6-ba03-001bff054ebd\",\"modelid\":\"76e0bcba-a361-4b29-878e-cc2613699f86\",\"notebook_comms_target\":\"efa9bbec-ffac-4105-b85e-00194737a1d3\"}];\n",
       "            \n",
       "            Bokeh.embed.embed_items(docs_json, render_items);\n",
       "        });\n",
       "      },\n",
       "      function(Bokeh) {\n",
       "      }\n",
       "    ];\n",
       "  \n",
       "    function run_inline_js() {\n",
       "      for (var i = 0; i < inline_js.length; i++) {\n",
       "        inline_js[i](window.Bokeh);\n",
       "      }\n",
       "    }\n",
       "  \n",
       "    if (window._bokeh_is_loading === 0) {\n",
       "      console.log(\"Bokeh: BokehJS loaded, going straight to plotting\");\n",
       "      run_inline_js();\n",
       "    } else {\n",
       "      load_libs(js_urls, function() {\n",
       "        console.log(\"Bokeh: BokehJS plotting callback run at\", now());\n",
       "        run_inline_js();\n",
       "      });\n",
       "    }\n",
       "  }(this));\n",
       "</script>"
      ]
     },
     "metadata": {},
     "output_type": "display_data"
    },
    {
     "data": {
      "text/html": [
       "<p><code>&lt;Bokeh Notebook handle for <strong>In[86]</strong>&gt;</code></p>"
      ],
      "text/plain": [
       "<bokeh.io._CommsHandle at 0x21050e8dc18>"
      ]
     },
     "execution_count": 86,
     "metadata": {},
     "output_type": "execute_result"
    }
   ],
   "source": [
    "#inverse fourier transform back\n",
    "IFT_FT_top_hat = ifft(FT_top_hat)\n",
    "\n",
    "p4 = figure(height = 300, width = 300, title = 'Real Part of IFT{FT{top_hat}}', x_axis_label = 'time/s')\n",
    "q4 = p4.line(t, np.real(IFT_FT_top_hat))\n",
    "\n",
    "p5 = gridplot([[p2,p3,p4]])\n",
    "show(p5)"
   ]
  },
  {
   "cell_type": "code",
   "execution_count": 87,
   "metadata": {
    "collapsed": false
   },
   "outputs": [],
   "source": [
    "def change_hat_width(hat_width):\n",
    "    top_hat = np.zeros(sample_no)\n",
    "    for i in range(sample_no):\n",
    "        if abs(i-int(sample_no/2)) < 0.5*hat_width:\n",
    "            top_hat[i] = 1.0\n",
    "    FT_top_hat = fftshift(fft(top_hat))\n",
    "    IFT_FT_top_hat = ifft(FT_top_hat)\n",
    "    #update the data on the graphs\n",
    "    q2.data_source.data['y'] = top_hat\n",
    "    q3.data_source.data['y'] = np.real(FT_top_hat)\n",
    "    q4.data_source.data['y'] = np.real(IFT_FT_top_hat)\n",
    "    #push this change to the notebook\n",
    "    push_notebook()\n",
    "\n",
    "#create an interactive slider to control plot properties\n",
    "interact(change_hat_width, hat_width=widgets.IntSlider(min=0,max=sample_no,step=1,value=100));"
   ]
  },
  {
   "cell_type": "markdown",
   "metadata": {},
   "source": [
    "Even at low frequencies, the recovered function (right) appears to have little in common with the original (left). This is because the fourier transform (centre) is truncated by the finite length of the array, 256 in this case. This has the same effect as multiplying the fourier transform by a top hat of width 256 Hz, centred on 0 Hz.\n",
    "\n",
    "Consequently, `IFT{FT{top_hat}}` is the original `top_hat` convolved with a sinc function of high frequency.\n",
    "Q: What is this frequency?"
   ]
  },
  {
   "cell_type": "code",
   "execution_count": null,
   "metadata": {
    "collapsed": true
   },
   "outputs": [],
   "source": []
  }
 ],
 "metadata": {
  "anaconda-cloud": {},
  "kernelspec": {
   "display_name": "Python 3",
   "language": "python",
   "name": "Python 3"
  },
  "language_info": {
   "codemirror_mode": {
    "name": "ipython",
    "version": 3
   },
   "file_extension": ".py",
   "mimetype": "text/x-python",
   "name": "python",
   "nbconvert_exporter": "python",
   "pygments_lexer": "ipython3",
   "version": "3.5.2"
  }
 },
 "nbformat": 4,
 "nbformat_minor": 0
}
