{
 "cells": [
  {
   "cell_type": "markdown",
   "metadata": {},
   "source": [
    "### Aliasing\n",
    "**Learning objectives: using fast fourier transforms, aliasing.**\n",
    "\n",
    "A noiseless analogue signal can be recovered perfectly from discretely sampled data, provided the sampling rate is greater than double the highest frequency component. This is Nyquist's theorem. If a signal is sampled below this rate, aliasing occurs."
   ]
  },
  {
   "cell_type": "code",
   "execution_count": 13,
   "metadata": {
    "collapsed": false,
    "run_control": {
     "frozen": false,
     "read_only": false
    }
   },
   "outputs": [
    {
     "data": {
      "text/html": [
       "\n",
       "    <div class=\"bk-root\">\n",
       "        <a href=\"http://bokeh.pydata.org\" target=\"_blank\" class=\"bk-logo bk-logo-small bk-logo-notebook\"></a>\n",
       "        <span id=\"cc21c93b-368d-4c33-b801-40a128d6d1da\">Loading BokehJS ...</span>\n",
       "    </div>"
      ]
     },
     "metadata": {},
     "output_type": "display_data"
    },
    {
     "data": {
      "application/javascript": [
       "\n",
       "(function(global) {\n",
       "  function now() {\n",
       "    return new Date();\n",
       "  }\n",
       "\n",
       "  if (typeof (window._bokeh_onload_callbacks) === \"undefined\") {\n",
       "    window._bokeh_onload_callbacks = [];\n",
       "  }\n",
       "\n",
       "  function run_callbacks() {\n",
       "    window._bokeh_onload_callbacks.forEach(function(callback) { callback() });\n",
       "    delete window._bokeh_onload_callbacks\n",
       "    console.info(\"Bokeh: all callbacks have finished\");\n",
       "  }\n",
       "\n",
       "  function load_libs(js_urls, callback) {\n",
       "    window._bokeh_onload_callbacks.push(callback);\n",
       "    if (window._bokeh_is_loading > 0) {\n",
       "      console.log(\"Bokeh: BokehJS is being loaded, scheduling callback at\", now());\n",
       "      return null;\n",
       "    }\n",
       "    if (js_urls == null || js_urls.length === 0) {\n",
       "      run_callbacks();\n",
       "      return null;\n",
       "    }\n",
       "    console.log(\"Bokeh: BokehJS not loaded, scheduling load and callback at\", now());\n",
       "    window._bokeh_is_loading = js_urls.length;\n",
       "    for (var i = 0; i < js_urls.length; i++) {\n",
       "      var url = js_urls[i];\n",
       "      var s = document.createElement('script');\n",
       "      s.src = url;\n",
       "      s.async = false;\n",
       "      s.onreadystatechange = s.onload = function() {\n",
       "        window._bokeh_is_loading--;\n",
       "        if (window._bokeh_is_loading === 0) {\n",
       "          console.log(\"Bokeh: all BokehJS libraries loaded\");\n",
       "          run_callbacks()\n",
       "        }\n",
       "      };\n",
       "      s.onerror = function() {\n",
       "        console.warn(\"failed to load library \" + url);\n",
       "      };\n",
       "      console.log(\"Bokeh: injecting script tag for BokehJS library: \", url);\n",
       "      document.getElementsByTagName(\"head\")[0].appendChild(s);\n",
       "    }\n",
       "  };\n",
       "\n",
       "  var js_urls = ['https://cdn.pydata.org/bokeh/release/bokeh-0.12.0.min.js', 'https://cdn.pydata.org/bokeh/release/bokeh-widgets-0.12.0.min.js', 'https://cdn.pydata.org/bokeh/release/bokeh-compiler-0.12.0.min.js'];\n",
       "\n",
       "  var inline_js = [\n",
       "    function(Bokeh) {\n",
       "      Bokeh.set_log_level(\"info\");\n",
       "    },\n",
       "    \n",
       "    function(Bokeh) {\n",
       "      Bokeh.$(\"#cc21c93b-368d-4c33-b801-40a128d6d1da\").text(\"BokehJS successfully loaded\");\n",
       "    },\n",
       "    function(Bokeh) {\n",
       "      console.log(\"Bokeh: injecting CSS: https://cdn.pydata.org/bokeh/release/bokeh-0.12.0.min.css\");\n",
       "      Bokeh.embed.inject_css(\"https://cdn.pydata.org/bokeh/release/bokeh-0.12.0.min.css\");\n",
       "      console.log(\"Bokeh: injecting CSS: https://cdn.pydata.org/bokeh/release/bokeh-widgets-0.12.0.min.css\");\n",
       "      Bokeh.embed.inject_css(\"https://cdn.pydata.org/bokeh/release/bokeh-widgets-0.12.0.min.css\");\n",
       "    }\n",
       "  ];\n",
       "\n",
       "  function run_inline_js() {\n",
       "    for (var i = 0; i < inline_js.length; i++) {\n",
       "      inline_js[i](window.Bokeh);\n",
       "    }\n",
       "  }\n",
       "\n",
       "  if (window._bokeh_is_loading === 0) {\n",
       "    console.log(\"Bokeh: BokehJS loaded, going straight to plotting\");\n",
       "    run_inline_js();\n",
       "  } else {\n",
       "    load_libs(js_urls, function() {\n",
       "      console.log(\"Bokeh: BokehJS plotting callback run at\", now());\n",
       "      run_inline_js();\n",
       "    });\n",
       "  }\n",
       "}(this));"
      ]
     },
     "metadata": {},
     "output_type": "display_data"
    }
   ],
   "source": [
    "#NAME: Aliasing\n",
    "#DESCRIPTION: Demonstrates aliasing and the use of fast Fourier transforms.\n",
    "\n",
    "import numpy as np\n",
    "from numpy import pi\n",
    "from numpy.fft import fft, ifft, fftshift\n",
    "\n",
    "from bokeh.plotting import figure, show, output_notebook\n",
    "from bokeh.io import push_notebook, gridplot\n",
    "from ipywidgets import widgets, interact\n",
    "from IPython.display import display\n",
    "\n",
    "output_notebook()\n",
    "\n",
    "sample_no = 256\n",
    "signal_frequency = 100.0\n",
    "\n",
    "#time domain function f(t)\n",
    "t = np.linspace(0.0, 1.0,sample_no)\n",
    "f = np.cos(2*signal_frequency*pi*t)"
   ]
  },
  {
   "cell_type": "markdown",
   "metadata": {},
   "source": [
    "Time is plotted from 0s to 1s and there are 256 samples. The sampling frequency is therefore 256 Hz, giving a Nyqyuist limit of 128 Hz. Any signal of frequency greater than 128 Hz will be aliased to a frequency below this."
   ]
  },
  {
   "cell_type": "code",
   "execution_count": 14,
   "metadata": {
    "collapsed": false,
    "run_control": {
     "frozen": false,
     "read_only": false
    }
   },
   "outputs": [
    {
     "data": {
      "text/html": [
       "\n",
       "\n",
       "    <div class=\"bk-root\">\n",
       "        <div class=\"plotdiv\" id=\"bb1fb329-c0d2-4d13-8d51-38bec393bd91\"></div>\n",
       "    </div>\n",
       "<script type=\"text/javascript\">\n",
       "  \n",
       "  (function(global) {\n",
       "    function now() {\n",
       "      return new Date();\n",
       "    }\n",
       "  \n",
       "    if (typeof (window._bokeh_onload_callbacks) === \"undefined\") {\n",
       "      window._bokeh_onload_callbacks = [];\n",
       "    }\n",
       "  \n",
       "    function run_callbacks() {\n",
       "      window._bokeh_onload_callbacks.forEach(function(callback) { callback() });\n",
       "      delete window._bokeh_onload_callbacks\n",
       "      console.info(\"Bokeh: all callbacks have finished\");\n",
       "    }\n",
       "  \n",
       "    function load_libs(js_urls, callback) {\n",
       "      window._bokeh_onload_callbacks.push(callback);\n",
       "      if (window._bokeh_is_loading > 0) {\n",
       "        console.log(\"Bokeh: BokehJS is being loaded, scheduling callback at\", now());\n",
       "        return null;\n",
       "      }\n",
       "      if (js_urls == null || js_urls.length === 0) {\n",
       "        run_callbacks();\n",
       "        return null;\n",
       "      }\n",
       "      console.log(\"Bokeh: BokehJS not loaded, scheduling load and callback at\", now());\n",
       "      window._bokeh_is_loading = js_urls.length;\n",
       "      for (var i = 0; i < js_urls.length; i++) {\n",
       "        var url = js_urls[i];\n",
       "        var s = document.createElement('script');\n",
       "        s.src = url;\n",
       "        s.async = false;\n",
       "        s.onreadystatechange = s.onload = function() {\n",
       "          window._bokeh_is_loading--;\n",
       "          if (window._bokeh_is_loading === 0) {\n",
       "            console.log(\"Bokeh: all BokehJS libraries loaded\");\n",
       "            run_callbacks()\n",
       "          }\n",
       "        };\n",
       "        s.onerror = function() {\n",
       "          console.warn(\"failed to load library \" + url);\n",
       "        };\n",
       "        console.log(\"Bokeh: injecting script tag for BokehJS library: \", url);\n",
       "        document.getElementsByTagName(\"head\")[0].appendChild(s);\n",
       "      }\n",
       "    };var element = document.getElementById(\"bb1fb329-c0d2-4d13-8d51-38bec393bd91\");\n",
       "    if (element == null) {\n",
       "      console.log(\"Bokeh: ERROR: autoload.js configured with elementid 'bb1fb329-c0d2-4d13-8d51-38bec393bd91' but no matching script tag was found. \")\n",
       "      return false;\n",
       "    }\n",
       "  \n",
       "    var js_urls = [];\n",
       "  \n",
       "    var inline_js = [\n",
       "      function(Bokeh) {\n",
       "        Bokeh.$(function() {\n",
       "            var docs_json = {\"cb802c70-c272-48a0-b589-93b379e910b6\":{\"roots\":{\"references\":[{\"attributes\":{},\"id\":\"ef146e5d-f854-4eb2-beb9-d72f92adc3c6\",\"type\":\"BasicTickFormatter\"},{\"attributes\":{},\"id\":\"79d43eec-bf5f-47a0-8ce6-fdb74a702e79\",\"type\":\"ToolEvents\"},{\"attributes\":{\"active_drag\":\"auto\",\"active_scroll\":\"auto\",\"active_tap\":\"auto\",\"tools\":[{\"id\":\"ee31c04a-b80b-435c-a2b6-ff20a9cade8d\",\"type\":\"PanTool\"},{\"id\":\"c45f0127-a95e-427b-9250-fa80807190ac\",\"type\":\"WheelZoomTool\"},{\"id\":\"6fc17446-2827-4c79-9a2e-aed907de39c9\",\"type\":\"BoxZoomTool\"},{\"id\":\"3be3119a-1bb0-4720-b0bc-ccefad2feab1\",\"type\":\"SaveTool\"},{\"id\":\"87adb5e1-f4c2-4c97-b672-c562570dc130\",\"type\":\"ResetTool\"},{\"id\":\"d76e8407-167c-4c6f-b6b4-a1c6b6c1793a\",\"type\":\"HelpTool\"}]},\"id\":\"21717e07-10b3-4b7f-a154-63cd80bbffd1\",\"type\":\"Toolbar\"},{\"attributes\":{\"plot\":{\"id\":\"b28abdcc-f068-4368-999b-4cc52e40d3fa\",\"subtype\":\"Figure\",\"type\":\"Plot\"}},\"id\":\"87adb5e1-f4c2-4c97-b672-c562570dc130\",\"type\":\"ResetTool\"},{\"attributes\":{\"overlay\":{\"id\":\"45a3eb52-cb80-4e46-a3b8-cc70ab7b17e2\",\"type\":\"BoxAnnotation\"},\"plot\":{\"id\":\"b28abdcc-f068-4368-999b-4cc52e40d3fa\",\"subtype\":\"Figure\",\"type\":\"Plot\"}},\"id\":\"6fc17446-2827-4c79-9a2e-aed907de39c9\",\"type\":\"BoxZoomTool\"},{\"attributes\":{\"axis_label\":\"FT(cosine)\",\"formatter\":{\"id\":\"ef146e5d-f854-4eb2-beb9-d72f92adc3c6\",\"type\":\"BasicTickFormatter\"},\"plot\":{\"id\":\"b28abdcc-f068-4368-999b-4cc52e40d3fa\",\"subtype\":\"Figure\",\"type\":\"Plot\"},\"ticker\":{\"id\":\"9e5ecdba-16a8-41d4-a951-ca78ff7a2edc\",\"type\":\"BasicTicker\"}},\"id\":\"ad4be176-bf7f-4e9a-88aa-e9df4b65cf18\",\"type\":\"LinearAxis\"},{\"attributes\":{\"line_alpha\":{\"value\":0.1},\"line_color\":{\"value\":\"#1f77b4\"},\"x\":{\"field\":\"x\"},\"y\":{\"field\":\"y\"}},\"id\":\"dd1485e9-95f6-4305-bbd6-85c39117dc82\",\"type\":\"Line\"},{\"attributes\":{\"plot\":null,\"text\":null},\"id\":\"ac19e6ce-163e-426b-8fc1-3a47b1ff2f4f\",\"type\":\"Title\"},{\"attributes\":{\"callback\":null},\"id\":\"1112a0b1-e73b-49a0-8cc2-a84b4393ab97\",\"type\":\"DataRange1d\"},{\"attributes\":{\"plot\":{\"id\":\"b28abdcc-f068-4368-999b-4cc52e40d3fa\",\"subtype\":\"Figure\",\"type\":\"Plot\"}},\"id\":\"3be3119a-1bb0-4720-b0bc-ccefad2feab1\",\"type\":\"SaveTool\"},{\"attributes\":{\"below\":[{\"id\":\"19043f26-31bd-4736-bdbd-188de4f65c00\",\"type\":\"LinearAxis\"}],\"left\":[{\"id\":\"ad4be176-bf7f-4e9a-88aa-e9df4b65cf18\",\"type\":\"LinearAxis\"}],\"renderers\":[{\"id\":\"19043f26-31bd-4736-bdbd-188de4f65c00\",\"type\":\"LinearAxis\"},{\"id\":\"b271dda3-9777-4128-8662-77e9e6a7d484\",\"type\":\"Grid\"},{\"id\":\"ad4be176-bf7f-4e9a-88aa-e9df4b65cf18\",\"type\":\"LinearAxis\"},{\"id\":\"932ac10a-9ecf-47ab-983a-0436e021a230\",\"type\":\"Grid\"},{\"id\":\"45a3eb52-cb80-4e46-a3b8-cc70ab7b17e2\",\"type\":\"BoxAnnotation\"},{\"id\":\"fd6da8f3-675a-4461-aede-e88b5a25d276\",\"type\":\"GlyphRenderer\"}],\"title\":{\"id\":\"ac19e6ce-163e-426b-8fc1-3a47b1ff2f4f\",\"type\":\"Title\"},\"tool_events\":{\"id\":\"79d43eec-bf5f-47a0-8ce6-fdb74a702e79\",\"type\":\"ToolEvents\"},\"toolbar\":{\"id\":\"21717e07-10b3-4b7f-a154-63cd80bbffd1\",\"type\":\"Toolbar\"},\"x_range\":{\"id\":\"5fb1a3a0-f009-4bc6-8222-db0ddc00b609\",\"type\":\"DataRange1d\"},\"y_range\":{\"id\":\"1112a0b1-e73b-49a0-8cc2-a84b4393ab97\",\"type\":\"DataRange1d\"}},\"id\":\"b28abdcc-f068-4368-999b-4cc52e40d3fa\",\"subtype\":\"Figure\",\"type\":\"Plot\"},{\"attributes\":{\"callback\":null},\"id\":\"5fb1a3a0-f009-4bc6-8222-db0ddc00b609\",\"type\":\"DataRange1d\"},{\"attributes\":{\"plot\":{\"id\":\"b28abdcc-f068-4368-999b-4cc52e40d3fa\",\"subtype\":\"Figure\",\"type\":\"Plot\"}},\"id\":\"d76e8407-167c-4c6f-b6b4-a1c6b6c1793a\",\"type\":\"HelpTool\"},{\"attributes\":{},\"id\":\"9b8a1c0d-0641-4482-a72a-a9e0a50f78dd\",\"type\":\"BasicTicker\"},{\"attributes\":{},\"id\":\"19c58b5e-125c-4d42-a565-df40b1804e5b\",\"type\":\"BasicTickFormatter\"},{\"attributes\":{\"dimension\":1,\"plot\":{\"id\":\"b28abdcc-f068-4368-999b-4cc52e40d3fa\",\"subtype\":\"Figure\",\"type\":\"Plot\"},\"ticker\":{\"id\":\"9e5ecdba-16a8-41d4-a951-ca78ff7a2edc\",\"type\":\"BasicTicker\"}},\"id\":\"932ac10a-9ecf-47ab-983a-0436e021a230\",\"type\":\"Grid\"},{\"attributes\":{\"data_source\":{\"id\":\"5282f60e-e21e-417d-a1df-bd980b5b92b0\",\"type\":\"ColumnDataSource\"},\"glyph\":{\"id\":\"8c262b0f-3d25-4451-959d-5849dc8c623f\",\"type\":\"Line\"},\"hover_glyph\":null,\"nonselection_glyph\":{\"id\":\"dd1485e9-95f6-4305-bbd6-85c39117dc82\",\"type\":\"Line\"},\"selection_glyph\":null},\"id\":\"fd6da8f3-675a-4461-aede-e88b5a25d276\",\"type\":\"GlyphRenderer\"},{\"attributes\":{},\"id\":\"9e5ecdba-16a8-41d4-a951-ca78ff7a2edc\",\"type\":\"BasicTicker\"},{\"attributes\":{\"bottom_units\":\"screen\",\"fill_alpha\":{\"value\":0.5},\"fill_color\":{\"value\":\"lightgrey\"},\"left_units\":\"screen\",\"level\":\"overlay\",\"line_alpha\":{\"value\":1.0},\"line_color\":{\"value\":\"black\"},\"line_dash\":[4,4],\"line_width\":{\"value\":2},\"plot\":null,\"render_mode\":\"css\",\"right_units\":\"screen\",\"top_units\":\"screen\"},\"id\":\"45a3eb52-cb80-4e46-a3b8-cc70ab7b17e2\",\"type\":\"BoxAnnotation\"},{\"attributes\":{\"plot\":{\"id\":\"b28abdcc-f068-4368-999b-4cc52e40d3fa\",\"subtype\":\"Figure\",\"type\":\"Plot\"},\"ticker\":{\"id\":\"9b8a1c0d-0641-4482-a72a-a9e0a50f78dd\",\"type\":\"BasicTicker\"}},\"id\":\"b271dda3-9777-4128-8662-77e9e6a7d484\",\"type\":\"Grid\"},{\"attributes\":{\"callback\":null,\"column_names\":[\"y\",\"x\"],\"data\":{\"x\":[-128.0,-126.99607843137255,-125.9921568627451,-124.98823529411764,-123.9843137254902,-122.98039215686275,-121.97647058823529,-120.97254901960784,-119.96862745098039,-118.96470588235294,-117.9607843137255,-116.95686274509804,-115.95294117647059,-114.94901960784314,-113.94509803921568,-112.94117647058823,-111.93725490196078,-110.93333333333334,-109.92941176470589,-108.92549019607843,-107.92156862745098,-106.91764705882353,-105.91372549019607,-104.90980392156862,-103.90588235294118,-102.90196078431373,-101.89803921568628,-100.89411764705882,-99.89019607843137,-98.88627450980393,-97.88235294117646,-96.87843137254902,-95.87450980392157,-94.87058823529412,-93.86666666666667,-92.86274509803921,-91.85882352941177,-90.85490196078432,-89.85098039215686,-88.84705882352941,-87.84313725490196,-86.83921568627451,-85.83529411764707,-84.8313725490196,-83.82745098039216,-82.82352941176471,-81.81960784313725,-80.8156862745098,-79.81176470588235,-78.8078431372549,-77.80392156862746,-76.8,-75.79607843137255,-74.7921568627451,-73.78823529411764,-72.7843137254902,-71.78039215686275,-70.7764705882353,-69.77254901960785,-68.76862745098039,-67.76470588235294,-66.7607843137255,-65.75686274509803,-64.75294117647059,-63.74901960784314,-62.74509803921569,-61.74117647058824,-60.73725490196078,-59.733333333333334,-58.72941176470589,-57.725490196078425,-56.72156862745098,-55.71764705882353,-54.71372549019608,-53.709803921568636,-52.705882352941174,-51.70196078431373,-50.69803921568628,-49.69411764705882,-48.69019607843137,-47.68627450980392,-46.682352941176475,-45.67843137254903,-44.674509803921566,-43.67058823529412,-42.66666666666667,-41.66274509803921,-40.65882352941176,-39.654901960784315,-38.65098039215687,-37.64705882352942,-36.64313725490196,-35.63921568627451,-34.635294117647064,-33.6313725490196,-32.627450980392155,-31.623529411764707,-30.61960784313726,-29.615686274509812,-28.61176470588235,-27.607843137254903,-26.603921568627456,-25.599999999999994,-24.596078431372547,-23.5921568627451,-22.588235294117652,-21.584313725490205,-20.580392156862743,-19.576470588235296,-18.572549019607848,-17.568627450980387,-16.56470588235294,-15.560784313725492,-14.556862745098044,-13.552941176470597,-12.549019607843135,-11.545098039215688,-10.54117647058824,-9.537254901960779,-8.533333333333331,-7.529411764705884,-6.525490196078437,-5.521568627450989,-4.517647058823528,-3.51372549019608,-2.5098039215686327,-1.5058823529411711,-0.5019607843137237,0.5019607843137237,1.5058823529411711,2.5098039215686185,3.513725490196066,4.517647058823513,5.521568627450989,6.525490196078437,7.529411764705884,8.533333333333331,9.537254901960779,10.541176470588226,11.545098039215674,12.54901960784315,13.552941176470597,14.556862745098044,15.560784313725492,16.56470588235294,17.568627450980387,18.572549019607834,19.57647058823528,20.58039215686273,21.584313725490205,22.588235294117652,23.5921568627451,24.596078431372547,25.599999999999994,26.60392156862744,27.60784313725489,28.611764705882365,29.615686274509812,30.61960784313726,31.623529411764707,32.627450980392155,33.6313725490196,34.63529411764705,35.6392156862745,36.643137254901944,37.64705882352942,38.65098039215687,39.654901960784315,40.65882352941176,41.66274509803921,42.66666666666666,43.670588235294105,44.67450980392158,45.67843137254903,46.682352941176475,47.68627450980392,48.69019607843137,49.69411764705882,50.698039215686265,51.70196078431371,52.70588235294116,53.709803921568636,54.71372549019608,55.71764705882353,56.72156862745098,57.725490196078425,58.72941176470587,59.73333333333332,60.737254901960796,61.74117647058824,62.74509803921569,63.74901960784314,64.75294117647059,65.75686274509803,66.76078431372548,67.76470588235293,68.76862745098038,69.77254901960785,70.7764705882353,71.78039215686275,72.7843137254902,73.78823529411764,74.79215686274509,75.79607843137254,76.80000000000001,77.80392156862746,78.8078431372549,79.81176470588235,80.8156862745098,81.81960784313725,82.8235294117647,83.82745098039214,84.83137254901959,85.83529411764707,86.83921568627451,87.84313725490196,88.84705882352941,89.85098039215686,90.8549019607843,91.85882352941175,92.86274509803923,93.86666666666667,94.87058823529412,95.87450980392157,96.87843137254902,97.88235294117646,98.88627450980391,99.89019607843136,100.8941176470588,101.89803921568628,102.90196078431373,103.90588235294118,104.90980392156862,105.91372549019607,106.91764705882352,107.92156862745097,108.92549019607844,109.92941176470589,110.93333333333334,111.93725490196078,112.94117647058823,113.94509803921568,114.94901960784313,115.95294117647057,116.95686274509802,117.9607843137255,118.96470588235294,119.96862745098039,120.97254901960784,121.97647058823529,122.98039215686273,123.98431372549018,124.98823529411766,125.9921568627451,126.99607843137255,128.0],\"y\":[7.527312106958561e-14,0.09895852206490337,0.19871582027754375,0.3000918871824976,0.40395034230404253,0.5112233477309447,0.622940590450152,0.7402643176270551,0.8645330785528266,0.9973178544256663,1.140495838399956,1.296349589071431,1.4677031781874597,1.6581132667758536,1.8721435446635641,2.115768974726919,2.396988258792124,2.7267820535512772,3.1206689540449677,3.6013454617425147,4.2034074139916,4.982357960466578,6.0332528706960105,7.5336238105222115,9.857784229314928,13.954123935421014,23.130355476180554,62.46086735615294,98.73842347411309,28.34092053860135,16.79232934892301,12.047440127957639,9.459341089688689,7.8282706253866925,6.705227766250866,5.8841639967517105,5.257234131332275,4.76251735510996,4.361921926542323,4.0307269583603595,3.7521878036196648,3.514558333365576,3.309354589833696,3.1302952677506464,2.9726299968907837,2.83269934471439,2.707638348129583,2.5951717654101634,2.4934695642923703,2.401042936215833,2.3166681683832047,2.2393300377618868,2.168179125065314,2.10249921164829,2.0416820853254154,1.9852078620279883,1.9326294636169215,1.8835602622216399,1.8376641619529663,1.7946475746464725,1.7542528804639212,1.716253062196969,1.6804472745023085,1.646657163229239,1.6147237906558491,1.584505053274002,1.5558735023836374,1.5287144959761203,1.5029246245496488,1.4784103645753162,1.4550869220682017,1.432877235638079,1.4117111138968623,1.3915244865522631,1.372258752045509,1.35386020751539,1.3362795491912753,1.3194714332683986,1.3033940888726503,1.2880089760484768,1.2732804827675281,1.2591756558601142,1.2456639615173806,1.2327170716449545,1.2203086728671526,1.2084142954399573,1.1970111596883397,1.186078037922656,1.1755951300466854,1.1655439513059451,1.1559072308260012,1.1466688197599626,1.1378136080043224,1.1293274485905973,1.1211970889263834,1.1134101082109664,1.1059548603850664,1.098820422070023,1.0919965450128049,1.0854736125945483,1.0792426000338637,1.0732950379208572,1.067622978802314,1.0622189665168629,1.0570760080654376,1.052187547772114,1.0475474435622882,1.0431499451647694,1.0389896740940157,1.0350616052605826,1.0313610500908452,1.0278836410367318,1.024625317372906,1.0215823121911103,1.0187511405075398,1.0161285884065199,1.013711703157951,1.011497784241803,1.0094843752330112,1.0076692564942242,1.006050438633472,1.004626156693337,1.003394865033435,1.0023552328801992,1.001506140518677,1.0008466761051527,1.0003761330802619,1.0000940081774827,0.9999999999999203,1.0000940081774858,1.000376133080259,1.0008466761051487,1.0015061405186663,1.0023552328802108,1.003394865033436,1.0046261566933363,1.0060504386334714,1.0076692564942265,1.009484375233008,1.0114977842417958,1.0137117031579634,1.016128588406522,1.0187511405075385,1.0215823121911067,1.024625317372904,1.027883641036734,1.0313610500908432,1.0350616052605774,1.0389896740939992,1.0431499451647746,1.047547443562287,1.0521875477721085,1.057076008065434,1.0622189665168598,1.0676229788023037,1.0732950379208324,1.079242600033902,1.0854736125945599,1.0919965450128089,1.0988204220700222,1.1059548603850653,1.1134101082109673,1.1211970889263776,1.1293274485905824,1.1378136080042636,1.1466688197599995,1.155907230826014,1.165543951305951,1.175595130046691,1.186078037922662,1.1970111596883426,1.2084142954399546,1.2203086728671673,1.232717071644964,1.2456639615173868,1.259175655860116,1.2732804827675313,1.2880089760484805,1.3033940888726518,1.3194714332683923,1.3362795491912602,1.353860207515408,1.3722587520455147,1.3915244865522627,1.411711113896865,1.4328772356380846,1.4550869220682026,1.4784103645753077,1.5029246245496655,1.5287144959761285,1.5558735023836399,1.584505053274002,1.6147237906558491,1.6466571632292446,1.6804472745023096,1.7162530621969636,1.7542528804638975,1.794647574646487,1.8376641619529719,1.8835602622216394,1.9326294636169232,1.9852078620279958,2.041682085325417,2.102499211648287,2.1681791250653304,2.2393300377618983,2.316668168383208,2.40104293621583,2.49346956429237,2.59517176541017,2.70763834812958,2.83269934471438,2.9726299968907344,3.13029526775068,3.309354589833707,3.514558333365579,3.752187803619669,4.030726958360371,4.361921926542319,4.762517355109935,5.257234131332331,5.88416399675175,6.705227766250883,7.828270625386697,9.459341089688694,12.047440127957692,16.792329348923037,28.340920538601374,98.73842347411312,62.460867356152924,23.130355476180533,13.95412393542099,9.857784229314923,7.533623810522231,6.03325287069601,4.982357960466577,4.203407413991576,3.6013454617425165,3.1206689540449606,2.7267820535512666,2.3969882587921214,2.115768974726918,1.8721435446635541,1.6581132667758403,1.4677031781874037,1.296349589071456,1.1404958383999635,0.9973178544256702,0.8645330785528288,0.740264317627062,0.6229405904501575,0.5112233477309573,0.40395034230401783,0.3000918871824906,0.19871582027753862,0.09895852206490147]}},\"id\":\"5282f60e-e21e-417d-a1df-bd980b5b92b0\",\"type\":\"ColumnDataSource\"},{\"attributes\":{\"plot\":{\"id\":\"b28abdcc-f068-4368-999b-4cc52e40d3fa\",\"subtype\":\"Figure\",\"type\":\"Plot\"}},\"id\":\"c45f0127-a95e-427b-9250-fa80807190ac\",\"type\":\"WheelZoomTool\"},{\"attributes\":{\"plot\":{\"id\":\"b28abdcc-f068-4368-999b-4cc52e40d3fa\",\"subtype\":\"Figure\",\"type\":\"Plot\"}},\"id\":\"ee31c04a-b80b-435c-a2b6-ff20a9cade8d\",\"type\":\"PanTool\"},{\"attributes\":{\"axis_label\":\"Frequency/Hz\",\"formatter\":{\"id\":\"19c58b5e-125c-4d42-a565-df40b1804e5b\",\"type\":\"BasicTickFormatter\"},\"plot\":{\"id\":\"b28abdcc-f068-4368-999b-4cc52e40d3fa\",\"subtype\":\"Figure\",\"type\":\"Plot\"},\"ticker\":{\"id\":\"9b8a1c0d-0641-4482-a72a-a9e0a50f78dd\",\"type\":\"BasicTicker\"}},\"id\":\"19043f26-31bd-4736-bdbd-188de4f65c00\",\"type\":\"LinearAxis\"},{\"attributes\":{\"line_color\":{\"value\":\"#1f77b4\"},\"x\":{\"field\":\"x\"},\"y\":{\"field\":\"y\"}},\"id\":\"8c262b0f-3d25-4451-959d-5849dc8c623f\",\"type\":\"Line\"}],\"root_ids\":[\"b28abdcc-f068-4368-999b-4cc52e40d3fa\"]},\"title\":\"Bokeh Application\",\"version\":\"0.12.0\"}};\n",
       "            var render_items = [{\"docid\":\"cb802c70-c272-48a0-b589-93b379e910b6\",\"elementid\":\"bb1fb329-c0d2-4d13-8d51-38bec393bd91\",\"modelid\":\"b28abdcc-f068-4368-999b-4cc52e40d3fa\",\"notebook_comms_target\":\"330718bc-6a3c-4576-9c93-5b2c56d65351\"}];\n",
       "            \n",
       "            Bokeh.embed.embed_items(docs_json, render_items);\n",
       "        });\n",
       "      },\n",
       "      function(Bokeh) {\n",
       "      }\n",
       "    ];\n",
       "  \n",
       "    function run_inline_js() {\n",
       "      for (var i = 0; i < inline_js.length; i++) {\n",
       "        inline_js[i](window.Bokeh);\n",
       "      }\n",
       "    }\n",
       "  \n",
       "    if (window._bokeh_is_loading === 0) {\n",
       "      console.log(\"Bokeh: BokehJS loaded, going straight to plotting\");\n",
       "      run_inline_js();\n",
       "    } else {\n",
       "      load_libs(js_urls, function() {\n",
       "        console.log(\"Bokeh: BokehJS plotting callback run at\", now());\n",
       "        run_inline_js();\n",
       "      });\n",
       "    }\n",
       "  }(this));\n",
       "</script>"
      ]
     },
     "metadata": {},
     "output_type": "display_data"
    },
    {
     "data": {
      "text/html": [
       "<p><code>&lt;Bokeh Notebook handle for <strong>In[14]</strong>&gt;</code></p>"
      ],
      "text/plain": [
       "<bokeh.io._CommsHandle at 0x7f08941e5048>"
      ]
     },
     "execution_count": 14,
     "metadata": {},
     "output_type": "execute_result"
    }
   ],
   "source": [
    "#frequency space domain function F(v) = FT(f(t))\n",
    "v = np.linspace(-0.5*sample_no, 0.5*sample_no, sample_no)\n",
    "F = fftshift(abs(fft(f)))\n",
    "\n",
    "#plot the function F(v)\n",
    "p1 = figure(x_axis_label = 'Frequency/Hz', y_axis_label = 'FT(cosine)')\n",
    "q1 = p1.line(v, F)\n",
    "\n",
    "show(p1)"
   ]
  },
  {
   "cell_type": "code",
   "execution_count": 15,
   "metadata": {
    "collapsed": false,
    "run_control": {
     "frozen": false,
     "read_only": false
    }
   },
   "outputs": [],
   "source": [
    "def change_frequency(signal_frequency):\n",
    "    f = np.cos(2*signal_frequency*pi*t)\n",
    "    F = fftshift(abs(fft(f)))\n",
    "    q1.data_source.data['y'] = F\n",
    "    push_notebook()\n",
    "\n",
    "interact(change_frequency, signal_frequency=widgets.IntSlider(min=0,max=256,step=1,value=8));"
   ]
  },
  {
   "cell_type": "markdown",
   "metadata": {
    "collapsed": true
   },
   "source": [
    "When the signal frequency exceeds the Nyquist limit it is aliased back to a lower frequency. This can lead to severe distortion of sampled signals. A frequency $f$ in the signal with $f_{sampling} < 2f < 2f_{sampling}$ will 'bounce back' and appear at $2f_{sampling} - f$. \n",
    "\n",
    "Consider aliasing of a pair of sinc functions:"
   ]
  },
  {
   "cell_type": "code",
   "execution_count": 16,
   "metadata": {
    "collapsed": false,
    "run_control": {
     "frozen": false,
     "read_only": false
    }
   },
   "outputs": [],
   "source": [
    "hat_width = 100\n",
    "\n",
    "#time domain signal\n",
    "top_hat = np.zeros(sample_no)\n",
    "for i in range(sample_no):\n",
    "    if abs(i-int(sample_no/2)) < int(0.5*hat_width):\n",
    "        top_hat[i] = 1.0\n",
    "    \n",
    "p2 = figure(height = 300, width = 300, title = 'Top Hat', x_axis_label = 'time/s')\n",
    "q2 = p2.line(t, top_hat)"
   ]
  },
  {
   "cell_type": "code",
   "execution_count": 17,
   "metadata": {
    "collapsed": false,
    "run_control": {
     "frozen": false,
     "read_only": false
    }
   },
   "outputs": [],
   "source": [
    "#frequency space signal\n",
    "FT_top_hat = fft(top_hat)\n",
    "\n",
    "p3 = figure(height = 300, width = 300, title = 'Real Part of of FT{top_hat}', x_axis_label = 'frequency/Hz')\n",
    "q3 = p3.line(v, np.real(FT_top_hat))"
   ]
  },
  {
   "cell_type": "code",
   "execution_count": 18,
   "metadata": {
    "collapsed": false,
    "run_control": {
     "frozen": false,
     "read_only": false
    }
   },
   "outputs": [
    {
     "data": {
      "text/html": [
       "\n",
       "\n",
       "    <div class=\"bk-root\">\n",
       "        <div class=\"plotdiv\" id=\"40ee5efd-6404-408a-88d1-062c2fc2b9c7\"></div>\n",
       "    </div>\n",
       "<script type=\"text/javascript\">\n",
       "  \n",
       "  (function(global) {\n",
       "    function now() {\n",
       "      return new Date();\n",
       "    }\n",
       "  \n",
       "    if (typeof (window._bokeh_onload_callbacks) === \"undefined\") {\n",
       "      window._bokeh_onload_callbacks = [];\n",
       "    }\n",
       "  \n",
       "    function run_callbacks() {\n",
       "      window._bokeh_onload_callbacks.forEach(function(callback) { callback() });\n",
       "      delete window._bokeh_onload_callbacks\n",
       "      console.info(\"Bokeh: all callbacks have finished\");\n",
       "    }\n",
       "  \n",
       "    function load_libs(js_urls, callback) {\n",
       "      window._bokeh_onload_callbacks.push(callback);\n",
       "      if (window._bokeh_is_loading > 0) {\n",
       "        console.log(\"Bokeh: BokehJS is being loaded, scheduling callback at\", now());\n",
       "        return null;\n",
       "      }\n",
       "      if (js_urls == null || js_urls.length === 0) {\n",
       "        run_callbacks();\n",
       "        return null;\n",
       "      }\n",
       "      console.log(\"Bokeh: BokehJS not loaded, scheduling load and callback at\", now());\n",
       "      window._bokeh_is_loading = js_urls.length;\n",
       "      for (var i = 0; i < js_urls.length; i++) {\n",
       "        var url = js_urls[i];\n",
       "        var s = document.createElement('script');\n",
       "        s.src = url;\n",
       "        s.async = false;\n",
       "        s.onreadystatechange = s.onload = function() {\n",
       "          window._bokeh_is_loading--;\n",
       "          if (window._bokeh_is_loading === 0) {\n",
       "            console.log(\"Bokeh: all BokehJS libraries loaded\");\n",
       "            run_callbacks()\n",
       "          }\n",
       "        };\n",
       "        s.onerror = function() {\n",
       "          console.warn(\"failed to load library \" + url);\n",
       "        };\n",
       "        console.log(\"Bokeh: injecting script tag for BokehJS library: \", url);\n",
       "        document.getElementsByTagName(\"head\")[0].appendChild(s);\n",
       "      }\n",
       "    };var element = document.getElementById(\"40ee5efd-6404-408a-88d1-062c2fc2b9c7\");\n",
       "    if (element == null) {\n",
       "      console.log(\"Bokeh: ERROR: autoload.js configured with elementid '40ee5efd-6404-408a-88d1-062c2fc2b9c7' but no matching script tag was found. \")\n",
       "      return false;\n",
       "    }\n",
       "  \n",
       "    var js_urls = [];\n",
       "  \n",
       "    var inline_js = [\n",
       "      function(Bokeh) {\n",
       "        Bokeh.$(function() {\n",
       "            var docs_json = {\"502e93d1-8b5b-45e5-a2bb-ef88a0d85f29\":{\"roots\":{\"references\":[{\"attributes\":{\"dimension\":1,\"plot\":{\"id\":\"7da7a74a-7cab-4da8-8e5c-5ccba23c8989\",\"subtype\":\"Figure\",\"type\":\"Plot\"},\"ticker\":{\"id\":\"73d82c8a-03cc-47eb-95ba-7903d2e9570d\",\"type\":\"BasicTicker\"}},\"id\":\"a538a083-7797-4085-bbd1-b15887816826\",\"type\":\"Grid\"},{\"attributes\":{\"plot\":{\"id\":\"e21f6bd2-b6cc-44e9-920b-2ac42d370b70\",\"subtype\":\"Figure\",\"type\":\"Plot\"}},\"id\":\"118e7d4e-6989-44d3-a494-e13349b707cc\",\"type\":\"SaveTool\"},{\"attributes\":{\"plot\":null,\"text\":\"Real Part of of FT{top_hat}\"},\"id\":\"ea0c147b-6c7c-4c4e-9dae-df5df9ce46db\",\"type\":\"Title\"},{\"attributes\":{\"plot\":{\"id\":\"7da7a74a-7cab-4da8-8e5c-5ccba23c8989\",\"subtype\":\"Figure\",\"type\":\"Plot\"}},\"id\":\"a13e6319-3578-474a-a477-1f29f6b6ca50\",\"type\":\"PanTool\"},{\"attributes\":{\"plot\":{\"id\":\"7da7a74a-7cab-4da8-8e5c-5ccba23c8989\",\"subtype\":\"Figure\",\"type\":\"Plot\"}},\"id\":\"7c0b6d86-6b03-425d-bcec-ef31b2ef7227\",\"type\":\"HelpTool\"},{\"attributes\":{\"callback\":null},\"id\":\"f350f883-5eb6-4733-b84d-e0cb2024cf94\",\"type\":\"DataRange1d\"},{\"attributes\":{\"data_source\":{\"id\":\"d383f251-eaef-4a93-8bb0-4fa6289c80e9\",\"type\":\"ColumnDataSource\"},\"glyph\":{\"id\":\"d1f6c5df-9aea-488c-bd75-9b652713cc80\",\"type\":\"Line\"},\"hover_glyph\":null,\"nonselection_glyph\":{\"id\":\"9782f92b-d79a-498a-87cc-3f8206cd2eef\",\"type\":\"Line\"},\"selection_glyph\":null},\"id\":\"d101cc81-ee02-4996-94f4-5736055665ce\",\"type\":\"GlyphRenderer\"},{\"attributes\":{},\"id\":\"0546a939-e7ad-49e7-b1be-7225a4643eff\",\"type\":\"ToolEvents\"},{\"attributes\":{\"plot\":{\"id\":\"e21f6bd2-b6cc-44e9-920b-2ac42d370b70\",\"subtype\":\"Figure\",\"type\":\"Plot\"}},\"id\":\"91329fb8-d250-45c1-8c44-e45a4a0ecd3d\",\"type\":\"HelpTool\"},{\"attributes\":{\"active_drag\":\"auto\",\"active_scroll\":\"auto\",\"active_tap\":\"auto\",\"tools\":[{\"id\":\"a13e6319-3578-474a-a477-1f29f6b6ca50\",\"type\":\"PanTool\"},{\"id\":\"3ab8a6a5-3cee-4c56-a151-66f95746755b\",\"type\":\"WheelZoomTool\"},{\"id\":\"8937f039-c985-4aa9-a40e-2dad28e416cf\",\"type\":\"BoxZoomTool\"},{\"id\":\"0961dd4b-2cd3-428a-9c82-d1f7a567dc2c\",\"type\":\"SaveTool\"},{\"id\":\"f7b5eb52-aeee-4c26-bba1-7c122d0fd2e0\",\"type\":\"ResetTool\"},{\"id\":\"7c0b6d86-6b03-425d-bcec-ef31b2ef7227\",\"type\":\"HelpTool\"}]},\"id\":\"c15f4a41-7730-400e-b80f-a6c9d92764ba\",\"type\":\"Toolbar\"},{\"attributes\":{},\"id\":\"3b79776c-4dcd-4b5b-a905-e51b34934c79\",\"type\":\"BasicTickFormatter\"},{\"attributes\":{\"overlay\":{\"id\":\"a98c96f2-1691-4680-b337-26fc8b54bf9d\",\"type\":\"BoxAnnotation\"},\"plot\":{\"id\":\"397dc733-a6c1-46ee-9856-b887503846e6\",\"subtype\":\"Figure\",\"type\":\"Plot\"}},\"id\":\"a0c2155e-0c3c-464e-83fd-d8a0ca0f353f\",\"type\":\"BoxZoomTool\"},{\"attributes\":{\"axis_label\":\"time/s\",\"formatter\":{\"id\":\"e2f09c72-b179-493b-81c3-784f695cd5eb\",\"type\":\"BasicTickFormatter\"},\"plot\":{\"id\":\"e21f6bd2-b6cc-44e9-920b-2ac42d370b70\",\"subtype\":\"Figure\",\"type\":\"Plot\"},\"ticker\":{\"id\":\"2383627a-3538-4827-9b31-1429dc9db3e2\",\"type\":\"BasicTicker\"}},\"id\":\"47d2e7cc-c5c8-40da-8a8e-9524aa28a13e\",\"type\":\"LinearAxis\"},{\"attributes\":{\"dimension\":1,\"plot\":{\"id\":\"e21f6bd2-b6cc-44e9-920b-2ac42d370b70\",\"subtype\":\"Figure\",\"type\":\"Plot\"},\"ticker\":{\"id\":\"385ede69-af84-4444-8c8d-4494109a0a3c\",\"type\":\"BasicTicker\"}},\"id\":\"7bfd6521-2a8d-4169-935c-23ef7abf5f95\",\"type\":\"Grid\"},{\"attributes\":{},\"id\":\"46b0c796-0d3d-4608-abdd-6b14f467539e\",\"type\":\"BasicTickFormatter\"},{\"attributes\":{\"callback\":null},\"id\":\"88893808-0b7f-4ae6-8c35-e3252ae05694\",\"type\":\"DataRange1d\"},{\"attributes\":{\"plot\":{\"id\":\"e21f6bd2-b6cc-44e9-920b-2ac42d370b70\",\"subtype\":\"Figure\",\"type\":\"Plot\"}},\"id\":\"686f0ccf-afb4-4578-ad9d-ca66bba7d87d\",\"type\":\"ResetTool\"},{\"attributes\":{\"overlay\":{\"id\":\"ef010740-22ef-4aa1-a8bb-b1f5f7b7144d\",\"type\":\"BoxAnnotation\"},\"plot\":{\"id\":\"7da7a74a-7cab-4da8-8e5c-5ccba23c8989\",\"subtype\":\"Figure\",\"type\":\"Plot\"}},\"id\":\"8937f039-c985-4aa9-a40e-2dad28e416cf\",\"type\":\"BoxZoomTool\"},{\"attributes\":{\"callback\":null},\"id\":\"3c680bbb-e930-4d36-9d40-2130dbe06371\",\"type\":\"DataRange1d\"},{\"attributes\":{\"overlay\":{\"id\":\"2693b9c9-b622-40c5-862e-15f8db749c33\",\"type\":\"BoxAnnotation\"},\"plot\":{\"id\":\"e21f6bd2-b6cc-44e9-920b-2ac42d370b70\",\"subtype\":\"Figure\",\"type\":\"Plot\"}},\"id\":\"90830e7f-0d12-462b-a6f3-c092c468ab06\",\"type\":\"BoxZoomTool\"},{\"attributes\":{\"plot\":{\"id\":\"7da7a74a-7cab-4da8-8e5c-5ccba23c8989\",\"subtype\":\"Figure\",\"type\":\"Plot\"}},\"id\":\"f7b5eb52-aeee-4c26-bba1-7c122d0fd2e0\",\"type\":\"ResetTool\"},{\"attributes\":{\"plot\":{\"id\":\"e21f6bd2-b6cc-44e9-920b-2ac42d370b70\",\"subtype\":\"Figure\",\"type\":\"Plot\"}},\"id\":\"10abe797-16b2-4de8-bde4-6da2f8e9fe84\",\"type\":\"WheelZoomTool\"},{\"attributes\":{\"below\":[{\"id\":\"47d2e7cc-c5c8-40da-8a8e-9524aa28a13e\",\"type\":\"LinearAxis\"}],\"left\":[{\"id\":\"ae97a616-7145-4815-b82b-632dcedf0bbb\",\"type\":\"LinearAxis\"}],\"plot_height\":300,\"plot_width\":300,\"renderers\":[{\"id\":\"47d2e7cc-c5c8-40da-8a8e-9524aa28a13e\",\"type\":\"LinearAxis\"},{\"id\":\"91013c88-e67b-48b8-9217-45d1b5db2648\",\"type\":\"Grid\"},{\"id\":\"ae97a616-7145-4815-b82b-632dcedf0bbb\",\"type\":\"LinearAxis\"},{\"id\":\"7bfd6521-2a8d-4169-935c-23ef7abf5f95\",\"type\":\"Grid\"},{\"id\":\"2693b9c9-b622-40c5-862e-15f8db749c33\",\"type\":\"BoxAnnotation\"},{\"id\":\"d101cc81-ee02-4996-94f4-5736055665ce\",\"type\":\"GlyphRenderer\"}],\"title\":{\"id\":\"ccb340cd-8ca8-409a-a106-d49a814e2e49\",\"type\":\"Title\"},\"tool_events\":{\"id\":\"063677a1-5dd6-467d-87fa-113e4952367e\",\"type\":\"ToolEvents\"},\"toolbar\":{\"id\":\"6123313e-5d33-4afe-be4a-9748d14cc203\",\"type\":\"Toolbar\"},\"toolbar_location\":null,\"x_range\":{\"id\":\"dcb2d4ce-150c-4bfb-816c-d79eb6d131a4\",\"type\":\"DataRange1d\"},\"y_range\":{\"id\":\"c805d224-1d91-4c91-a76b-7acf0b5081ab\",\"type\":\"DataRange1d\"}},\"id\":\"e21f6bd2-b6cc-44e9-920b-2ac42d370b70\",\"subtype\":\"Figure\",\"type\":\"Plot\"},{\"attributes\":{},\"id\":\"73d82c8a-03cc-47eb-95ba-7903d2e9570d\",\"type\":\"BasicTicker\"},{\"attributes\":{\"line_color\":{\"value\":\"#1f77b4\"},\"x\":{\"field\":\"x\"},\"y\":{\"field\":\"y\"}},\"id\":\"f9ad6ed2-613e-45b4-bee3-830691340f53\",\"type\":\"Line\"},{\"attributes\":{\"plot\":{\"id\":\"397dc733-a6c1-46ee-9856-b887503846e6\",\"subtype\":\"Figure\",\"type\":\"Plot\"}},\"id\":\"7f3eb882-8cfd-4c8f-9bff-2335e8f14d9a\",\"type\":\"WheelZoomTool\"},{\"attributes\":{\"callback\":null,\"column_names\":[\"y\",\"x\"],\"data\":{\"x\":[0.0,0.00392156862745098,0.00784313725490196,0.011764705882352941,0.01568627450980392,0.0196078431372549,0.023529411764705882,0.027450980392156862,0.03137254901960784,0.03529411764705882,0.0392156862745098,0.043137254901960784,0.047058823529411764,0.050980392156862744,0.054901960784313725,0.058823529411764705,0.06274509803921569,0.06666666666666667,0.07058823529411765,0.07450980392156863,0.0784313725490196,0.08235294117647059,0.08627450980392157,0.09019607843137255,0.09411764705882353,0.09803921568627451,0.10196078431372549,0.10588235294117647,0.10980392156862745,0.11372549019607843,0.11764705882352941,0.12156862745098039,0.12549019607843137,0.12941176470588234,0.13333333333333333,0.13725490196078433,0.1411764705882353,0.14509803921568626,0.14901960784313725,0.15294117647058825,0.1568627450980392,0.16078431372549018,0.16470588235294117,0.16862745098039217,0.17254901960784313,0.1764705882352941,0.1803921568627451,0.1843137254901961,0.18823529411764706,0.19215686274509802,0.19607843137254902,0.2,0.20392156862745098,0.20784313725490194,0.21176470588235294,0.21568627450980393,0.2196078431372549,0.22352941176470587,0.22745098039215686,0.23137254901960785,0.23529411764705882,0.2392156862745098,0.24313725490196078,0.24705882352941178,0.25098039215686274,0.2549019607843137,0.2588235294117647,0.2627450980392157,0.26666666666666666,0.27058823529411763,0.27450980392156865,0.2784313725490196,0.2823529411764706,0.28627450980392155,0.2901960784313725,0.29411764705882354,0.2980392156862745,0.30196078431372547,0.3058823529411765,0.30980392156862746,0.3137254901960784,0.3176470588235294,0.32156862745098036,0.3254901960784314,0.32941176470588235,0.3333333333333333,0.33725490196078434,0.3411764705882353,0.34509803921568627,0.34901960784313724,0.3529411764705882,0.3568627450980392,0.3607843137254902,0.36470588235294116,0.3686274509803922,0.37254901960784315,0.3764705882352941,0.3803921568627451,0.38431372549019605,0.38823529411764707,0.39215686274509803,0.396078431372549,0.4,0.403921568627451,0.40784313725490196,0.4117647058823529,0.4156862745098039,0.4196078431372549,0.4235294117647059,0.42745098039215684,0.43137254901960786,0.43529411764705883,0.4392156862745098,0.44313725490196076,0.44705882352941173,0.45098039215686275,0.4549019607843137,0.4588235294117647,0.4627450980392157,0.4666666666666667,0.47058823529411764,0.4745098039215686,0.4784313725490196,0.4823529411764706,0.48627450980392156,0.49019607843137253,0.49411764705882355,0.4980392156862745,0.5019607843137255,0.5058823529411764,0.5098039215686274,0.5137254901960784,0.5176470588235293,0.5215686274509804,0.5254901960784314,0.5294117647058824,0.5333333333333333,0.5372549019607843,0.5411764705882353,0.5450980392156862,0.5490196078431373,0.5529411764705883,0.5568627450980392,0.5607843137254902,0.5647058823529412,0.5686274509803921,0.5725490196078431,0.5764705882352941,0.580392156862745,0.5843137254901961,0.5882352941176471,0.592156862745098,0.596078431372549,0.6,0.6039215686274509,0.6078431372549019,0.611764705882353,0.615686274509804,0.6196078431372549,0.6235294117647059,0.6274509803921569,0.6313725490196078,0.6352941176470588,0.6392156862745098,0.6431372549019607,0.6470588235294118,0.6509803921568628,0.6549019607843137,0.6588235294117647,0.6627450980392157,0.6666666666666666,0.6705882352941176,0.6745098039215687,0.6784313725490196,0.6823529411764706,0.6862745098039216,0.6901960784313725,0.6941176470588235,0.6980392156862745,0.7019607843137254,0.7058823529411764,0.7098039215686275,0.7137254901960784,0.7176470588235294,0.7215686274509804,0.7254901960784313,0.7294117647058823,0.7333333333333333,0.7372549019607844,0.7411764705882353,0.7450980392156863,0.7490196078431373,0.7529411764705882,0.7568627450980392,0.7607843137254902,0.7647058823529411,0.7686274509803921,0.7725490196078432,0.7764705882352941,0.7803921568627451,0.7843137254901961,0.788235294117647,0.792156862745098,0.796078431372549,0.8,0.803921568627451,0.807843137254902,0.8117647058823529,0.8156862745098039,0.8196078431372549,0.8235294117647058,0.8274509803921568,0.8313725490196078,0.8352941176470589,0.8392156862745098,0.8431372549019608,0.8470588235294118,0.8509803921568627,0.8549019607843137,0.8588235294117647,0.8627450980392157,0.8666666666666667,0.8705882352941177,0.8745098039215686,0.8784313725490196,0.8823529411764706,0.8862745098039215,0.8901960784313725,0.8941176470588235,0.8980392156862745,0.9019607843137255,0.9058823529411765,0.9098039215686274,0.9137254901960784,0.9176470588235294,0.9215686274509803,0.9254901960784314,0.9294117647058824,0.9333333333333333,0.9372549019607843,0.9411764705882353,0.9450980392156862,0.9490196078431372,0.9529411764705882,0.9568627450980391,0.9607843137254902,0.9647058823529412,0.9686274509803922,0.9725490196078431,0.9764705882352941,0.9803921568627451,0.984313725490196,0.9882352941176471,0.9921568627450981,0.996078431372549,1.0],\"y\":[0.0,0.0,-1.1102230246251565e-16,0.0,5.551115123125783e-17,5.551115123125783e-17,-5.551115123125783e-17,-1.1102230246251565e-16,-5.551115123125783e-17,-5.551115123125783e-17,-1.1102230246251565e-16,-2.7755575615628914e-16,-1.6653345369377348e-16,-2.220446049250313e-16,0.0,-2.220446049250313e-16,5.551115123125783e-17,-1.1102230246251565e-16,-1.1102230246251565e-16,-5.551115123125783e-17,0.0,1.6653345369377348e-16,0.0,-2.7755575615628914e-16,-5.551115123125783e-17,5.551115123125783e-17,-2.220446049250313e-16,-1.1102230246251565e-16,-1.6653345369377348e-16,-2.220446049250313e-16,-1.1102230246251565e-16,-1.6653345369377348e-16,0.0,5.551115123125783e-17,-2.220446049250313e-16,-5.551115123125783e-17,1.6653345369377348e-16,5.551115123125783e-17,5.551115123125783e-17,-5.551115123125783e-17,0.0,0.0,0.0,-1.1102230246251565e-16,-5.551115123125783e-17,-2.7755575615628914e-16,-2.220446049250313e-16,-1.1102230246251565e-16,5.551115123125783e-17,0.0,-1.3877787807814457e-16,-8.326672684688674e-17,0.0,4.163336342344337e-17,-1.249000902703301e-16,-1.249000902703301e-16,-5.551115123125783e-17,5.551115123125783e-17,-2.0816681711721685e-16,-9.71445146547012e-17,-2.7755575615628914e-17,-1.5265566588595902e-16,-4.579669976578771e-16,-2.7755575615628914e-17,0.0,-3.6374982886888674e-17,-7.28583859910259e-17,1.734723475976807e-17,1.0755285551056204e-16,4.85722573273506e-17,3.469446951953614e-17,-6.938893903907228e-18,9.020562075079397e-17,7.632783294297951e-17,-1.0408340855860843e-16,1.214306433183765e-16,1.3183898417423734e-16,-2.7755575615628914e-17,-2.983724378680108e-16,1.0,0.9999999999999999,1.0,1.0,1.0,1.0,1.0,0.9999999999999999,1.0,1.0,1.0,1.0,1.0,1.0,0.9999999999999999,0.9999999999999998,1.0,1.0,1.0,1.0,1.0,1.0,1.0,1.0,1.0,1.0,1.0,1.0,1.0,1.0000000000000002,1.0,0.9999999999999999,1.0,1.0,1.0,1.0,1.0,1.0,0.9999999999999999,0.9999999999999999,1.0,1.0,1.0,1.0,1.0,1.0,1.0,0.9999999999999999,1.0,1.0,1.0,1.0,1.0,0.9999999999999998,0.9999999999999998,1.0,0.9999999999999999,1.0,1.0,1.0,1.0000000000000002,1.0,1.0,1.0,1.0,1.0,1.0,1.0,1.0,0.9999999999999999,0.9999999999999998,0.9999999999999999,1.0000000000000002,1.0,0.9999999999999998,1.0000000000000002,0.9999999999999999,1.0,1.0,1.0,1.0,1.0,1.0,1.0000000000000002,1.0,0.9999999999999998,1.0,1.0,1.0,1.0,0.9999999999999999,1.0,0.9999999999999999,1.0,1.0000000000000002,1.0000000000000002,0.9999999999999999,1.0,1.0,1.3877787807814457e-16,8.326672684688674e-17,5.551115123125783e-17,-4.163336342344337e-17,1.8041124150158794e-16,1.249000902703301e-16,5.551115123125783e-17,-5.551115123125783e-17,1.5265566588595902e-16,9.71445146547012e-17,-8.326672684688674e-17,2.636779683484747e-16,3.469446951953614e-16,-2.7755575615628914e-17,0.0,3.6374982886888674e-17,7.28583859910259e-17,-1.734723475976807e-17,3.469446951953614e-18,6.245004513516506e-17,7.632783294297951e-17,6.938893903907228e-18,2.0816681711721685e-17,3.469446951953614e-17,1.0408340855860843e-16,-1.0408340855860843e-17,-2.0816681711721685e-17,8.326672684688674e-17,2.983724378680108e-16,1.1102230246251565e-16,1.1102230246251565e-16,5.551115123125783e-17,0.0,1.1102230246251565e-16,5.551115123125783e-17,0.0,1.1102230246251565e-16,0.0,0.0,5.551115123125783e-17,5.551115123125783e-17,1.1102230246251565e-16,1.1102230246251565e-16,1.1102230246251565e-16,1.6653345369377348e-16,2.220446049250313e-16,5.551115123125783e-17,5.551115123125783e-17,0.0,0.0,5.551115123125783e-17,5.551115123125783e-17,5.551115123125783e-17,1.1102230246251565e-16,0.0,1.1102230246251565e-16,-1.1102230246251565e-16,1.1102230246251565e-16,0.0,0.0,1.1102230246251565e-16,1.1102230246251565e-16,0.0,0.0,0.0,0.0,5.551115123125783e-17,1.1102230246251565e-16,1.1102230246251565e-16,0.0,0.0,0.0,-1.1102230246251565e-16,-1.1102230246251565e-16,0.0,0.0,1.1102230246251565e-16,0.0]}},\"id\":\"ddc5ebf8-4920-4818-8064-a3de20dfed2e\",\"type\":\"ColumnDataSource\"},{\"attributes\":{\"plot\":null,\"text\":\"Real Part of IFT{FT{top_hat}}\"},\"id\":\"08871e29-02a7-4ac8-8d3d-b0d010759d1a\",\"type\":\"Title\"},{\"attributes\":{\"formatter\":{\"id\":\"09dc80d2-49b9-4f44-ac08-5c332ca2cd60\",\"type\":\"BasicTickFormatter\"},\"plot\":{\"id\":\"7da7a74a-7cab-4da8-8e5c-5ccba23c8989\",\"subtype\":\"Figure\",\"type\":\"Plot\"},\"ticker\":{\"id\":\"73d82c8a-03cc-47eb-95ba-7903d2e9570d\",\"type\":\"BasicTicker\"}},\"id\":\"4938ea0a-b191-452b-b8f7-bd00eddc67f0\",\"type\":\"LinearAxis\"},{\"attributes\":{\"plot\":{\"id\":\"7da7a74a-7cab-4da8-8e5c-5ccba23c8989\",\"subtype\":\"Figure\",\"type\":\"Plot\"}},\"id\":\"3ab8a6a5-3cee-4c56-a151-66f95746755b\",\"type\":\"WheelZoomTool\"},{\"attributes\":{\"line_color\":{\"value\":\"#1f77b4\"},\"x\":{\"field\":\"x\"},\"y\":{\"field\":\"y\"}},\"id\":\"c2fc9a0a-94de-4867-be1d-9415b5758e88\",\"type\":\"Line\"},{\"attributes\":{\"children\":[{\"id\":\"71ebc81e-6559-4f27-99ce-1c21b3558fa2\",\"type\":\"Row\"}]},\"id\":\"c8e0f767-7938-4ee4-8dd6-1f57be33275c\",\"type\":\"Column\"},{\"attributes\":{\"data_source\":{\"id\":\"ddc5ebf8-4920-4818-8064-a3de20dfed2e\",\"type\":\"ColumnDataSource\"},\"glyph\":{\"id\":\"f9ad6ed2-613e-45b4-bee3-830691340f53\",\"type\":\"Line\"},\"hover_glyph\":null,\"nonselection_glyph\":{\"id\":\"f99dd120-68ff-403b-8152-54a402515b8e\",\"type\":\"Line\"},\"selection_glyph\":null},\"id\":\"8964c4ab-4c87-4960-bd6b-fd1aa51f7b87\",\"type\":\"GlyphRenderer\"},{\"attributes\":{\"plot\":{\"id\":\"397dc733-a6c1-46ee-9856-b887503846e6\",\"subtype\":\"Figure\",\"type\":\"Plot\"}},\"id\":\"2fe5f5b0-6290-4ce5-8f4c-ec54cc1e717b\",\"type\":\"SaveTool\"},{\"attributes\":{},\"id\":\"a1036f3b-d570-46e7-86ec-6c317ccfab77\",\"type\":\"ToolEvents\"},{\"attributes\":{\"line_alpha\":{\"value\":0.1},\"line_color\":{\"value\":\"#1f77b4\"},\"x\":{\"field\":\"x\"},\"y\":{\"field\":\"y\"}},\"id\":\"f99dd120-68ff-403b-8152-54a402515b8e\",\"type\":\"Line\"},{\"attributes\":{\"line_alpha\":{\"value\":0.1},\"line_color\":{\"value\":\"#1f77b4\"},\"x\":{\"field\":\"x\"},\"y\":{\"field\":\"y\"}},\"id\":\"d0327741-c6d9-4293-a801-384262c4ad9f\",\"type\":\"Line\"},{\"attributes\":{\"callback\":null},\"id\":\"dcb2d4ce-150c-4bfb-816c-d79eb6d131a4\",\"type\":\"DataRange1d\"},{\"attributes\":{},\"id\":\"8d1a0fc2-b67b-42ab-af83-d0f018e1d0e5\",\"type\":\"BasicTickFormatter\"},{\"attributes\":{},\"id\":\"2383627a-3538-4827-9b31-1429dc9db3e2\",\"type\":\"BasicTicker\"},{\"attributes\":{\"below\":[{\"id\":\"7b42e299-25c0-4a0a-96c2-725ec960ae18\",\"type\":\"LinearAxis\"}],\"left\":[{\"id\":\"3d59b457-54d2-4f2b-aaf7-e958d7314950\",\"type\":\"LinearAxis\"}],\"plot_height\":300,\"plot_width\":300,\"renderers\":[{\"id\":\"7b42e299-25c0-4a0a-96c2-725ec960ae18\",\"type\":\"LinearAxis\"},{\"id\":\"0f8c525c-0475-40be-abf2-e18c6e2baed6\",\"type\":\"Grid\"},{\"id\":\"3d59b457-54d2-4f2b-aaf7-e958d7314950\",\"type\":\"LinearAxis\"},{\"id\":\"a1b00532-1a62-4e40-94a5-41ff86b02505\",\"type\":\"Grid\"},{\"id\":\"a98c96f2-1691-4680-b337-26fc8b54bf9d\",\"type\":\"BoxAnnotation\"},{\"id\":\"601c7f34-194a-422e-a98f-0550bbb244af\",\"type\":\"GlyphRenderer\"}],\"title\":{\"id\":\"ea0c147b-6c7c-4c4e-9dae-df5df9ce46db\",\"type\":\"Title\"},\"tool_events\":{\"id\":\"0546a939-e7ad-49e7-b1be-7225a4643eff\",\"type\":\"ToolEvents\"},\"toolbar\":{\"id\":\"fedafc50-40b0-466d-9183-7150cd42ee34\",\"type\":\"Toolbar\"},\"toolbar_location\":null,\"x_range\":{\"id\":\"f350f883-5eb6-4733-b84d-e0cb2024cf94\",\"type\":\"DataRange1d\"},\"y_range\":{\"id\":\"3c680bbb-e930-4d36-9d40-2130dbe06371\",\"type\":\"DataRange1d\"}},\"id\":\"397dc733-a6c1-46ee-9856-b887503846e6\",\"subtype\":\"Figure\",\"type\":\"Plot\"},{\"attributes\":{\"plot\":{\"id\":\"7da7a74a-7cab-4da8-8e5c-5ccba23c8989\",\"subtype\":\"Figure\",\"type\":\"Plot\"}},\"id\":\"0961dd4b-2cd3-428a-9c82-d1f7a567dc2c\",\"type\":\"SaveTool\"},{\"attributes\":{\"below\":[{\"id\":\"1c578948-3dd4-434e-ae7b-aeec0e1fdd01\",\"type\":\"LinearAxis\"}],\"left\":[{\"id\":\"4938ea0a-b191-452b-b8f7-bd00eddc67f0\",\"type\":\"LinearAxis\"}],\"plot_height\":300,\"plot_width\":300,\"renderers\":[{\"id\":\"1c578948-3dd4-434e-ae7b-aeec0e1fdd01\",\"type\":\"LinearAxis\"},{\"id\":\"a3b2aab1-7757-4513-aec7-9eb70f0582d1\",\"type\":\"Grid\"},{\"id\":\"4938ea0a-b191-452b-b8f7-bd00eddc67f0\",\"type\":\"LinearAxis\"},{\"id\":\"a538a083-7797-4085-bbd1-b15887816826\",\"type\":\"Grid\"},{\"id\":\"ef010740-22ef-4aa1-a8bb-b1f5f7b7144d\",\"type\":\"BoxAnnotation\"},{\"id\":\"8964c4ab-4c87-4960-bd6b-fd1aa51f7b87\",\"type\":\"GlyphRenderer\"}],\"title\":{\"id\":\"08871e29-02a7-4ac8-8d3d-b0d010759d1a\",\"type\":\"Title\"},\"tool_events\":{\"id\":\"a1036f3b-d570-46e7-86ec-6c317ccfab77\",\"type\":\"ToolEvents\"},\"toolbar\":{\"id\":\"c15f4a41-7730-400e-b80f-a6c9d92764ba\",\"type\":\"Toolbar\"},\"toolbar_location\":null,\"x_range\":{\"id\":\"88893808-0b7f-4ae6-8c35-e3252ae05694\",\"type\":\"DataRange1d\"},\"y_range\":{\"id\":\"7d76e85d-745d-419c-b834-910a632b5f3c\",\"type\":\"DataRange1d\"}},\"id\":\"7da7a74a-7cab-4da8-8e5c-5ccba23c8989\",\"subtype\":\"Figure\",\"type\":\"Plot\"},{\"attributes\":{},\"id\":\"385ede69-af84-4444-8c8d-4494109a0a3c\",\"type\":\"BasicTicker\"},{\"attributes\":{\"plot\":{\"id\":\"397dc733-a6c1-46ee-9856-b887503846e6\",\"subtype\":\"Figure\",\"type\":\"Plot\"}},\"id\":\"2dc4f62d-f8f4-4092-8819-afa1210766f6\",\"type\":\"HelpTool\"},{\"attributes\":{\"callback\":null},\"id\":\"7d76e85d-745d-419c-b834-910a632b5f3c\",\"type\":\"DataRange1d\"},{\"attributes\":{\"bottom_units\":\"screen\",\"fill_alpha\":{\"value\":0.5},\"fill_color\":{\"value\":\"lightgrey\"},\"left_units\":\"screen\",\"level\":\"overlay\",\"line_alpha\":{\"value\":1.0},\"line_color\":{\"value\":\"black\"},\"line_dash\":[4,4],\"line_width\":{\"value\":2},\"plot\":null,\"render_mode\":\"css\",\"right_units\":\"screen\",\"top_units\":\"screen\"},\"id\":\"2693b9c9-b622-40c5-862e-15f8db749c33\",\"type\":\"BoxAnnotation\"},{\"attributes\":{\"children\":[{\"id\":\"e21f6bd2-b6cc-44e9-920b-2ac42d370b70\",\"subtype\":\"Figure\",\"type\":\"Plot\"},{\"id\":\"397dc733-a6c1-46ee-9856-b887503846e6\",\"subtype\":\"Figure\",\"type\":\"Plot\"},{\"id\":\"7da7a74a-7cab-4da8-8e5c-5ccba23c8989\",\"subtype\":\"Figure\",\"type\":\"Plot\"}]},\"id\":\"71ebc81e-6559-4f27-99ce-1c21b3558fa2\",\"type\":\"Row\"},{\"attributes\":{\"line_color\":{\"value\":\"#1f77b4\"},\"x\":{\"field\":\"x\"},\"y\":{\"field\":\"y\"}},\"id\":\"d1f6c5df-9aea-488c-bd75-9b652713cc80\",\"type\":\"Line\"},{\"attributes\":{\"callback\":null,\"column_names\":[\"y\",\"x\"],\"data\":{\"x\":[0.0,0.00392156862745098,0.00784313725490196,0.011764705882352941,0.01568627450980392,0.0196078431372549,0.023529411764705882,0.027450980392156862,0.03137254901960784,0.03529411764705882,0.0392156862745098,0.043137254901960784,0.047058823529411764,0.050980392156862744,0.054901960784313725,0.058823529411764705,0.06274509803921569,0.06666666666666667,0.07058823529411765,0.07450980392156863,0.0784313725490196,0.08235294117647059,0.08627450980392157,0.09019607843137255,0.09411764705882353,0.09803921568627451,0.10196078431372549,0.10588235294117647,0.10980392156862745,0.11372549019607843,0.11764705882352941,0.12156862745098039,0.12549019607843137,0.12941176470588234,0.13333333333333333,0.13725490196078433,0.1411764705882353,0.14509803921568626,0.14901960784313725,0.15294117647058825,0.1568627450980392,0.16078431372549018,0.16470588235294117,0.16862745098039217,0.17254901960784313,0.1764705882352941,0.1803921568627451,0.1843137254901961,0.18823529411764706,0.19215686274509802,0.19607843137254902,0.2,0.20392156862745098,0.20784313725490194,0.21176470588235294,0.21568627450980393,0.2196078431372549,0.22352941176470587,0.22745098039215686,0.23137254901960785,0.23529411764705882,0.2392156862745098,0.24313725490196078,0.24705882352941178,0.25098039215686274,0.2549019607843137,0.2588235294117647,0.2627450980392157,0.26666666666666666,0.27058823529411763,0.27450980392156865,0.2784313725490196,0.2823529411764706,0.28627450980392155,0.2901960784313725,0.29411764705882354,0.2980392156862745,0.30196078431372547,0.3058823529411765,0.30980392156862746,0.3137254901960784,0.3176470588235294,0.32156862745098036,0.3254901960784314,0.32941176470588235,0.3333333333333333,0.33725490196078434,0.3411764705882353,0.34509803921568627,0.34901960784313724,0.3529411764705882,0.3568627450980392,0.3607843137254902,0.36470588235294116,0.3686274509803922,0.37254901960784315,0.3764705882352941,0.3803921568627451,0.38431372549019605,0.38823529411764707,0.39215686274509803,0.396078431372549,0.4,0.403921568627451,0.40784313725490196,0.4117647058823529,0.4156862745098039,0.4196078431372549,0.4235294117647059,0.42745098039215684,0.43137254901960786,0.43529411764705883,0.4392156862745098,0.44313725490196076,0.44705882352941173,0.45098039215686275,0.4549019607843137,0.4588235294117647,0.4627450980392157,0.4666666666666667,0.47058823529411764,0.4745098039215686,0.4784313725490196,0.4823529411764706,0.48627450980392156,0.49019607843137253,0.49411764705882355,0.4980392156862745,0.5019607843137255,0.5058823529411764,0.5098039215686274,0.5137254901960784,0.5176470588235293,0.5215686274509804,0.5254901960784314,0.5294117647058824,0.5333333333333333,0.5372549019607843,0.5411764705882353,0.5450980392156862,0.5490196078431373,0.5529411764705883,0.5568627450980392,0.5607843137254902,0.5647058823529412,0.5686274509803921,0.5725490196078431,0.5764705882352941,0.580392156862745,0.5843137254901961,0.5882352941176471,0.592156862745098,0.596078431372549,0.6,0.6039215686274509,0.6078431372549019,0.611764705882353,0.615686274509804,0.6196078431372549,0.6235294117647059,0.6274509803921569,0.6313725490196078,0.6352941176470588,0.6392156862745098,0.6431372549019607,0.6470588235294118,0.6509803921568628,0.6549019607843137,0.6588235294117647,0.6627450980392157,0.6666666666666666,0.6705882352941176,0.6745098039215687,0.6784313725490196,0.6823529411764706,0.6862745098039216,0.6901960784313725,0.6941176470588235,0.6980392156862745,0.7019607843137254,0.7058823529411764,0.7098039215686275,0.7137254901960784,0.7176470588235294,0.7215686274509804,0.7254901960784313,0.7294117647058823,0.7333333333333333,0.7372549019607844,0.7411764705882353,0.7450980392156863,0.7490196078431373,0.7529411764705882,0.7568627450980392,0.7607843137254902,0.7647058823529411,0.7686274509803921,0.7725490196078432,0.7764705882352941,0.7803921568627451,0.7843137254901961,0.788235294117647,0.792156862745098,0.796078431372549,0.8,0.803921568627451,0.807843137254902,0.8117647058823529,0.8156862745098039,0.8196078431372549,0.8235294117647058,0.8274509803921568,0.8313725490196078,0.8352941176470589,0.8392156862745098,0.8431372549019608,0.8470588235294118,0.8509803921568627,0.8549019607843137,0.8588235294117647,0.8627450980392157,0.8666666666666667,0.8705882352941177,0.8745098039215686,0.8784313725490196,0.8823529411764706,0.8862745098039215,0.8901960784313725,0.8941176470588235,0.8980392156862745,0.9019607843137255,0.9058823529411765,0.9098039215686274,0.9137254901960784,0.9176470588235294,0.9215686274509803,0.9254901960784314,0.9294117647058824,0.9333333333333333,0.9372549019607843,0.9411764705882353,0.9450980392156862,0.9490196078431372,0.9529411764705882,0.9568627450980391,0.9607843137254902,0.9647058823529412,0.9686274509803922,0.9725490196078431,0.9764705882352941,0.9803921568627451,0.984313725490196,0.9882352941176471,0.9921568627450981,0.996078431372549,1.0],\"y\":[0.0,0.0,0.0,0.0,0.0,0.0,0.0,0.0,0.0,0.0,0.0,0.0,0.0,0.0,0.0,0.0,0.0,0.0,0.0,0.0,0.0,0.0,0.0,0.0,0.0,0.0,0.0,0.0,0.0,0.0,0.0,0.0,0.0,0.0,0.0,0.0,0.0,0.0,0.0,0.0,0.0,0.0,0.0,0.0,0.0,0.0,0.0,0.0,0.0,0.0,0.0,0.0,0.0,0.0,0.0,0.0,0.0,0.0,0.0,0.0,0.0,0.0,0.0,0.0,0.0,0.0,0.0,0.0,0.0,0.0,0.0,0.0,0.0,0.0,0.0,0.0,0.0,0.0,0.0,1.0,1.0,1.0,1.0,1.0,1.0,1.0,1.0,1.0,1.0,1.0,1.0,1.0,1.0,1.0,1.0,1.0,1.0,1.0,1.0,1.0,1.0,1.0,1.0,1.0,1.0,1.0,1.0,1.0,1.0,1.0,1.0,1.0,1.0,1.0,1.0,1.0,1.0,1.0,1.0,1.0,1.0,1.0,1.0,1.0,1.0,1.0,1.0,1.0,1.0,1.0,1.0,1.0,1.0,1.0,1.0,1.0,1.0,1.0,1.0,1.0,1.0,1.0,1.0,1.0,1.0,1.0,1.0,1.0,1.0,1.0,1.0,1.0,1.0,1.0,1.0,1.0,1.0,1.0,1.0,1.0,1.0,1.0,1.0,1.0,1.0,1.0,1.0,1.0,1.0,1.0,1.0,1.0,1.0,1.0,1.0,1.0,1.0,1.0,0.0,0.0,0.0,0.0,0.0,0.0,0.0,0.0,0.0,0.0,0.0,0.0,0.0,0.0,0.0,0.0,0.0,0.0,0.0,0.0,0.0,0.0,0.0,0.0,0.0,0.0,0.0,0.0,0.0,0.0,0.0,0.0,0.0,0.0,0.0,0.0,0.0,0.0,0.0,0.0,0.0,0.0,0.0,0.0,0.0,0.0,0.0,0.0,0.0,0.0,0.0,0.0,0.0,0.0,0.0,0.0,0.0,0.0,0.0,0.0,0.0,0.0,0.0,0.0,0.0,0.0,0.0,0.0,0.0,0.0,0.0,0.0,0.0,0.0,0.0,0.0,0.0,0.0]}},\"id\":\"d383f251-eaef-4a93-8bb0-4fa6289c80e9\",\"type\":\"ColumnDataSource\"},{\"attributes\":{\"bottom_units\":\"screen\",\"fill_alpha\":{\"value\":0.5},\"fill_color\":{\"value\":\"lightgrey\"},\"left_units\":\"screen\",\"level\":\"overlay\",\"line_alpha\":{\"value\":1.0},\"line_color\":{\"value\":\"black\"},\"line_dash\":[4,4],\"line_width\":{\"value\":2},\"plot\":null,\"render_mode\":\"css\",\"right_units\":\"screen\",\"top_units\":\"screen\"},\"id\":\"ef010740-22ef-4aa1-a8bb-b1f5f7b7144d\",\"type\":\"BoxAnnotation\"},{\"attributes\":{\"active_drag\":\"auto\",\"active_scroll\":\"auto\",\"active_tap\":\"auto\",\"tools\":[{\"id\":\"7631a215-efa6-4543-9545-923b6d93cdee\",\"type\":\"PanTool\"},{\"id\":\"7f3eb882-8cfd-4c8f-9bff-2335e8f14d9a\",\"type\":\"WheelZoomTool\"},{\"id\":\"a0c2155e-0c3c-464e-83fd-d8a0ca0f353f\",\"type\":\"BoxZoomTool\"},{\"id\":\"2fe5f5b0-6290-4ce5-8f4c-ec54cc1e717b\",\"type\":\"SaveTool\"},{\"id\":\"ee86bdc7-3d0f-448e-a70a-3e7054a5ef5a\",\"type\":\"ResetTool\"},{\"id\":\"2dc4f62d-f8f4-4092-8819-afa1210766f6\",\"type\":\"HelpTool\"}]},\"id\":\"fedafc50-40b0-466d-9183-7150cd42ee34\",\"type\":\"Toolbar\"},{\"attributes\":{\"data_source\":{\"id\":\"8bd114f0-96e2-4add-909e-b62c98c892fb\",\"type\":\"ColumnDataSource\"},\"glyph\":{\"id\":\"c2fc9a0a-94de-4867-be1d-9415b5758e88\",\"type\":\"Line\"},\"hover_glyph\":null,\"nonselection_glyph\":{\"id\":\"d0327741-c6d9-4293-a801-384262c4ad9f\",\"type\":\"Line\"},\"selection_glyph\":null},\"id\":\"601c7f34-194a-422e-a98f-0550bbb244af\",\"type\":\"GlyphRenderer\"},{\"attributes\":{\"sizing_mode\":\"scale_width\",\"toolbar_location\":\"above\",\"tools\":[{\"id\":\"89a4685b-839b-4e2c-8bcd-30c649d42939\",\"type\":\"PanTool\"},{\"id\":\"10abe797-16b2-4de8-bde4-6da2f8e9fe84\",\"type\":\"WheelZoomTool\"},{\"id\":\"90830e7f-0d12-462b-a6f3-c092c468ab06\",\"type\":\"BoxZoomTool\"},{\"id\":\"118e7d4e-6989-44d3-a494-e13349b707cc\",\"type\":\"SaveTool\"},{\"id\":\"686f0ccf-afb4-4578-ad9d-ca66bba7d87d\",\"type\":\"ResetTool\"},{\"id\":\"91329fb8-d250-45c1-8c44-e45a4a0ecd3d\",\"type\":\"HelpTool\"},{\"id\":\"7631a215-efa6-4543-9545-923b6d93cdee\",\"type\":\"PanTool\"},{\"id\":\"7f3eb882-8cfd-4c8f-9bff-2335e8f14d9a\",\"type\":\"WheelZoomTool\"},{\"id\":\"a0c2155e-0c3c-464e-83fd-d8a0ca0f353f\",\"type\":\"BoxZoomTool\"},{\"id\":\"2fe5f5b0-6290-4ce5-8f4c-ec54cc1e717b\",\"type\":\"SaveTool\"},{\"id\":\"ee86bdc7-3d0f-448e-a70a-3e7054a5ef5a\",\"type\":\"ResetTool\"},{\"id\":\"2dc4f62d-f8f4-4092-8819-afa1210766f6\",\"type\":\"HelpTool\"},{\"id\":\"a13e6319-3578-474a-a477-1f29f6b6ca50\",\"type\":\"PanTool\"},{\"id\":\"3ab8a6a5-3cee-4c56-a151-66f95746755b\",\"type\":\"WheelZoomTool\"},{\"id\":\"8937f039-c985-4aa9-a40e-2dad28e416cf\",\"type\":\"BoxZoomTool\"},{\"id\":\"0961dd4b-2cd3-428a-9c82-d1f7a567dc2c\",\"type\":\"SaveTool\"},{\"id\":\"f7b5eb52-aeee-4c26-bba1-7c122d0fd2e0\",\"type\":\"ResetTool\"},{\"id\":\"7c0b6d86-6b03-425d-bcec-ef31b2ef7227\",\"type\":\"HelpTool\"}]},\"id\":\"35fdd61b-b6c5-47bd-9d54-369864c7c734\",\"type\":\"ToolbarBox\"},{\"attributes\":{},\"id\":\"18043221-25d8-4754-b823-5c254c44d819\",\"type\":\"BasicTickFormatter\"},{\"attributes\":{\"axis_label\":\"frequency/Hz\",\"formatter\":{\"id\":\"8d1a0fc2-b67b-42ab-af83-d0f018e1d0e5\",\"type\":\"BasicTickFormatter\"},\"plot\":{\"id\":\"397dc733-a6c1-46ee-9856-b887503846e6\",\"subtype\":\"Figure\",\"type\":\"Plot\"},\"ticker\":{\"id\":\"cf965d6d-7683-4159-bdf2-3715ace00297\",\"type\":\"BasicTicker\"}},\"id\":\"7b42e299-25c0-4a0a-96c2-725ec960ae18\",\"type\":\"LinearAxis\"},{\"attributes\":{},\"id\":\"c0e240d8-b9e3-49a4-acc2-d576b0fcdcb6\",\"type\":\"BasicTicker\"},{\"attributes\":{},\"id\":\"09dc80d2-49b9-4f44-ac08-5c332ca2cd60\",\"type\":\"BasicTickFormatter\"},{\"attributes\":{},\"id\":\"e2f09c72-b179-493b-81c3-784f695cd5eb\",\"type\":\"BasicTickFormatter\"},{\"attributes\":{\"plot\":{\"id\":\"e21f6bd2-b6cc-44e9-920b-2ac42d370b70\",\"subtype\":\"Figure\",\"type\":\"Plot\"},\"ticker\":{\"id\":\"2383627a-3538-4827-9b31-1429dc9db3e2\",\"type\":\"BasicTicker\"}},\"id\":\"91013c88-e67b-48b8-9217-45d1b5db2648\",\"type\":\"Grid\"},{\"attributes\":{\"callback\":null},\"id\":\"c805d224-1d91-4c91-a76b-7acf0b5081ab\",\"type\":\"DataRange1d\"},{\"attributes\":{\"formatter\":{\"id\":\"3b79776c-4dcd-4b5b-a905-e51b34934c79\",\"type\":\"BasicTickFormatter\"},\"plot\":{\"id\":\"e21f6bd2-b6cc-44e9-920b-2ac42d370b70\",\"subtype\":\"Figure\",\"type\":\"Plot\"},\"ticker\":{\"id\":\"385ede69-af84-4444-8c8d-4494109a0a3c\",\"type\":\"BasicTicker\"}},\"id\":\"ae97a616-7145-4815-b82b-632dcedf0bbb\",\"type\":\"LinearAxis\"},{\"attributes\":{\"active_drag\":\"auto\",\"active_scroll\":\"auto\",\"active_tap\":\"auto\",\"tools\":[{\"id\":\"89a4685b-839b-4e2c-8bcd-30c649d42939\",\"type\":\"PanTool\"},{\"id\":\"10abe797-16b2-4de8-bde4-6da2f8e9fe84\",\"type\":\"WheelZoomTool\"},{\"id\":\"90830e7f-0d12-462b-a6f3-c092c468ab06\",\"type\":\"BoxZoomTool\"},{\"id\":\"118e7d4e-6989-44d3-a494-e13349b707cc\",\"type\":\"SaveTool\"},{\"id\":\"686f0ccf-afb4-4578-ad9d-ca66bba7d87d\",\"type\":\"ResetTool\"},{\"id\":\"91329fb8-d250-45c1-8c44-e45a4a0ecd3d\",\"type\":\"HelpTool\"}]},\"id\":\"6123313e-5d33-4afe-be4a-9748d14cc203\",\"type\":\"Toolbar\"},{\"attributes\":{},\"id\":\"cf965d6d-7683-4159-bdf2-3715ace00297\",\"type\":\"BasicTicker\"},{\"attributes\":{\"children\":[{\"id\":\"35fdd61b-b6c5-47bd-9d54-369864c7c734\",\"type\":\"ToolbarBox\"},{\"id\":\"c8e0f767-7938-4ee4-8dd6-1f57be33275c\",\"type\":\"Column\"}]},\"id\":\"7e4e924b-a8dc-4827-97c6-3466541ea867\",\"type\":\"Column\"},{\"attributes\":{},\"id\":\"22c98d96-80cc-40c7-98d4-ca3b374289bb\",\"type\":\"BasicTicker\"},{\"attributes\":{\"plot\":{\"id\":\"397dc733-a6c1-46ee-9856-b887503846e6\",\"subtype\":\"Figure\",\"type\":\"Plot\"}},\"id\":\"ee86bdc7-3d0f-448e-a70a-3e7054a5ef5a\",\"type\":\"ResetTool\"},{\"attributes\":{\"plot\":{\"id\":\"397dc733-a6c1-46ee-9856-b887503846e6\",\"subtype\":\"Figure\",\"type\":\"Plot\"}},\"id\":\"7631a215-efa6-4543-9545-923b6d93cdee\",\"type\":\"PanTool\"},{\"attributes\":{\"formatter\":{\"id\":\"18043221-25d8-4754-b823-5c254c44d819\",\"type\":\"BasicTickFormatter\"},\"plot\":{\"id\":\"397dc733-a6c1-46ee-9856-b887503846e6\",\"subtype\":\"Figure\",\"type\":\"Plot\"},\"ticker\":{\"id\":\"c0e240d8-b9e3-49a4-acc2-d576b0fcdcb6\",\"type\":\"BasicTicker\"}},\"id\":\"3d59b457-54d2-4f2b-aaf7-e958d7314950\",\"type\":\"LinearAxis\"},{\"attributes\":{\"axis_label\":\"time/s\",\"formatter\":{\"id\":\"46b0c796-0d3d-4608-abdd-6b14f467539e\",\"type\":\"BasicTickFormatter\"},\"plot\":{\"id\":\"7da7a74a-7cab-4da8-8e5c-5ccba23c8989\",\"subtype\":\"Figure\",\"type\":\"Plot\"},\"ticker\":{\"id\":\"22c98d96-80cc-40c7-98d4-ca3b374289bb\",\"type\":\"BasicTicker\"}},\"id\":\"1c578948-3dd4-434e-ae7b-aeec0e1fdd01\",\"type\":\"LinearAxis\"},{\"attributes\":{},\"id\":\"063677a1-5dd6-467d-87fa-113e4952367e\",\"type\":\"ToolEvents\"},{\"attributes\":{\"line_alpha\":{\"value\":0.1},\"line_color\":{\"value\":\"#1f77b4\"},\"x\":{\"field\":\"x\"},\"y\":{\"field\":\"y\"}},\"id\":\"9782f92b-d79a-498a-87cc-3f8206cd2eef\",\"type\":\"Line\"},{\"attributes\":{\"plot\":null,\"text\":\"Top Hat\"},\"id\":\"ccb340cd-8ca8-409a-a106-d49a814e2e49\",\"type\":\"Title\"},{\"attributes\":{\"callback\":null,\"column_names\":[\"y\",\"x\"],\"data\":{\"x\":[-128.0,-126.99607843137255,-125.9921568627451,-124.98823529411764,-123.9843137254902,-122.98039215686275,-121.97647058823529,-120.97254901960784,-119.96862745098039,-118.96470588235294,-117.9607843137255,-116.95686274509804,-115.95294117647059,-114.94901960784314,-113.94509803921568,-112.94117647058823,-111.93725490196078,-110.93333333333334,-109.92941176470589,-108.92549019607843,-107.92156862745098,-106.91764705882353,-105.91372549019607,-104.90980392156862,-103.90588235294118,-102.90196078431373,-101.89803921568628,-100.89411764705882,-99.89019607843137,-98.88627450980393,-97.88235294117646,-96.87843137254902,-95.87450980392157,-94.87058823529412,-93.86666666666667,-92.86274509803921,-91.85882352941177,-90.85490196078432,-89.85098039215686,-88.84705882352941,-87.84313725490196,-86.83921568627451,-85.83529411764707,-84.8313725490196,-83.82745098039216,-82.82352941176471,-81.81960784313725,-80.8156862745098,-79.81176470588235,-78.8078431372549,-77.80392156862746,-76.8,-75.79607843137255,-74.7921568627451,-73.78823529411764,-72.7843137254902,-71.78039215686275,-70.7764705882353,-69.77254901960785,-68.76862745098039,-67.76470588235294,-66.7607843137255,-65.75686274509803,-64.75294117647059,-63.74901960784314,-62.74509803921569,-61.74117647058824,-60.73725490196078,-59.733333333333334,-58.72941176470589,-57.725490196078425,-56.72156862745098,-55.71764705882353,-54.71372549019608,-53.709803921568636,-52.705882352941174,-51.70196078431373,-50.69803921568628,-49.69411764705882,-48.69019607843137,-47.68627450980392,-46.682352941176475,-45.67843137254903,-44.674509803921566,-43.67058823529412,-42.66666666666667,-41.66274509803921,-40.65882352941176,-39.654901960784315,-38.65098039215687,-37.64705882352942,-36.64313725490196,-35.63921568627451,-34.635294117647064,-33.6313725490196,-32.627450980392155,-31.623529411764707,-30.61960784313726,-29.615686274509812,-28.61176470588235,-27.607843137254903,-26.603921568627456,-25.599999999999994,-24.596078431372547,-23.5921568627451,-22.588235294117652,-21.584313725490205,-20.580392156862743,-19.576470588235296,-18.572549019607848,-17.568627450980387,-16.56470588235294,-15.560784313725492,-14.556862745098044,-13.552941176470597,-12.549019607843135,-11.545098039215688,-10.54117647058824,-9.537254901960779,-8.533333333333331,-7.529411764705884,-6.525490196078437,-5.521568627450989,-4.517647058823528,-3.51372549019608,-2.5098039215686327,-1.5058823529411711,-0.5019607843137237,0.5019607843137237,1.5058823529411711,2.5098039215686185,3.513725490196066,4.517647058823513,5.521568627450989,6.525490196078437,7.529411764705884,8.533333333333331,9.537254901960779,10.541176470588226,11.545098039215674,12.54901960784315,13.552941176470597,14.556862745098044,15.560784313725492,16.56470588235294,17.568627450980387,18.572549019607834,19.57647058823528,20.58039215686273,21.584313725490205,22.588235294117652,23.5921568627451,24.596078431372547,25.599999999999994,26.60392156862744,27.60784313725489,28.611764705882365,29.615686274509812,30.61960784313726,31.623529411764707,32.627450980392155,33.6313725490196,34.63529411764705,35.6392156862745,36.643137254901944,37.64705882352942,38.65098039215687,39.654901960784315,40.65882352941176,41.66274509803921,42.66666666666666,43.670588235294105,44.67450980392158,45.67843137254903,46.682352941176475,47.68627450980392,48.69019607843137,49.69411764705882,50.698039215686265,51.70196078431371,52.70588235294116,53.709803921568636,54.71372549019608,55.71764705882353,56.72156862745098,57.725490196078425,58.72941176470587,59.73333333333332,60.737254901960796,61.74117647058824,62.74509803921569,63.74901960784314,64.75294117647059,65.75686274509803,66.76078431372548,67.76470588235293,68.76862745098038,69.77254901960785,70.7764705882353,71.78039215686275,72.7843137254902,73.78823529411764,74.79215686274509,75.79607843137254,76.80000000000001,77.80392156862746,78.8078431372549,79.81176470588235,80.8156862745098,81.81960784313725,82.8235294117647,83.82745098039214,84.83137254901959,85.83529411764707,86.83921568627451,87.84313725490196,88.84705882352941,89.85098039215686,90.8549019607843,91.85882352941175,92.86274509803923,93.86666666666667,94.87058823529412,95.87450980392157,96.87843137254902,97.88235294117646,98.88627450980391,99.89019607843136,100.8941176470588,101.89803921568628,102.90196078431373,103.90588235294118,104.90980392156862,105.91372549019607,106.91764705882352,107.92156862745097,108.92549019607844,109.92941176470589,110.93333333333334,111.93725490196078,112.94117647058823,113.94509803921568,114.94901960784313,115.95294117647057,116.95686274509802,117.9607843137255,118.96470588235294,119.96862745098039,120.97254901960784,121.97647058823529,122.98039215686273,123.98431372549018,124.98823529411766,125.9921568627451,126.99607843137255,128.0],\"y\":[99.0,-76.38317137496384,26.61532784896888,13.100248634550226,-20.159433344328065,3.377509610639793,11.484518141741923,-9.275778959298115,-2.9615705608064613,9.05550829914781,-3.3105063210008576,-5.318227502464971,6.160883050906055,0.5400875935212592,-5.637373760807643,3.2003836103745735,2.8477590650225735,-4.69766543051977,0.55869457932586,3.8416293936095864,-3.0494303101180913,-1.456913397152156,3.748222725305113,-1.1679974686188959,-2.6629392246050916,2.860780915306888,0.5450170243983598,-3.022054669394998,1.5260262041631858,1.793415576039283,-2.6383475296990486,0.09912609364953562,2.414213562373096,-1.7274485994437736,-1.1094903557860596,2.3867349132691746,-0.5683014508231683,-1.879978966425328,1.8184257362456973,0.553407680049777,-2.111140466039206,0.9096453757604979,1.3989512552637073,-1.8253104061093977,-0.09544332311320358,1.8172413065517612,-1.1499707058705426,-0.961976241353675,1.7653668647301808,-0.28080115048475146,-1.511070881027669,1.3061967637520033,0.5655367579776982,-1.651373192997573,0.5849748973314857,1.19888776395239,-1.3901806440322593,-0.20903093362445735,1.4937885745926218,-0.8232367145690681,-0.887039477610926,1.4111506191241534,-0.10668634957167145,-1.301831188932848,1.0,0.5818242632382182,-1.377003070022057,0.3801515942154825,1.0840222843252472,-1.118921349546834,-0.28935377758425784,1.2950144105049866,-0.6098193559677447,-0.8484490726818241,1.1834807213417657,0.015419664776351594,-1.1722301251923848,0.7944053606753588,0.6028710224322635,-1.1973250378379727,0.23463313526982088,1.0156646391634754,-0.9331160570928051,-0.354735546062371,1.1644655950147853,-0.45602363230448817,-0.8323846814771837,1.0258020124740224,0.11114046603920302,-1.0893795734421947,0.644640087206729,0.6295180650835038,-1.073056130834154,0.12123414962239165,0.9770452520583031,-0.7971311392220035,-0.4142135623730945,1.0762690795509289,-0.33621024812910005,-0.8329294083034648,0.9109808470127674,0.19356860193683834,-1.0376497112213947,0.5282022376975932,0.6629392246050894,-0.9845660943343773,0.02546362105668032,0.9602157945683338,-0.6923065134606916,-0.47334751740253034,1.0171952115749925,-0.23617909197576115,-0.847759065022573,0.8243847772330724,0.2706980712849809,-1.0091270951901739,0.43223336697057757,0.7047879624494873,-0.9211371356621201,-0.06169665587722317,0.9615705608064604,-0.6077520589423626,-0.5364511575382123,0.9801619248016769,-0.14690743088965696,-0.8766641353243427,0.757436972361365,0.34844491751088924,-1.0,0.34844491751088214,0.7574369723613632,-0.8766641353243427,-0.1469074308896552,0.9801619248016777,-0.536451157538214,-0.6077520589423608,0.9615705608064613,-0.06169665587722406,-0.9211371356621219,0.7047879624494886,0.4322333669705771,-1.0091270951901734,0.2706980712849778,0.8243847772330755,-0.8477590650225735,-0.23617909197575493,1.0171952115749898,-0.47334751740253234,-0.6923065134606889,0.9602157945683334,0.02546362105667832,-0.9845660943343785,0.6629392246050914,0.5282022376975932,-1.0376497112213956,0.1935686019368399,0.9109808470127666,-0.8329294083034654,-0.33621024812910005,1.0762690795509338,-0.4142135623730956,-0.7971311392219969,0.9770452520583024,0.12123414962239187,-1.0730561308341533,0.629518065083509,0.6446400872067266,-1.0893795734421956,0.11114046603920613,1.0258020124740208,-0.8323846814771872,-0.45602363230448173,1.1644655950147889,-0.35473554606237,-0.9331160570928091,1.0156646391634878,0.23463313526981922,-1.1973250378379614,0.6028710224322611,0.7944053606753582,-1.172230125192384,0.015419664776356257,1.183480721341764,-0.8484490726818261,-0.6098193559677407,1.2950144105049886,-0.28935377758426306,-1.1189213495468322,1.0840222843252554,0.38015159421547695,-1.3770030700220697,0.58182426323825,1.0,-1.3018311889328091,-0.1066863495716841,1.4111506191241479,-0.8870394776109178,-0.8232367145690662,1.4937885745926132,-0.2090309336244517,-1.3901806440322553,1.1988877639523898,0.584974897331482,-1.6513731929975666,0.5655367579777004,1.3061967637520016,-1.5110708810276705,-0.2808011504847443,1.7653668647301792,-0.9619762413536572,-1.1499707058705466,1.81724130655176,-0.09544332311320314,-1.8253104061093943,1.3989512552637016,0.9096453757605009,-2.111140466039203,0.5534076800497791,1.8184257362456913,-1.879978966425322,-0.5683014508231617,2.386734913269174,-1.1094903557860647,-1.727448599443759,2.4142135623730945,0.09912609364955516,-2.6383475296990566,1.7934155760392843,1.5260262041631854,-3.022054669394991,0.5450170243983513,2.860780915306891,-2.6629392246050894,-1.1679974686188936,3.7482227253051033,-1.4569133971521457,-3.049430310118082,3.8416293936095887,0.5586945793258469,-4.697665430519735,2.847759065022573,3.2003836103746175,-5.637373760807662,0.5400875935212586,6.160883050906066,-5.318227502464957,-3.3105063210008825,9.055508299147832,-2.9615705608064604,-9.275778959298108,11.484518141741898,3.3775096106398355,-20.15943334432807,13.100248634550262,26.61532784896887,-76.38317137496382]}},\"id\":\"8bd114f0-96e2-4add-909e-b62c98c892fb\",\"type\":\"ColumnDataSource\"},{\"attributes\":{\"plot\":{\"id\":\"e21f6bd2-b6cc-44e9-920b-2ac42d370b70\",\"subtype\":\"Figure\",\"type\":\"Plot\"}},\"id\":\"89a4685b-839b-4e2c-8bcd-30c649d42939\",\"type\":\"PanTool\"},{\"attributes\":{\"plot\":{\"id\":\"7da7a74a-7cab-4da8-8e5c-5ccba23c8989\",\"subtype\":\"Figure\",\"type\":\"Plot\"},\"ticker\":{\"id\":\"22c98d96-80cc-40c7-98d4-ca3b374289bb\",\"type\":\"BasicTicker\"}},\"id\":\"a3b2aab1-7757-4513-aec7-9eb70f0582d1\",\"type\":\"Grid\"},{\"attributes\":{\"plot\":{\"id\":\"397dc733-a6c1-46ee-9856-b887503846e6\",\"subtype\":\"Figure\",\"type\":\"Plot\"},\"ticker\":{\"id\":\"cf965d6d-7683-4159-bdf2-3715ace00297\",\"type\":\"BasicTicker\"}},\"id\":\"0f8c525c-0475-40be-abf2-e18c6e2baed6\",\"type\":\"Grid\"},{\"attributes\":{\"dimension\":1,\"plot\":{\"id\":\"397dc733-a6c1-46ee-9856-b887503846e6\",\"subtype\":\"Figure\",\"type\":\"Plot\"},\"ticker\":{\"id\":\"c0e240d8-b9e3-49a4-acc2-d576b0fcdcb6\",\"type\":\"BasicTicker\"}},\"id\":\"a1b00532-1a62-4e40-94a5-41ff86b02505\",\"type\":\"Grid\"},{\"attributes\":{\"bottom_units\":\"screen\",\"fill_alpha\":{\"value\":0.5},\"fill_color\":{\"value\":\"lightgrey\"},\"left_units\":\"screen\",\"level\":\"overlay\",\"line_alpha\":{\"value\":1.0},\"line_color\":{\"value\":\"black\"},\"line_dash\":[4,4],\"line_width\":{\"value\":2},\"plot\":null,\"render_mode\":\"css\",\"right_units\":\"screen\",\"top_units\":\"screen\"},\"id\":\"a98c96f2-1691-4680-b337-26fc8b54bf9d\",\"type\":\"BoxAnnotation\"}],\"root_ids\":[\"7e4e924b-a8dc-4827-97c6-3466541ea867\"]},\"title\":\"Bokeh Application\",\"version\":\"0.12.0\"}};\n",
       "            var render_items = [{\"docid\":\"502e93d1-8b5b-45e5-a2bb-ef88a0d85f29\",\"elementid\":\"40ee5efd-6404-408a-88d1-062c2fc2b9c7\",\"modelid\":\"7e4e924b-a8dc-4827-97c6-3466541ea867\",\"notebook_comms_target\":\"9fe67d13-b018-4bac-ae8b-459a46ee9f08\"}];\n",
       "            \n",
       "            Bokeh.embed.embed_items(docs_json, render_items);\n",
       "        });\n",
       "      },\n",
       "      function(Bokeh) {\n",
       "      }\n",
       "    ];\n",
       "  \n",
       "    function run_inline_js() {\n",
       "      for (var i = 0; i < inline_js.length; i++) {\n",
       "        inline_js[i](window.Bokeh);\n",
       "      }\n",
       "    }\n",
       "  \n",
       "    if (window._bokeh_is_loading === 0) {\n",
       "      console.log(\"Bokeh: BokehJS loaded, going straight to plotting\");\n",
       "      run_inline_js();\n",
       "    } else {\n",
       "      load_libs(js_urls, function() {\n",
       "        console.log(\"Bokeh: BokehJS plotting callback run at\", now());\n",
       "        run_inline_js();\n",
       "      });\n",
       "    }\n",
       "  }(this));\n",
       "</script>"
      ]
     },
     "metadata": {},
     "output_type": "display_data"
    },
    {
     "data": {
      "text/html": [
       "<p><code>&lt;Bokeh Notebook handle for <strong>In[18]</strong>&gt;</code></p>"
      ],
      "text/plain": [
       "<bokeh.io._CommsHandle at 0x7f0894212390>"
      ]
     },
     "execution_count": 18,
     "metadata": {},
     "output_type": "execute_result"
    }
   ],
   "source": [
    "#inverse fourier transform back\n",
    "IFT_FT_top_hat = ifft(FT_top_hat)\n",
    "\n",
    "p4 = figure(height = 300, width = 300, title = 'Real Part of IFT{FT{top_hat}}', x_axis_label = 'time/s')\n",
    "q4 = p4.line(t, np.real(IFT_FT_top_hat))\n",
    "\n",
    "p5 = gridplot([[p2,p3,p4]])\n",
    "show(p5)"
   ]
  },
  {
   "cell_type": "code",
   "execution_count": 19,
   "metadata": {
    "collapsed": false,
    "run_control": {
     "frozen": false,
     "read_only": false
    }
   },
   "outputs": [],
   "source": [
    "def change_hat_width(hat_width):\n",
    "    top_hat = np.zeros(sample_no)\n",
    "    for i in range(sample_no):\n",
    "        if abs(i-int(sample_no/2)) < 0.5*hat_width:\n",
    "            top_hat[i] = 1.0\n",
    "    FT_top_hat = fft(top_hat)\n",
    "    IFT_FT_top_hat = ifft(FT_top_hat)\n",
    "    #update the data on the graphs\n",
    "    q2.data_source.data['y'] = top_hat\n",
    "    q3.data_source.data['y'] = np.real(FT_top_hat)\n",
    "    q4.data_source.data['y'] = np.real(IFT_FT_top_hat)\n",
    "    #push this change to the notebook\n",
    "    push_notebook()\n",
    "\n",
    "#create an interactive slider to control plot properties\n",
    "interact(change_hat_width, hat_width=widgets.IntSlider(min=0,max=sample_no,step=1,value=100));"
   ]
  },
  {
   "cell_type": "markdown",
   "metadata": {},
   "source": [
    "Even at low frequencies, the recovered function (right) appears to have little in common with the original (left). This is because the fourier transform (centre) is truncated by the finite length of the array, 256 in this case. This has the same effect as multiplying the fourier transform by a top hat of width 256 Hz, centred on 0 Hz.\n",
    "\n",
    "Consequently, `IFT{FT{top_hat}}` is the original `top_hat` convolved with a sinc function of high frequency.\n",
    "Q: What is this frequency?"
   ]
  },
  {
   "cell_type": "code",
   "execution_count": null,
   "metadata": {
    "collapsed": true,
    "run_control": {
     "frozen": false,
     "read_only": false
    }
   },
   "outputs": [],
   "source": []
  }
 ],
 "metadata": {
  "anaconda-cloud": {},
  "kernelspec": {
   "display_name": "Python 3",
   "language": "python",
   "name": "python3"
  },
  "language_info": {
   "codemirror_mode": {
    "name": "ipython",
    "version": 3
   },
   "file_extension": ".py",
   "mimetype": "text/x-python",
   "name": "python",
   "nbconvert_exporter": "python",
   "pygments_lexer": "ipython3",
   "version": "3.5.2"
  },
  "widgets": {
   "state": {
    "1eb13040a6ba46df909048e3ef4b5478": {
     "views": []
    },
    "219ea2a51d6a4a0c936e5038a5bd1a85": {
     "views": []
    },
    "2bd998a0cab8413488ab3718c917f086": {
     "views": []
    },
    "2eb74efe4aca4992bb58fb9e2851241e": {
     "views": []
    },
    "6b01b6d6d40049b2b11225297a7bdcc9": {
     "views": []
    },
    "72ef5e10dd514ac9bf902e55f90351d3": {
     "views": []
    },
    "75b4f9473c654542b02ea8b1443f01af": {
     "views": []
    },
    "7cfe2ebcff48400c8fe7fca8b5eb0f9f": {
     "views": []
    },
    "7ff179560ec94a94a4babf5bd1e641a0": {
     "views": []
    },
    "80185b36f6ff4beab2eef9e934b9759d": {
     "views": []
    },
    "85720655d8b14b7c95612693f794ea5f": {
     "views": []
    },
    "8c14a01f04494adea902c251b0e9e6c1": {
     "views": [
      {
       "cell_index": 9
      }
     ]
    },
    "942b563c8f644c029e1367833ff302f4": {
     "views": []
    },
    "9cd1bf7437c943b0af75700dcb8087fe": {
     "views": []
    },
    "b3fbafad37db4227acb13132e129c53c": {
     "views": []
    },
    "ba382598d40b410ebe5976978c50b68b": {
     "views": []
    },
    "bf87a90cfe8f41d39399248c46f188fd": {
     "views": [
      {
       "cell_index": 4
      }
     ]
    },
    "c09c72e7a6ae4800a5ece72186c62ff7": {
     "views": []
    },
    "c4b7f713412c478cb64475037773a06d": {
     "views": []
    },
    "def89f986ec046d48d41c008cd93680d": {
     "views": []
    },
    "e58c8734a6e34687a5e842ec4b4b068d": {
     "views": []
    },
    "ee2e16dc8eec4e3b91619c2f856d2ddf": {
     "views": []
    },
    "ef2ebe0808984d76a0e9263918e85a56": {
     "views": []
    },
    "ff413818691c4ffb967115676977052b": {
     "views": []
    }
   },
   "version": "1.1.2"
  }
 },
 "nbformat": 4,
 "nbformat_minor": 0
}
