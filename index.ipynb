{
 "cells": [
  {
   "cell_type": "markdown",
   "metadata": {},
   "source": [
    "# PyCav Data Notebooks\n","\n",
"\n",
"[Aliasing\n](./Aliasing.ipynb): Demonstrates aliasing and the use of fast Fourier transforms.\n\n",
"\n",
"\n",
"[Time Period of an Exoplanet Orbit\n](./exoplanets.ipynb): Demonstrates importing, cleaning and finding best fits to data.\n\n",
"\n",
"\n",
"[Singular Value Decomposition\n](./ParameterEstimationSVD.ipynb): Matrix manipulation, finding the pseudo-inverse of a matrix, and parameter fitting.\n\n",
"\n",
"\n",
"[Poisson Distribution\n](./PoissonStatistics.ipynb): Plotting the Poisson distribution.\n\n",
"\n",
"\n"
   ]
  }
 ],
 "metadata": {
  "kernelspec": {
   "display_name": "Python 3",
   "language": "python",
   "name": "python3"
  },
  "language_info": {
   "codemirror_mode": {
    "name": "ipython",
    "version": 3
   },
   "file_extension": ".py",
   "mimetype": "text/x-python",
   "name": "python",
   "nbconvert_exporter": "python",
   "pygments_lexer": "ipython3",
   "version": "3.5.1"
  },
  "widgets": {
   "state": {},
   "version": "1.1.2"
  }
 },
 "nbformat": 4,
 "nbformat_minor": 0
}
