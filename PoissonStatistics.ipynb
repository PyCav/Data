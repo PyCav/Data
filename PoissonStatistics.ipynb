{
 "cells": [
  {
   "cell_type": "markdown",
   "metadata": {},
   "source": [
    "# Poisson Distribution\n",
    "**Learning objectives: poisson statistics, formatting graphs, creating interactive graphs.**\n",
    "\n",
    "The Poisson distribution gives the probability of a certain number of counts per interval for random, independent events. For example, the number of stars visible per unit solid angle of sky, or the number of photons received from a star per second.\n",
    "\n",
    "If the mean number of events is $\\lambda$, the probability distribution is:\n",
    "$$P(k) = \\frac{\\lambda^k e^{-\\lambda}}{k!},$$\n",
    "where $k$ is the number of counts per interval."
   ]
  },
  {
   "cell_type": "code",
   "execution_count": 1,
   "metadata": {
    "collapsed": false
   },
   "outputs": [],
   "source": [
    "import numpy as np\n",
    "from scipy.misc import factorial\n",
    "\n",
    "from ipywidgets import interact\n",
    "from bokeh.plotting import figure, show\n",
    "from bokeh.io import push_notebook, output_notebook\n",
    "from IPython.display import display"
   ]
  },
  {
   "cell_type": "code",
   "execution_count": 2,
   "metadata": {
    "collapsed": false
   },
   "outputs": [
    {
     "data": {
      "text/html": [
       "\n",
       "    <div class=\"bk-root\">\n",
       "        <a href=\"http://bokeh.pydata.org\" target=\"_blank\" class=\"bk-logo bk-logo-small bk-logo-notebook\"></a>\n",
       "        <span id=\"023729b8-e532-41f1-8139-bccf242530b7\">Loading BokehJS ...</span>\n",
       "    </div>"
      ]
     },
     "metadata": {},
     "output_type": "display_data"
    },
    {
     "data": {
      "application/javascript": [
       "\n",
       "(function(global) {\n",
       "  function now() {\n",
       "    return new Date();\n",
       "  }\n",
       "\n",
       "  if (typeof (window._bokeh_onload_callbacks) === \"undefined\") {\n",
       "    window._bokeh_onload_callbacks = [];\n",
       "  }\n",
       "\n",
       "  function run_callbacks() {\n",
       "    window._bokeh_onload_callbacks.forEach(function(callback) { callback() });\n",
       "    delete window._bokeh_onload_callbacks\n",
       "    console.info(\"Bokeh: all callbacks have finished\");\n",
       "  }\n",
       "\n",
       "  function load_libs(js_urls, callback) {\n",
       "    window._bokeh_onload_callbacks.push(callback);\n",
       "    if (window._bokeh_is_loading > 0) {\n",
       "      console.log(\"Bokeh: BokehJS is being loaded, scheduling callback at\", now());\n",
       "      return null;\n",
       "    }\n",
       "    if (js_urls == null || js_urls.length === 0) {\n",
       "      run_callbacks();\n",
       "      return null;\n",
       "    }\n",
       "    console.log(\"Bokeh: BokehJS not loaded, scheduling load and callback at\", now());\n",
       "    window._bokeh_is_loading = js_urls.length;\n",
       "    for (var i = 0; i < js_urls.length; i++) {\n",
       "      var url = js_urls[i];\n",
       "      var s = document.createElement('script');\n",
       "      s.src = url;\n",
       "      s.async = false;\n",
       "      s.onreadystatechange = s.onload = function() {\n",
       "        window._bokeh_is_loading--;\n",
       "        if (window._bokeh_is_loading === 0) {\n",
       "          console.log(\"Bokeh: all BokehJS libraries loaded\");\n",
       "          run_callbacks()\n",
       "        }\n",
       "      };\n",
       "      s.onerror = function() {\n",
       "        console.warn(\"failed to load library \" + url);\n",
       "      };\n",
       "      console.log(\"Bokeh: injecting script tag for BokehJS library: \", url);\n",
       "      document.getElementsByTagName(\"head\")[0].appendChild(s);\n",
       "    }\n",
       "  };\n",
       "\n",
       "  var js_urls = ['https://cdn.pydata.org/bokeh/release/bokeh-0.12.0.min.js', 'https://cdn.pydata.org/bokeh/release/bokeh-widgets-0.12.0.min.js', 'https://cdn.pydata.org/bokeh/release/bokeh-compiler-0.12.0.min.js'];\n",
       "\n",
       "  var inline_js = [\n",
       "    function(Bokeh) {\n",
       "      Bokeh.set_log_level(\"info\");\n",
       "    },\n",
       "    \n",
       "    function(Bokeh) {\n",
       "      Bokeh.$(\"#023729b8-e532-41f1-8139-bccf242530b7\").text(\"BokehJS successfully loaded\");\n",
       "    },\n",
       "    function(Bokeh) {\n",
       "      console.log(\"Bokeh: injecting CSS: https://cdn.pydata.org/bokeh/release/bokeh-0.12.0.min.css\");\n",
       "      Bokeh.embed.inject_css(\"https://cdn.pydata.org/bokeh/release/bokeh-0.12.0.min.css\");\n",
       "      console.log(\"Bokeh: injecting CSS: https://cdn.pydata.org/bokeh/release/bokeh-widgets-0.12.0.min.css\");\n",
       "      Bokeh.embed.inject_css(\"https://cdn.pydata.org/bokeh/release/bokeh-widgets-0.12.0.min.css\");\n",
       "    }\n",
       "  ];\n",
       "\n",
       "  function run_inline_js() {\n",
       "    for (var i = 0; i < inline_js.length; i++) {\n",
       "      inline_js[i](window.Bokeh);\n",
       "    }\n",
       "  }\n",
       "\n",
       "  if (window._bokeh_is_loading === 0) {\n",
       "    console.log(\"Bokeh: BokehJS loaded, going straight to plotting\");\n",
       "    run_inline_js();\n",
       "  } else {\n",
       "    load_libs(js_urls, function() {\n",
       "      console.log(\"Bokeh: BokehJS plotting callback run at\", now());\n",
       "      run_inline_js();\n",
       "    });\n",
       "  }\n",
       "}(this));"
      ]
     },
     "metadata": {},
     "output_type": "display_data"
    }
   ],
   "source": [
    "#allow for inline plotting in the notebook\n",
    "output_notebook()"
   ]
  },
  {
   "cell_type": "code",
   "execution_count": 3,
   "metadata": {
    "collapsed": true
   },
   "outputs": [],
   "source": [
    "#initialise the poisson distribution\n",
    "mean = 5.0\n",
    "count_range = 20 #x axis range\n",
    "count = [i for i in range(count_range)] #number of events\n",
    "\n",
    "def generate_poisson(mean):\n",
    "    probability = np.power(mean, count)*np.exp(-mean)/factorial(count) #probability of 'count'\n",
    "    return probability"
   ]
  },
  {
   "cell_type": "code",
   "execution_count": 7,
   "metadata": {
    "collapsed": false
   },
   "outputs": [
    {
     "data": {
      "text/html": [
       "\n",
       "\n",
       "    <div class=\"bk-root\">\n",
       "        <div class=\"plotdiv\" id=\"d862e895-69bd-4fbe-b879-7bc5ce6ed62d\"></div>\n",
       "    </div>\n",
       "<script type=\"text/javascript\">\n",
       "  \n",
       "  (function(global) {\n",
       "    function now() {\n",
       "      return new Date();\n",
       "    }\n",
       "  \n",
       "    if (typeof (window._bokeh_onload_callbacks) === \"undefined\") {\n",
       "      window._bokeh_onload_callbacks = [];\n",
       "    }\n",
       "  \n",
       "    function run_callbacks() {\n",
       "      window._bokeh_onload_callbacks.forEach(function(callback) { callback() });\n",
       "      delete window._bokeh_onload_callbacks\n",
       "      console.info(\"Bokeh: all callbacks have finished\");\n",
       "    }\n",
       "  \n",
       "    function load_libs(js_urls, callback) {\n",
       "      window._bokeh_onload_callbacks.push(callback);\n",
       "      if (window._bokeh_is_loading > 0) {\n",
       "        console.log(\"Bokeh: BokehJS is being loaded, scheduling callback at\", now());\n",
       "        return null;\n",
       "      }\n",
       "      if (js_urls == null || js_urls.length === 0) {\n",
       "        run_callbacks();\n",
       "        return null;\n",
       "      }\n",
       "      console.log(\"Bokeh: BokehJS not loaded, scheduling load and callback at\", now());\n",
       "      window._bokeh_is_loading = js_urls.length;\n",
       "      for (var i = 0; i < js_urls.length; i++) {\n",
       "        var url = js_urls[i];\n",
       "        var s = document.createElement('script');\n",
       "        s.src = url;\n",
       "        s.async = false;\n",
       "        s.onreadystatechange = s.onload = function() {\n",
       "          window._bokeh_is_loading--;\n",
       "          if (window._bokeh_is_loading === 0) {\n",
       "            console.log(\"Bokeh: all BokehJS libraries loaded\");\n",
       "            run_callbacks()\n",
       "          }\n",
       "        };\n",
       "        s.onerror = function() {\n",
       "          console.warn(\"failed to load library \" + url);\n",
       "        };\n",
       "        console.log(\"Bokeh: injecting script tag for BokehJS library: \", url);\n",
       "        document.getElementsByTagName(\"head\")[0].appendChild(s);\n",
       "      }\n",
       "    };var element = document.getElementById(\"d862e895-69bd-4fbe-b879-7bc5ce6ed62d\");\n",
       "    if (element == null) {\n",
       "      console.log(\"Bokeh: ERROR: autoload.js configured with elementid 'd862e895-69bd-4fbe-b879-7bc5ce6ed62d' but no matching script tag was found. \")\n",
       "      return false;\n",
       "    }\n",
       "  \n",
       "    var js_urls = [];\n",
       "  \n",
       "    var inline_js = [\n",
       "      function(Bokeh) {\n",
       "        Bokeh.$(function() {\n",
       "            var docs_json = {\"6ab8409b-4c2b-48b2-8de2-d98e652faecc\":{\"roots\":{\"references\":[{\"attributes\":{\"axis_label\":\"probability\",\"formatter\":{\"id\":\"7761f47e-b601-4791-9ec5-c34be1e5a960\",\"type\":\"BasicTickFormatter\"},\"plot\":{\"id\":\"a407b3de-a3fe-4081-9f80-11e2dc0e6834\",\"subtype\":\"Figure\",\"type\":\"Plot\"},\"ticker\":{\"id\":\"40c20856-9fd8-42f4-a65e-e164e4e795f8\",\"type\":\"BasicTicker\"}},\"id\":\"86d0d76a-4c3c-43a5-b0b9-1395d5a3b29d\",\"type\":\"LinearAxis\"},{\"attributes\":{\"fill_alpha\":{\"value\":0.1},\"fill_color\":{\"value\":\"#1f77b4\"},\"line_alpha\":{\"value\":0.1},\"line_color\":{\"value\":\"#1f77b4\"},\"size\":{\"units\":\"screen\",\"value\":8},\"x\":{\"field\":\"x\"},\"y\":{\"field\":\"y\"}},\"id\":\"d3291146-0536-45aa-aa95-219d5eb91712\",\"type\":\"Circle\"},{\"attributes\":{\"data_source\":{\"id\":\"22fd615d-61ac-44c9-b7e4-bc5dc297ed8b\",\"type\":\"ColumnDataSource\"},\"glyph\":{\"id\":\"c967385d-13e0-44e5-a285-5b60fe1b8ea6\",\"type\":\"Circle\"},\"hover_glyph\":null,\"nonselection_glyph\":{\"id\":\"d3291146-0536-45aa-aa95-219d5eb91712\",\"type\":\"Circle\"},\"selection_glyph\":null},\"id\":\"84e556e1-1cb8-43fa-80d2-923b3087e7fb\",\"type\":\"GlyphRenderer\"},{\"attributes\":{\"plot\":{\"id\":\"a407b3de-a3fe-4081-9f80-11e2dc0e6834\",\"subtype\":\"Figure\",\"type\":\"Plot\"}},\"id\":\"5041ee01-59ea-431e-b4ff-29d9d9755787\",\"type\":\"ResetTool\"},{\"attributes\":{\"plot\":{\"id\":\"a407b3de-a3fe-4081-9f80-11e2dc0e6834\",\"subtype\":\"Figure\",\"type\":\"Plot\"}},\"id\":\"a517fefb-4303-4cbe-b3e1-a7808d0dd359\",\"type\":\"PanTool\"},{\"attributes\":{\"plot\":{\"id\":\"a407b3de-a3fe-4081-9f80-11e2dc0e6834\",\"subtype\":\"Figure\",\"type\":\"Plot\"}},\"id\":\"5e751b54-2109-4256-a0fb-7cbc2f101f61\",\"type\":\"WheelZoomTool\"},{\"attributes\":{},\"id\":\"7761f47e-b601-4791-9ec5-c34be1e5a960\",\"type\":\"BasicTickFormatter\"},{\"attributes\":{},\"id\":\"2236cfae-1b07-4ae0-baf7-9bda1401729a\",\"type\":\"ToolEvents\"},{\"attributes\":{\"axis_label\":\"counts per interval\",\"formatter\":{\"id\":\"361d9d99-b599-43b1-9d53-11de8995073b\",\"type\":\"BasicTickFormatter\"},\"plot\":{\"id\":\"a407b3de-a3fe-4081-9f80-11e2dc0e6834\",\"subtype\":\"Figure\",\"type\":\"Plot\"},\"ticker\":{\"id\":\"e5ca02bf-d974-4d5a-ba53-d86291279c14\",\"type\":\"BasicTicker\"}},\"id\":\"98bffcdd-8a8a-4da9-807f-0a3c4c8d8342\",\"type\":\"LinearAxis\"},{\"attributes\":{\"bottom_units\":\"screen\",\"fill_alpha\":{\"value\":0.5},\"fill_color\":{\"value\":\"lightgrey\"},\"left_units\":\"screen\",\"level\":\"overlay\",\"line_alpha\":{\"value\":1.0},\"line_color\":{\"value\":\"black\"},\"line_dash\":[4,4],\"line_width\":{\"value\":2},\"plot\":null,\"render_mode\":\"css\",\"right_units\":\"screen\",\"top_units\":\"screen\"},\"id\":\"cd9bd9e4-5cc8-42b6-b5ae-0b1475f5380e\",\"type\":\"BoxAnnotation\"},{\"attributes\":{\"plot\":null,\"text\":\"Poisson Distribution\"},\"id\":\"060831f6-f898-4f2f-aac7-25870cd7fbed\",\"type\":\"Title\"},{\"attributes\":{},\"id\":\"40c20856-9fd8-42f4-a65e-e164e4e795f8\",\"type\":\"BasicTicker\"},{\"attributes\":{\"callback\":null},\"id\":\"8f5ef6fe-bc4a-4236-8e89-858e01de86d1\",\"type\":\"DataRange1d\"},{\"attributes\":{\"callback\":null,\"end\":0.5},\"id\":\"7a1b232e-62e6-45c2-a2a7-22926e030a86\",\"type\":\"Range1d\"},{\"attributes\":{\"plot\":{\"id\":\"a407b3de-a3fe-4081-9f80-11e2dc0e6834\",\"subtype\":\"Figure\",\"type\":\"Plot\"}},\"id\":\"0fc2f566-a66a-434e-bd2f-221bcf21228d\",\"type\":\"HelpTool\"},{\"attributes\":{},\"id\":\"e5ca02bf-d974-4d5a-ba53-d86291279c14\",\"type\":\"BasicTicker\"},{\"attributes\":{\"callback\":null,\"column_names\":[\"y\",\"x\"],\"data\":{\"x\":[0,1,2,3,4,5,6,7,8,9,10,11,12,13,14,15,16,17,18,19],\"y\":[0.006737946999085467,0.03368973499542734,0.08422433748856833,0.14037389581428056,0.1754673697678507,0.1754673697678507,0.1462228081398756,0.104444862957054,0.06527803934815875,0.03626557741564375,0.01813278870782187,0.00824217668537358,0.0034342402855723248,0.0013208616482970478,0.00047173630296323143,0.00015724543432107713,4.91391982253366e-05,1.4452705360393119e-05,4.014640377886977e-06,1.0564843099702573e-06]}},\"id\":\"22fd615d-61ac-44c9-b7e4-bc5dc297ed8b\",\"type\":\"ColumnDataSource\"},{\"attributes\":{\"below\":[{\"id\":\"98bffcdd-8a8a-4da9-807f-0a3c4c8d8342\",\"type\":\"LinearAxis\"}],\"left\":[{\"id\":\"86d0d76a-4c3c-43a5-b0b9-1395d5a3b29d\",\"type\":\"LinearAxis\"}],\"plot_height\":450,\"renderers\":[{\"id\":\"98bffcdd-8a8a-4da9-807f-0a3c4c8d8342\",\"type\":\"LinearAxis\"},{\"id\":\"35c85aca-f7ca-4809-98a8-b2a1c7b7982b\",\"type\":\"Grid\"},{\"id\":\"86d0d76a-4c3c-43a5-b0b9-1395d5a3b29d\",\"type\":\"LinearAxis\"},{\"id\":\"6b67f878-e838-404e-a429-e4559d33d15a\",\"type\":\"Grid\"},{\"id\":\"cd9bd9e4-5cc8-42b6-b5ae-0b1475f5380e\",\"type\":\"BoxAnnotation\"},{\"id\":\"84e556e1-1cb8-43fa-80d2-923b3087e7fb\",\"type\":\"GlyphRenderer\"}],\"title\":{\"id\":\"060831f6-f898-4f2f-aac7-25870cd7fbed\",\"type\":\"Title\"},\"tool_events\":{\"id\":\"2236cfae-1b07-4ae0-baf7-9bda1401729a\",\"type\":\"ToolEvents\"},\"toolbar\":{\"id\":\"169a7828-5a37-4a12-bc84-4f657f77fdf2\",\"type\":\"Toolbar\"},\"x_range\":{\"id\":\"8f5ef6fe-bc4a-4236-8e89-858e01de86d1\",\"type\":\"DataRange1d\"},\"y_range\":{\"id\":\"7a1b232e-62e6-45c2-a2a7-22926e030a86\",\"type\":\"Range1d\"}},\"id\":\"a407b3de-a3fe-4081-9f80-11e2dc0e6834\",\"subtype\":\"Figure\",\"type\":\"Plot\"},{\"attributes\":{},\"id\":\"361d9d99-b599-43b1-9d53-11de8995073b\",\"type\":\"BasicTickFormatter\"},{\"attributes\":{\"active_drag\":\"auto\",\"active_scroll\":\"auto\",\"active_tap\":\"auto\",\"tools\":[{\"id\":\"a517fefb-4303-4cbe-b3e1-a7808d0dd359\",\"type\":\"PanTool\"},{\"id\":\"5e751b54-2109-4256-a0fb-7cbc2f101f61\",\"type\":\"WheelZoomTool\"},{\"id\":\"674b173b-1e4e-45df-a783-0d6aebdc6fcf\",\"type\":\"BoxZoomTool\"},{\"id\":\"b6ebfba1-69cc-4ef0-9aa7-c2f42854ec81\",\"type\":\"SaveTool\"},{\"id\":\"5041ee01-59ea-431e-b4ff-29d9d9755787\",\"type\":\"ResetTool\"},{\"id\":\"0fc2f566-a66a-434e-bd2f-221bcf21228d\",\"type\":\"HelpTool\"}]},\"id\":\"169a7828-5a37-4a12-bc84-4f657f77fdf2\",\"type\":\"Toolbar\"},{\"attributes\":{\"overlay\":{\"id\":\"cd9bd9e4-5cc8-42b6-b5ae-0b1475f5380e\",\"type\":\"BoxAnnotation\"},\"plot\":{\"id\":\"a407b3de-a3fe-4081-9f80-11e2dc0e6834\",\"subtype\":\"Figure\",\"type\":\"Plot\"}},\"id\":\"674b173b-1e4e-45df-a783-0d6aebdc6fcf\",\"type\":\"BoxZoomTool\"},{\"attributes\":{\"plot\":{\"id\":\"a407b3de-a3fe-4081-9f80-11e2dc0e6834\",\"subtype\":\"Figure\",\"type\":\"Plot\"}},\"id\":\"b6ebfba1-69cc-4ef0-9aa7-c2f42854ec81\",\"type\":\"SaveTool\"},{\"attributes\":{\"plot\":{\"id\":\"a407b3de-a3fe-4081-9f80-11e2dc0e6834\",\"subtype\":\"Figure\",\"type\":\"Plot\"},\"ticker\":{\"id\":\"e5ca02bf-d974-4d5a-ba53-d86291279c14\",\"type\":\"BasicTicker\"}},\"id\":\"35c85aca-f7ca-4809-98a8-b2a1c7b7982b\",\"type\":\"Grid\"},{\"attributes\":{\"fill_color\":{\"value\":\"indigo\"},\"line_color\":{\"value\":null},\"size\":{\"units\":\"screen\",\"value\":8},\"x\":{\"field\":\"x\"},\"y\":{\"field\":\"y\"}},\"id\":\"c967385d-13e0-44e5-a285-5b60fe1b8ea6\",\"type\":\"Circle\"},{\"attributes\":{\"dimension\":1,\"plot\":{\"id\":\"a407b3de-a3fe-4081-9f80-11e2dc0e6834\",\"subtype\":\"Figure\",\"type\":\"Plot\"},\"ticker\":{\"id\":\"40c20856-9fd8-42f4-a65e-e164e4e795f8\",\"type\":\"BasicTicker\"}},\"id\":\"6b67f878-e838-404e-a429-e4559d33d15a\",\"type\":\"Grid\"}],\"root_ids\":[\"a407b3de-a3fe-4081-9f80-11e2dc0e6834\"]},\"title\":\"Bokeh Application\",\"version\":\"0.12.0\"}};\n",
       "            var render_items = [{\"docid\":\"6ab8409b-4c2b-48b2-8de2-d98e652faecc\",\"elementid\":\"d862e895-69bd-4fbe-b879-7bc5ce6ed62d\",\"modelid\":\"a407b3de-a3fe-4081-9f80-11e2dc0e6834\",\"notebook_comms_target\":\"338ca2f3-06a9-47a2-a6aa-7a3dd83b3bde\"}];\n",
       "            \n",
       "            Bokeh.embed.embed_items(docs_json, render_items);\n",
       "        });\n",
       "      },\n",
       "      function(Bokeh) {\n",
       "      }\n",
       "    ];\n",
       "  \n",
       "    function run_inline_js() {\n",
       "      for (var i = 0; i < inline_js.length; i++) {\n",
       "        inline_js[i](window.Bokeh);\n",
       "      }\n",
       "    }\n",
       "  \n",
       "    if (window._bokeh_is_loading === 0) {\n",
       "      console.log(\"Bokeh: BokehJS loaded, going straight to plotting\");\n",
       "      run_inline_js();\n",
       "    } else {\n",
       "      load_libs(js_urls, function() {\n",
       "        console.log(\"Bokeh: BokehJS plotting callback run at\", now());\n",
       "        run_inline_js();\n",
       "      });\n",
       "    }\n",
       "  }(this));\n",
       "</script>"
      ]
     },
     "metadata": {},
     "output_type": "display_data"
    }
   ],
   "source": [
    "#set up the plot\n",
    "p = figure(title=\"Poisson Distribution\", plot_height = 450, plot_width = 600, y_range = (0,0.5))\n",
    "p.grid #grid background\n",
    "\n",
    "p.xaxis.axis_label = \"counts per interval\"\n",
    "p.yaxis.axis_label = \"probability\"\n",
    "\n",
    "#plot the data\n",
    "y = generate_poisson(mean) #initialise plot's y-data\n",
    "poisson = p.circle(count, y, size = 8, fill_color = 'indigo', line_color = None)\n",
    "show(p)\n",
    "\n",
    "def update(mean):\n",
    "    #update the plot data\n",
    "    poisson.data_source.data['y'] = generate_poisson(mean)\n",
    "    #push these changes to the notebook\n",
    "    push_notebook()"
   ]
  },
  {
   "cell_type": "code",
   "execution_count": 8,
   "metadata": {
    "collapsed": false
   },
   "outputs": [],
   "source": [
    "#create a slider which calls the function 'update'\n",
    "#and passes 'mean' to it as an argument\n",
    "interact(update, mean=(0.0,count_range))"
   ]
  },
  {
   "cell_type": "markdown",
   "metadata": {},
   "source": [
    "As the mean number of counts per interval increases, the distribution becomes Gaussian:\n",
    "$$P(k) = \\frac{\\lambda^k e^{-\\lambda}}{k!} \\longrightarrow \\frac{1}{\\sqrt{2\\pi\\lambda}}exp\\big(-\\frac{(k-\\lambda)^2}{2\\lambda}\\big)$$"
   ]
  }
 ],
 "metadata": {
  "anaconda-cloud": {},
  "kernelspec": {
   "display_name": "Python [Root]",
   "language": "python",
   "name": "Python [Root]"
  },
  "language_info": {
   "codemirror_mode": {
    "name": "ipython",
    "version": 3
   },
   "file_extension": ".py",
   "mimetype": "text/x-python",
   "name": "python",
   "nbconvert_exporter": "python",
   "pygments_lexer": "ipython3",
   "version": "3.5.2"
  }
 },
 "nbformat": 4,
 "nbformat_minor": 0
}
